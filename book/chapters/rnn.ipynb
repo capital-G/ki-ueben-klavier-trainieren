{
 "cells": [
  {
   "cell_type": "markdown",
   "metadata": {},
   "source": [
    "# Recursive learning of patterns via RNN\n",
    "\n",
    "After we have learned to predict the next note via a neural network, it still lacks the capability to\n",
    "\n",
    "* understand and predict \n",
    "* has no sense of time\n",
    "* is not aware of velocity/amplitude of a note\n",
    "\n"
   ]
  },
  {
   "cell_type": "code",
   "execution_count": 1,
   "metadata": {
    "metadata": {}
   },
   "outputs": [],
   "source": [
    "import lightning as L\n",
    "import numpy as np\n",
    "import torch\n",
    "from ki_ueben.datasets import Maestro3Dataset\n",
    "from ki_ueben.midi import PianoRoll\n",
    "from torch import nn, optim"
   ]
  },
  {
   "cell_type": "markdown",
   "metadata": {},
   "source": [
    "Start by loading the dataset."
   ]
  },
  {
   "cell_type": "markdown",
   "metadata": {},
   "source": [
    "Extract the events within a MIDI file through the `PianoRoll` class."
   ]
  },
  {
   "cell_type": "code",
   "execution_count": 2,
   "metadata": {},
   "outputs": [
    {
     "name": "stdout",
     "output_type": "stream",
     "text": [
      "BasicRecursionNet(\n",
      "  (rnn): RNN(89, 40, num_layers=2, batch_first=True)\n",
      "  (fc): Linear(in_features=40, out_features=89, bias=True)\n",
      "  (criterion): BCEWithLogitsLoss()\n",
      ")\n"
     ]
    }
   ],
   "source": [
    "import lightning as L\n",
    "from torch import nn, optim\n",
    "\n",
    "\n",
    "class BasicRecursionNet(L.LightningModule):\n",
    "    def __init__(\n",
    "        self,\n",
    "        input_size: int,\n",
    "        hidden_size: int,\n",
    "        output_size: int,\n",
    "        num_layers: int = 1\n",
    "    ):\n",
    "        super().__init__()\n",
    "        self.rnn = nn.RNN(\n",
    "            input_size=input_size,\n",
    "            hidden_size=hidden_size,\n",
    "            num_layers=num_layers,\n",
    "            batch_first=True,\n",
    "        )\n",
    "        self.fc = nn.Linear(hidden_size, output_size)\n",
    "        \n",
    "        self.criterion = nn.BCEWithLogitsLoss()\n",
    "    \n",
    "    def forward(self, x):\n",
    "        rnn_out, _ = self.rnn(x)\n",
    "        # only use output from last step of our rnn sequence\n",
    "        output = self.fc(rnn_out[:, -1, :])\n",
    "        return output\n",
    "\n",
    "    def training_step(self, batch, batch_idx):\n",
    "        x, y = batch\n",
    "        y_hat = self(x)\n",
    "        loss = self.criterion(y_hat, y.squeeze(1))\n",
    "        self.log(\"train_loss\", loss, prog_bar=True)\n",
    "        return loss\n",
    "\n",
    "    # def test_step(self, batch, batch_idx):\n",
    "    #     x, y = batch\n",
    "    #     z = self.net(x)\n",
    "    #     test_loss = self.criterion(z, y)\n",
    "    #     self.log(\"test_loss\", test_loss)\n",
    "\n",
    "    def configure_optimizers(self):\n",
    "        return optim.Adam(self.parameters(), lr=1e-4)\n",
    "\n",
    "\n",
    "basic_recursion_net = BasicRecursionNet(\n",
    "    input_size=89,\n",
    "    output_size=89,\n",
    "    hidden_size=40,\n",
    "    num_layers=2,\n",
    ")\n",
    "\n",
    "print(basic_recursion_net)"
   ]
  },
  {
   "cell_type": "code",
   "execution_count": 15,
   "metadata": {},
   "outputs": [],
   "source": [
    "from ki_ueben.datasets import Maestro3Dataset, PianoRollDataset\n",
    "from torch.utils.data import DataLoader\n",
    "\n",
    "WINDOW_SIZE = 50\n",
    "\n",
    "piano_roll_dataset = PianoRollDataset(\n",
    "    # limit the number of MIDI files\n",
    "    midi_files=Maestro3Dataset().midi_file_paths[0:16*8],\n",
    "    window_size=WINDOW_SIZE,\n",
    ")"
   ]
  },
  {
   "cell_type": "code",
   "execution_count": 5,
   "metadata": {},
   "outputs": [
    {
     "data": {
      "text/plain": [
       "(tensor([[1., 0., 0.,  ..., 0., 0., 0.],\n",
       "         [1., 0., 0.,  ..., 0., 0., 0.],\n",
       "         [1., 0., 0.,  ..., 0., 0., 0.],\n",
       "         ...,\n",
       "         [1., 0., 0.,  ..., 0., 0., 0.],\n",
       "         [1., 0., 0.,  ..., 0., 0., 0.],\n",
       "         [1., 0., 0.,  ..., 0., 0., 0.]]),\n",
       " tensor([[1., 0., 0., 0., 0., 0., 0., 0., 0., 0., 0., 0., 0., 0., 0., 0., 0., 0.,\n",
       "          0., 0., 1., 0., 0., 0., 0., 0., 0., 0., 0., 1., 0., 0., 0., 0., 0., 0.,\n",
       "          0., 0., 0., 0., 0., 0., 0., 0., 0., 0., 0., 0., 0., 0., 0., 0., 0., 0.,\n",
       "          0., 0., 0., 0., 0., 0., 0., 1., 0., 0., 0., 0., 0., 0., 0., 0., 0., 0.,\n",
       "          0., 0., 0., 0., 0., 0., 0., 0., 0., 0., 0., 0., 0., 0., 0., 0., 0.]]))"
      ]
     },
     "execution_count": 5,
     "metadata": {},
     "output_type": "execute_result"
    }
   ],
   "source": [
    "for sample in piano_roll_dataset:\n",
    "    piano_roll_sample = sample\n",
    "    break\n",
    "piano_roll_sample"
   ]
  },
  {
   "cell_type": "code",
   "execution_count": 6,
   "metadata": {},
   "outputs": [
    {
     "name": "stderr",
     "output_type": "stream",
     "text": [
      "/home/dennis/git/ki-ueben-klavier-trainieren/venv/lib/python3.10/site-packages/torch/utils/data/dataloader.py:558: UserWarning: This DataLoader will create 32 worker processes in total. Our suggested max number of worker in current system is 16, which is smaller than what this DataLoader is going to create. Please be aware that excessive worker creation might get DataLoader running slow or even freeze, lower the worker number to avoid potential slowness/freeze if necessary.\n",
      "  warnings.warn(_create_warning_msg(\n"
     ]
    }
   ],
   "source": [
    "context_data_loader = DataLoader(piano_roll_dataset, batch_size=256, num_workers=32)"
   ]
  },
  {
   "cell_type": "code",
   "execution_count": 7,
   "metadata": {},
   "outputs": [
    {
     "name": "stderr",
     "output_type": "stream",
     "text": [
      "GPU available: True (cuda), used: True\n",
      "TPU available: False, using: 0 TPU cores\n",
      "HPU available: False, using: 0 HPUs\n",
      "/home/dennis/git/ki-ueben-klavier-trainieren/venv/lib/python3.10/site-packages/lightning_fabric/loggers/csv_logs.py:268: Experiment logs directory logs/basic_recursion_net/version_0 exists and is not empty. Previous log files in this directory will be deleted when the new ones are saved!\n",
      "/home/dennis/git/ki-ueben-klavier-trainieren/venv/lib/python3.10/site-packages/lightning/pytorch/callbacks/model_checkpoint.py:654: Checkpoint directory logs/basic_recursion_net/version_0/checkpoints exists and is not empty.\n",
      "LOCAL_RANK: 0 - CUDA_VISIBLE_DEVICES: [0]\n",
      "\n",
      "  | Name      | Type              | Params | Mode \n",
      "--------------------------------------------------------\n",
      "0 | rnn       | RNN               | 8.5 K  | train\n",
      "1 | fc        | Linear            | 3.6 K  | train\n",
      "2 | criterion | BCEWithLogitsLoss | 0      | train\n",
      "--------------------------------------------------------\n",
      "12.2 K    Trainable params\n",
      "0         Non-trainable params\n",
      "12.2 K    Total params\n",
      "0.049     Total estimated model params size (MB)\n",
      "3         Modules in train mode\n",
      "0         Modules in eval mode\n",
      "/home/dennis/git/ki-ueben-klavier-trainieren/venv/lib/python3.10/site-packages/torch/utils/data/dataloader.py:558: UserWarning: This DataLoader will create 32 worker processes in total. Our suggested max number of worker in current system is 16, which is smaller than what this DataLoader is going to create. Please be aware that excessive worker creation might get DataLoader running slow or even freeze, lower the worker number to avoid potential slowness/freeze if necessary.\n",
      "  warnings.warn(_create_warning_msg(\n"
     ]
    },
    {
     "name": "stdout",
     "output_type": "stream",
     "text": [
      "Epoch 4: |          | 14514/? [03:13<00:00, 74.97it/s, v_num=0, train_loss=0.00218]"
     ]
    },
    {
     "name": "stderr",
     "output_type": "stream",
     "text": [
      "`Trainer.fit` stopped: `max_epochs=5` reached.\n"
     ]
    },
    {
     "name": "stdout",
     "output_type": "stream",
     "text": [
      "Epoch 4: |          | 14514/? [03:13<00:00, 74.97it/s, v_num=0, train_loss=0.00218]\n"
     ]
    }
   ],
   "source": [
    "from pytorch_lightning.loggers import CSVLogger\n",
    "import torch \n",
    "\n",
    "# for tensor cores\n",
    "torch.set_float32_matmul_precision('high')\n",
    "\n",
    "simple_trainer = L.Trainer(\n",
    "    max_epochs=5, logger=[CSVLogger(save_dir=\"logs\", name=\"basic_recursion_net\", version=0)]\n",
    ")\n",
    "simple_trainer.fit(model=basic_recursion_net, train_dataloaders=context_data_loader)"
   ]
  },
  {
   "cell_type": "code",
   "execution_count": 29,
   "metadata": {},
   "outputs": [
    {
     "data": {
      "image/png": "[encoded data removed]",
      "text/plain": [
       "<Figure size 640x480 with 1 Axes>"
      ]
     },
     "metadata": {
      "image/png": {
       "height": 454,
       "width": 557
      }
     },
     "output_type": "display_data"
    }
   ],
   "source": [
    "import pandas as pd\n",
    "\n",
    "df_simple_metrics = pd.read_csv(\"logs/basic_recursion_net/version_0/metrics.csv\")\n",
    "df_simple_metrics.plot.line(\n",
    "    grid=True, title=\"Basic recursion net loss\", x=\"step\", y=\"train_loss\", logy=True\n",
    ");"
   ]
  },
  {
   "cell_type": "code",
   "execution_count": 9,
   "metadata": {},
   "outputs": [
    {
     "data": {
      "text/plain": [
       "(tensor([[1., 0., 0.,  ..., 0., 0., 0.],\n",
       "         [1., 0., 0.,  ..., 0., 0., 0.],\n",
       "         [1., 0., 0.,  ..., 0., 0., 0.],\n",
       "         ...,\n",
       "         [1., 0., 0.,  ..., 0., 0., 0.],\n",
       "         [1., 0., 0.,  ..., 0., 0., 0.],\n",
       "         [1., 0., 0.,  ..., 0., 0., 0.]]),\n",
       " tensor([[1., 0., 0., 0., 0., 0., 0., 0., 0., 0., 0., 0., 0., 0., 0., 0., 0., 0.,\n",
       "          0., 0., 1., 0., 0., 0., 0., 0., 0., 0., 0., 1., 0., 0., 0., 0., 0., 0.,\n",
       "          0., 0., 0., 0., 0., 0., 0., 0., 0., 0., 0., 0., 0., 0., 0., 0., 0., 0.,\n",
       "          0., 0., 0., 0., 0., 0., 0., 1., 0., 0., 0., 0., 0., 0., 0., 0., 0., 0.,\n",
       "          0., 0., 0., 0., 0., 0., 0., 0., 0., 0., 0., 0., 0., 0., 0., 0., 0.]]))"
      ]
     },
     "execution_count": 9,
     "metadata": {},
     "output_type": "execute_result"
    }
   ],
   "source": [
    "for sample in piano_roll_dataset:\n",
    "    piano_roll_sample = sample\n",
    "    break\n",
    "piano_roll_sample"
   ]
  },
  {
   "cell_type": "code",
   "execution_count": 10,
   "metadata": {},
   "outputs": [
    {
     "data": {
      "image/png": "[encoded data removed]",
      "text/plain": [
       "<Figure size 500x500 with 1 Axes>"
      ]
     },
     "metadata": {
      "image/png": {
       "height": 450,
       "width": 263
      }
     },
     "output_type": "display_data"
    }
   ],
   "source": [
    "import matplotlib.pyplot as plt\n",
    "\n",
    "plt.figure(figsize=(5, 5))\n",
    "plt.imshow(piano_roll_sample[0].T, cmap=\"binary\");\n",
    "plt.title(\"Current sample\");"
   ]
  },
  {
   "cell_type": "code",
   "execution_count": 13,
   "metadata": {},
   "outputs": [
    {
     "name": "stderr",
     "output_type": "stream",
     "text": [
      "/home/dennis/git/ki-ueben-klavier-trainieren/venv/lib/python3.10/site-packages/torch/nn/modules/module.py:1511: UserWarning: Implicit dimension choice for softmax has been deprecated. Change the call to include dim=X as an argument.\n",
      "  return self._call_impl(*args, **kwargs)\n"
     ]
    },
    {
     "data": {
      "image/png": "[encoded data removed]",
      "text/plain": [
       "<Figure size 500x500 with 1 Axes>"
      ]
     },
     "metadata": {
      "image/png": {
       "height": 141,
       "width": 434
      }
     },
     "output_type": "display_data"
    }
   ],
   "source": [
    "note_sequence = piano_roll_sample[0]\n",
    "\n",
    "for i in range(400):\n",
    "    next_frame = basic_recursion_net.forward(note_sequence.unsqueeze(0))\n",
    "    binary_frame = (torch.nn.Softmax()(next_frame) > 0.01).to(torch.float32)\n",
    "    note_sequence = torch.concat([note_sequence, binary_frame])\n",
    "\n",
    "predicted_sequence = note_sequence.detach().numpy()\n",
    "\n",
    "plt.figure(figsize=(5, 5))\n",
    "plt.imshow(predicted_sequence.T, cmap=\"binary\");\n",
    "plt.title(\"Current + predicted sample\");"
   ]
  },
  {
   "cell_type": "markdown",
   "metadata": {},
   "source": [
    "## Without pedal"
   ]
  },
  {
   "cell_type": "code",
   "execution_count": 3,
   "metadata": {},
   "outputs": [
    {
     "name": "stdout",
     "output_type": "stream",
     "text": [
      "BasicRecursionNet(\n",
      "  (rnn): RNN(88, 40, num_layers=2, batch_first=True)\n",
      "  (fc): Linear(in_features=40, out_features=88, bias=True)\n",
      "  (criterion): BCEWithLogitsLoss()\n",
      ")\n"
     ]
    }
   ],
   "source": [
    "basic_wo_pedal_recursion_net = BasicRecursionNet(\n",
    "    input_size=88,\n",
    "    output_size=88,\n",
    "    hidden_size=40,\n",
    "    num_layers=2,\n",
    ")\n",
    "\n",
    "print(basic_wo_pedal_recursion_net)"
   ]
  },
  {
   "cell_type": "code",
   "execution_count": 4,
   "metadata": {},
   "outputs": [],
   "source": [
    "from ki_ueben.datasets import Maestro3Dataset, PianoRollDataset\n",
    "from torch.utils.data import DataLoader\n",
    "\n",
    "WINDOW_SIZE = 50\n",
    "\n",
    "piano_roll_wo_pedal_dataset = PianoRollDataset(\n",
    "    # limit the number of MIDI files\n",
    "    midi_files=Maestro3Dataset().midi_file_paths[0:16*8],\n",
    "    window_size=WINDOW_SIZE,\n",
    "    remove_pedal=True,\n",
    ")"
   ]
  },
  {
   "cell_type": "code",
   "execution_count": 5,
   "metadata": {},
   "outputs": [],
   "source": [
    "context_data_loader_wo_pedal = DataLoader(piano_roll_wo_pedal_dataset, batch_size=256, num_workers=16)"
   ]
  },
  {
   "cell_type": "code",
   "execution_count": 6,
   "metadata": {},
   "outputs": [
    {
     "name": "stderr",
     "output_type": "stream",
     "text": [
      "GPU available: True (cuda), used: True\n",
      "TPU available: False, using: 0 TPU cores\n",
      "HPU available: False, using: 0 HPUs\n",
      "/home/dennis/git/ki-ueben-klavier-trainieren/venv/lib/python3.10/site-packages/lightning_fabric/loggers/csv_logs.py:268: Experiment logs directory logs/basic_recursion_net/version_0 exists and is not empty. Previous log files in this directory will be deleted when the new ones are saved!\n",
      "/home/dennis/git/ki-ueben-klavier-trainieren/venv/lib/python3.10/site-packages/lightning/pytorch/callbacks/model_checkpoint.py:654: Checkpoint directory logs/basic_recursion_net/version_0/checkpoints exists and is not empty.\n",
      "LOCAL_RANK: 0 - CUDA_VISIBLE_DEVICES: [0]\n",
      "\n",
      "  | Name      | Type              | Params | Mode \n",
      "--------------------------------------------------------\n",
      "0 | rnn       | RNN               | 8.5 K  | train\n",
      "1 | fc        | Linear            | 3.6 K  | train\n",
      "2 | criterion | BCEWithLogitsLoss | 0      | train\n",
      "--------------------------------------------------------\n",
      "12.1 K    Trainable params\n",
      "0         Non-trainable params\n",
      "12.1 K    Total params\n",
      "0.048     Total estimated model params size (MB)\n",
      "3         Modules in train mode\n",
      "0         Modules in eval mode\n"
     ]
    },
    {
     "name": "stdout",
     "output_type": "stream",
     "text": [
      "Epoch 4: |          | 14503/? [03:40<00:00, 65.92it/s, v_num=0, train_loss=0.0695] "
     ]
    },
    {
     "name": "stderr",
     "output_type": "stream",
     "text": [
      "`Trainer.fit` stopped: `max_epochs=5` reached.\n"
     ]
    },
    {
     "name": "stdout",
     "output_type": "stream",
     "text": [
      "Epoch 4: |          | 14503/? [03:40<00:00, 65.92it/s, v_num=0, train_loss=0.0695]\n"
     ]
    }
   ],
   "source": [
    "from pytorch_lightning.loggers import CSVLogger\n",
    "import torch \n",
    "\n",
    "# for tensor cores\n",
    "torch.set_float32_matmul_precision('high')\n",
    "\n",
    "simple_trainer = L.Trainer(\n",
    "    max_epochs=5, logger=[CSVLogger(save_dir=\"logs\", name=\"basic_recursion_net_wo_pedal\", version=0)]\n",
    ")\n",
    "simple_trainer.fit(model=basic_wo_pedal_recursion_net, train_dataloaders=context_data_loader_wo_pedal)"
   ]
  },
  {
   "cell_type": "code",
   "execution_count": null,
   "metadata": {},
   "outputs": [],
   "source": []
  },
  {
   "cell_type": "code",
   "execution_count": null,
   "metadata": {},
   "outputs": [],
   "source": []
  },
  {
   "cell_type": "code",
   "execution_count": 8,
   "metadata": {},
   "outputs": [
    {
     "data": {
      "image/png": "[encoded data removed]",
      "text/plain": [
       "<Figure size 640x480 with 1 Axes>"
      ]
     },
     "metadata": {
      "image/png": {
       "height": 454,
       "width": 557
      }
     },
     "output_type": "display_data"
    }
   ],
   "source": [
    "import pandas as pd\n",
    "\n",
    "df_simple_metrics = pd.read_csv(\"logs/basic_recursion_net_wo_pedal/version_0/metrics.csv\")\n",
    "df_simple_metrics.plot.line(\n",
    "    grid=True, title=\"Basic recursion net w/o pedal loss\", x=\"step\", y=\"train_loss\", logy=True\n",
    ");"
   ]
  },
  {
   "cell_type": "code",
   "execution_count": 10,
   "metadata": {},
   "outputs": [
    {
     "data": {
      "text/plain": [
       "(tensor([[0., 0., 0.,  ..., 0., 0., 0.],\n",
       "         [0., 0., 0.,  ..., 0., 0., 0.],\n",
       "         [0., 0., 0.,  ..., 0., 0., 0.],\n",
       "         ...,\n",
       "         [0., 0., 0.,  ..., 0., 0., 0.],\n",
       "         [0., 0., 0.,  ..., 0., 0., 0.],\n",
       "         [0., 0., 0.,  ..., 0., 0., 0.]]),\n",
       " tensor([[0., 0., 0., 0., 0., 0., 0., 0., 0., 0., 0., 0., 0., 0., 0., 0., 0., 0.,\n",
       "          0., 1., 0., 0., 0., 0., 0., 0., 0., 0., 1., 0., 0., 0., 0., 0., 0., 0.,\n",
       "          0., 0., 0., 0., 0., 0., 0., 0., 0., 0., 0., 0., 0., 0., 0., 0., 0., 0.,\n",
       "          0., 0., 0., 0., 0., 0., 1., 0., 0., 0., 0., 0., 0., 0., 0., 0., 0., 0.,\n",
       "          0., 0., 0., 0., 0., 0., 0., 0., 0., 0., 0., 0., 0., 0., 0., 0.]]))"
      ]
     },
     "execution_count": 10,
     "metadata": {},
     "output_type": "execute_result"
    }
   ],
   "source": [
    "for sample in piano_roll_wo_pedal_dataset:\n",
    "    piano_roll_sample = sample\n",
    "    break\n",
    "piano_roll_sample"
   ]
  },
  {
   "cell_type": "code",
   "execution_count": 11,
   "metadata": {},
   "outputs": [
    {
     "data": {
      "image/png": "[encoded data removed]",
      "text/plain": [
       "<Figure size 500x500 with 1 Axes>"
      ]
     },
     "metadata": {
      "image/png": {
       "height": 450,
       "width": 266
      }
     },
     "output_type": "display_data"
    }
   ],
   "source": [
    "import matplotlib.pyplot as plt\n",
    "\n",
    "plt.figure(figsize=(5, 5))\n",
    "plt.imshow(piano_roll_sample[0].T, cmap=\"binary\");\n",
    "plt.title(\"Current sample\");"
   ]
  },
  {
   "cell_type": "code",
   "execution_count": 13,
   "metadata": {},
   "outputs": [
    {
     "data": {
      "image/png": "[encoded data removed]",
      "text/plain": [
       "<Figure size 1000x500 with 1 Axes>"
      ]
     },
     "metadata": {
      "image/png": {
       "height": 216,
       "width": 822
      }
     },
     "output_type": "display_data"
    }
   ],
   "source": [
    "note_sequence = piano_roll_sample[0]\n",
    "\n",
    "for i in range(400):\n",
    "    next_frame = basic_wo_pedal_recursion_net.forward(note_sequence.unsqueeze(0))\n",
    "    binary_frame = (torch.nn.Softmax()(next_frame) > 0.01).to(torch.float32)\n",
    "    note_sequence = torch.concat([note_sequence, binary_frame])\n",
    "\n",
    "predicted_sequence = note_sequence.detach().numpy()\n",
    "\n",
    "plt.figure(figsize=(10, 5))\n",
    "plt.imshow(predicted_sequence.T, cmap=\"binary\");\n",
    "plt.title(\"Current + predicted sample\");"
   ]
  },
  {
   "cell_type": "code",
   "execution_count": null,
   "metadata": {},
   "outputs": [],
   "source": []
  },
  {
   "cell_type": "markdown",
   "metadata": {},
   "source": [
    "## LSTM"
   ]
  },
  {
   "cell_type": "code",
   "execution_count": 17,
   "metadata": {},
   "outputs": [
    {
     "name": "stdout",
     "output_type": "stream",
     "text": [
      "LSTMNet(\n",
      "  (lstm): LSTM(89, 128, num_layers=2, batch_first=True, dropout=0.2)\n",
      "  (fc): Linear(in_features=128, out_features=89, bias=True)\n",
      "  (criterion): BCEWithLogitsLoss()\n",
      ")\n"
     ]
    }
   ],
   "source": [
    "import lightning as L\n",
    "from torch import nn, optim\n",
    "\n",
    "\n",
    "class LSTMNet(L.LightningModule):\n",
    "    def __init__(\n",
    "        self,\n",
    "        input_size: int,\n",
    "        hidden_size: int,\n",
    "        output_size: int,\n",
    "        num_layers: int = 1,\n",
    "        dropout: float = 0.2,\n",
    "        learning_rate: float = 1e-4,\n",
    "    ):\n",
    "        super().__init__()\n",
    "        self.learning_rate = learning_rate\n",
    "\n",
    "        self.lstm = nn.LSTM(\n",
    "            input_size=input_size,\n",
    "            hidden_size=hidden_size,\n",
    "            num_layers=num_layers,\n",
    "            batch_first=True,\n",
    "            dropout=dropout,\n",
    "        )\n",
    "        self.fc = nn.Linear(hidden_size, output_size)\n",
    "        self.criterion = nn.BCEWithLogitsLoss()\n",
    "    \n",
    "    def forward(self, x):\n",
    "        rnn_out, _ = self.lstm(x)\n",
    "        # only use output from last step of our rnn sequence\n",
    "        output = self.fc(rnn_out[:, -1, :])\n",
    "        return output\n",
    "\n",
    "    def training_step(self, batch, batch_idx):\n",
    "        x, y = batch\n",
    "        y_hat = self(x)\n",
    "        loss = self.criterion(y_hat, y.squeeze(1))\n",
    "        self.log(\"train_loss\", loss, prog_bar=True)\n",
    "        return loss\n",
    "\n",
    "    def zero_vector_penalty(y):\n",
    "        norm = torch.norm(y, p=2.0, dim=-1)\n",
    "        return torch.mean(1.0 - norm)\n",
    "\n",
    "    def configure_optimizers(self):\n",
    "        return optim.Adam(self.parameters(), lr=self.learning_rate)\n",
    "\n",
    "\n",
    "lstm_net = LSTMNet(\n",
    "    input_size=89,\n",
    "    output_size=89,\n",
    "    hidden_size=128,\n",
    "    num_layers=2,\n",
    "    learning_rate=1e-2,\n",
    ")\n",
    "\n",
    "print(lstm_net)"
   ]
  },
  {
   "cell_type": "code",
   "execution_count": 16,
   "metadata": {},
   "outputs": [
    {
     "name": "stderr",
     "output_type": "stream",
     "text": [
      "/home/dennis/git/ki-ueben-klavier-trainieren/venv/lib/python3.10/site-packages/torch/utils/data/dataloader.py:558: UserWarning: This DataLoader will create 32 worker processes in total. Our suggested max number of worker in current system is 16, which is smaller than what this DataLoader is going to create. Please be aware that excessive worker creation might get DataLoader running slow or even freeze, lower the worker number to avoid potential slowness/freeze if necessary.\n",
      "  warnings.warn(_create_warning_msg(\n"
     ]
    }
   ],
   "source": [
    "context_data_loader = DataLoader(piano_roll_dataset, batch_size=256, num_workers=32)"
   ]
  },
  {
   "cell_type": "code",
   "execution_count": 18,
   "metadata": {},
   "outputs": [
    {
     "name": "stderr",
     "output_type": "stream",
     "text": [
      "GPU available: True (cuda), used: True\n",
      "TPU available: False, using: 0 TPU cores\n",
      "HPU available: False, using: 0 HPUs\n",
      "LOCAL_RANK: 0 - CUDA_VISIBLE_DEVICES: [0]\n",
      "\n",
      "  | Name      | Type              | Params | Mode \n",
      "--------------------------------------------------------\n",
      "0 | lstm      | LSTM              | 244 K  | train\n",
      "1 | fc        | Linear            | 11.5 K | train\n",
      "2 | criterion | BCEWithLogitsLoss | 0      | train\n",
      "--------------------------------------------------------\n",
      "255 K     Trainable params\n",
      "0         Non-trainable params\n",
      "255 K     Total params\n",
      "1.023     Total estimated model params size (MB)\n",
      "3         Modules in train mode\n",
      "0         Modules in eval mode\n",
      "/home/dennis/git/ki-ueben-klavier-trainieren/venv/lib/python3.10/site-packages/torch/utils/data/dataloader.py:558: UserWarning: This DataLoader will create 32 worker processes in total. Our suggested max number of worker in current system is 16, which is smaller than what this DataLoader is going to create. Please be aware that excessive worker creation might get DataLoader running slow or even freeze, lower the worker number to avoid potential slowness/freeze if necessary.\n",
      "  warnings.warn(_create_warning_msg(\n"
     ]
    },
    {
     "name": "stdout",
     "output_type": "stream",
     "text": [
      "Epoch 4: |          | 14514/? [03:45<00:00, 64.39it/s, v_num=0, train_loss=0.00162]"
     ]
    },
    {
     "name": "stderr",
     "output_type": "stream",
     "text": [
      "`Trainer.fit` stopped: `max_epochs=5` reached.\n"
     ]
    },
    {
     "name": "stdout",
     "output_type": "stream",
     "text": [
      "Epoch 4: |          | 14514/? [03:45<00:00, 64.39it/s, v_num=0, train_loss=0.00162]\n"
     ]
    }
   ],
   "source": [
    "from pytorch_lightning.loggers import CSVLogger\n",
    "import torch \n",
    "\n",
    "# for tensor cores\n",
    "torch.set_float32_matmul_precision('high')\n",
    "\n",
    "simple_trainer = L.Trainer(\n",
    "    max_epochs=5, logger=[CSVLogger(save_dir=\"logs\", name=\"lstm_net\", version=0)]\n",
    ")\n",
    "simple_trainer.fit(model=lstm_net, train_dataloaders=context_data_loader)"
   ]
  },
  {
   "cell_type": "code",
   "execution_count": null,
   "metadata": {},
   "outputs": [],
   "source": []
  },
  {
   "cell_type": "code",
   "execution_count": 19,
   "metadata": {},
   "outputs": [
    {
     "data": {
      "image/png": "[encoded data removed]",
      "text/plain": [
       "<Figure size 640x480 with 1 Axes>"
      ]
     },
     "metadata": {
      "image/png": {
       "height": 454,
       "width": 557
      }
     },
     "output_type": "display_data"
    }
   ],
   "source": [
    "import pandas as pd\n",
    "\n",
    "df_simple_metrics = pd.read_csv(\"logs/lstm_net/version_0/metrics.csv\")\n",
    "df_simple_metrics.plot.line(\n",
    "    grid=True, title=\"LSTM loss\", x=\"step\", y=\"train_loss\", logy=True\n",
    ");"
   ]
  },
  {
   "cell_type": "code",
   "execution_count": 23,
   "metadata": {},
   "outputs": [
    {
     "data": {
      "text/plain": [
       "(tensor([[1., 0., 0.,  ..., 0., 0., 0.],\n",
       "         [1., 0., 0.,  ..., 0., 0., 0.],\n",
       "         [1., 0., 0.,  ..., 0., 0., 0.],\n",
       "         ...,\n",
       "         [1., 0., 0.,  ..., 0., 0., 0.],\n",
       "         [1., 0., 0.,  ..., 0., 0., 0.],\n",
       "         [1., 0., 0.,  ..., 0., 0., 0.]]),\n",
       " tensor([[1., 0., 0., 0., 0., 0., 0., 0., 0., 0., 0., 0., 0., 0., 0., 0., 0., 0.,\n",
       "          0., 0., 1., 0., 0., 0., 0., 0., 0., 0., 0., 1., 0., 0., 0., 0., 0., 0.,\n",
       "          0., 0., 0., 0., 0., 0., 0., 0., 0., 0., 0., 0., 0., 0., 0., 0., 0., 0.,\n",
       "          0., 0., 0., 0., 0., 0., 0., 1., 0., 0., 0., 0., 0., 0., 0., 0., 0., 0.,\n",
       "          0., 0., 0., 0., 0., 0., 0., 0., 0., 0., 0., 0., 0., 0., 0., 0., 0.]]))"
      ]
     },
     "execution_count": 23,
     "metadata": {},
     "output_type": "execute_result"
    }
   ],
   "source": [
    "for sample in piano_roll_dataset:\n",
    "    piano_roll_sample = sample\n",
    "    break\n",
    "piano_roll_sample"
   ]
  },
  {
   "cell_type": "code",
   "execution_count": 24,
   "metadata": {},
   "outputs": [
    {
     "data": {
      "image/png": "[encoded data removed]",
      "text/plain": [
       "<Figure size 500x500 with 1 Axes>"
      ]
     },
     "metadata": {
      "image/png": {
       "height": 450,
       "width": 263
      }
     },
     "output_type": "display_data"
    }
   ],
   "source": [
    "import matplotlib.pyplot as plt\n",
    "\n",
    "plt.figure(figsize=(5, 5))\n",
    "plt.imshow(piano_roll_sample[0].T, cmap=\"binary\");\n",
    "plt.title(\"Current sample\");"
   ]
  },
  {
   "cell_type": "code",
   "execution_count": 25,
   "metadata": {},
   "outputs": [
    {
     "name": "stderr",
     "output_type": "stream",
     "text": [
      "/home/dennis/git/ki-ueben-klavier-trainieren/venv/lib/python3.10/site-packages/torch/nn/modules/module.py:1511: UserWarning: Implicit dimension choice for softmax has been deprecated. Change the call to include dim=X as an argument.\n",
      "  return self._call_impl(*args, **kwargs)\n"
     ]
    },
    {
     "data": {
      "image/png": "[encoded data removed]",
      "text/plain": [
       "<Figure size 1000x500 with 1 Axes>"
      ]
     },
     "metadata": {
      "image/png": {
       "height": 218,
       "width": 822
      }
     },
     "output_type": "display_data"
    }
   ],
   "source": [
    "note_sequence = piano_roll_sample[0]\n",
    "\n",
    "for i in range(400):\n",
    "    next_frame = lstm_net.forward(note_sequence.unsqueeze(0))\n",
    "    binary_frame = (torch.nn.Softmax()(next_frame) > 0.01).to(torch.float32)\n",
    "    note_sequence = torch.concat([note_sequence, binary_frame])\n",
    "\n",
    "predicted_sequence = note_sequence.detach().numpy()\n",
    "\n",
    "plt.figure(figsize=(10, 5))\n",
    "plt.imshow(predicted_sequence.T, cmap=\"binary\");\n",
    "plt.title(\"Current + predicted sample\");"
   ]
  },
  {
   "cell_type": "code",
   "execution_count": null,
   "metadata": {},
   "outputs": [],
   "source": []
  },
  {
   "cell_type": "code",
   "execution_count": null,
   "metadata": {},
   "outputs": [],
   "source": []
  },
  {
   "cell_type": "code",
   "execution_count": 53,
   "metadata": {},
   "outputs": [
    {
     "name": "stdout",
     "output_type": "stream",
     "text": [
      "PenalizedLSTMNet(\n",
      "  (lstm): LSTM(88, 128, num_layers=2, batch_first=True, dropout=0.2)\n",
      "  (fc): Linear(in_features=128, out_features=88, bias=True)\n",
      "  (criterion): BCEWithLogitsLoss()\n",
      ")\n"
     ]
    }
   ],
   "source": [
    "import lightning as L\n",
    "from torch import nn, optim\n",
    "\n",
    "\n",
    "class PenalizedLSTMNet(L.LightningModule):\n",
    "    def __init__(\n",
    "        self,\n",
    "        input_size: int,\n",
    "        hidden_size: int,\n",
    "        output_size: int,\n",
    "        num_layers: int = 1,\n",
    "        dropout: float = 0.2,\n",
    "        learning_rate: float = 1e-4,\n",
    "    ):\n",
    "        super().__init__()\n",
    "        self.learning_rate = learning_rate\n",
    "\n",
    "        self.lstm = nn.LSTM(\n",
    "            input_size=input_size,\n",
    "            hidden_size=hidden_size,\n",
    "            num_layers=num_layers,\n",
    "            batch_first=True,\n",
    "            dropout=dropout,\n",
    "        )\n",
    "        self.fc = nn.Linear(hidden_size, output_size)\n",
    "        self.criterion = nn.BCEWithLogitsLoss()\n",
    "    \n",
    "    def forward(self, x):\n",
    "        rnn_out, _ = self.lstm(x)\n",
    "        # only use output from last step of our rnn sequence\n",
    "        output = self.fc(rnn_out[:, -1, :])\n",
    "        return output\n",
    "\n",
    "    def training_step(self, batch, batch_idx):\n",
    "        x, y = batch\n",
    "        y_hat = self(x)\n",
    "        loss = self.criterion(y_hat, y.squeeze(1)) + (1e-2 * self.zero_vector_penalty(y_hat))\n",
    "        self.log(\"train_loss\", loss, prog_bar=True)\n",
    "        return loss\n",
    "\n",
    "    @staticmethod\n",
    "    def zero_vector_penalty(y):\n",
    "        norm = torch.norm(y, p=2.0, dim=-1)\n",
    "        # force to activate something\n",
    "        return torch.mean(torch.exp(-norm))\n",
    "\n",
    "    def configure_optimizers(self):\n",
    "        return optim.Adam(self.parameters(), lr=self.learning_rate)\n",
    "\n",
    "\n",
    "penalized_lstm_net = PenalizedLSTMNet(\n",
    "    # without pedal\n",
    "    input_size=88,\n",
    "    output_size=88,\n",
    "    hidden_size=128,\n",
    "    num_layers=2,\n",
    "    learning_rate=1e-3,\n",
    ")\n",
    "\n",
    "print(penalized_lstm_net)"
   ]
  },
  {
   "cell_type": "code",
   "execution_count": 54,
   "metadata": {},
   "outputs": [
    {
     "name": "stderr",
     "output_type": "stream",
     "text": [
      "GPU available: True (cuda), used: True\n",
      "TPU available: False, using: 0 TPU cores\n",
      "HPU available: False, using: 0 HPUs\n",
      "/home/dennis/git/ki-ueben-klavier-trainieren/venv/lib/python3.10/site-packages/lightning_fabric/loggers/csv_logs.py:268: Experiment logs directory logs/lstm_net/version_0 exists and is not empty. Previous log files in this directory will be deleted when the new ones are saved!\n",
      "/home/dennis/git/ki-ueben-klavier-trainieren/venv/lib/python3.10/site-packages/lightning/pytorch/callbacks/model_checkpoint.py:654: Checkpoint directory logs/lstm_net/version_0/checkpoints exists and is not empty.\n",
      "LOCAL_RANK: 0 - CUDA_VISIBLE_DEVICES: [0]\n",
      "\n",
      "  | Name      | Type              | Params | Mode \n",
      "--------------------------------------------------------\n",
      "0 | lstm      | LSTM              | 243 K  | train\n",
      "1 | fc        | Linear            | 11.4 K | train\n",
      "2 | criterion | BCEWithLogitsLoss | 0      | train\n",
      "--------------------------------------------------------\n",
      "255 K     Trainable params\n",
      "0         Non-trainable params\n",
      "255 K     Total params\n",
      "1.020     Total estimated model params size (MB)\n",
      "3         Modules in train mode\n",
      "0         Modules in eval mode\n"
     ]
    },
    {
     "name": "stdout",
     "output_type": "stream",
     "text": [
      "Epoch 0: |          | 0/? [33:27<?, ?it/s]\n",
      "Epoch 0: |          | 0/? [33:27<?, ?it/s]\n",
      "Epoch 0: |          | 0/? [33:27<?, ?it/s]\n",
      "Epoch 0: |          | 0/? [31:20<?, ?it/s]\n",
      "Epoch 0: |          | 0/? [33:27<?, ?it/s]\n",
      "Epoch 0: |          | 0/? [33:27<?, ?it/s]\n",
      "Epoch 0: |          | 0/? [33:27<?, ?it/s]\n",
      "Epoch 0: |          | 0/? [33:27<?, ?it/s]\n",
      "Epoch 0: |          | 0/? [33:27<?, ?it/s]\n",
      "Epoch 0: |          | 0/? [33:27<?, ?it/s]\n",
      "Epoch 0: |          | 0/? [31:20<?, ?it/s]\n",
      "Epoch 0: |          | 0/? [31:20<?, ?it/s]\n",
      "Epoch 0: |          | 0/? [30:01<?, ?it/s]\n",
      "Epoch 0: |          | 0/? [31:20<?, ?it/s]\n",
      "Epoch 0: |          | 0/? [33:27<?, ?it/s]\n",
      "Epoch 0: |          | 0/? [33:27<?, ?it/s]\n",
      "Epoch 0: |          | 0/? [31:20<?, ?it/s]\n",
      "Epoch 0: |          | 0/? [33:27<?, ?it/s]\n",
      "Epoch 0: |          | 0/? [31:20<?, ?it/s]\n",
      "Epoch 0: |          | 0/? [33:27<?, ?it/s]\n",
      "Epoch 0: |          | 0/? [31:20<?, ?it/s]\n",
      "Epoch 0: |          | 0/? [33:27<?, ?it/s]\n",
      "Epoch 0: |          | 0/? [31:20<?, ?it/s]\n",
      "Epoch 0: |          | 0/? [30:01<?, ?it/s]\n",
      "Epoch 0: |          | 0/? [31:20<?, ?it/s]\n",
      "Epoch 0: |          | 0/? [30:01<?, ?it/s]\n",
      "Epoch 0: |          | 0/? [30:01<?, ?it/s]\n",
      "Epoch 0: |          | 0/? [33:27<?, ?it/s]\n",
      "Epoch 0: |          | 0/? [28:25<?, ?it/s]\n",
      "Epoch 0: |          | 0/? [31:20<?, ?it/s]\n",
      "Epoch 0: |          | 0/? [31:20<?, ?it/s]\n",
      "Epoch 0: |          | 0/? [30:01<?, ?it/s]\n",
      "Epoch 0: |          | 0/? [31:20<?, ?it/s]\n",
      "Epoch 0: |          | 0/? [30:01<?, ?it/s]\n",
      "Epoch 0: |          | 0/? [31:20<?, ?it/s]\n",
      "Epoch 0: |          | 0/? [30:01<?, ?it/s]\n",
      "Epoch 0: |          | 0/? [31:20<?, ?it/s]\n",
      "Epoch 0: |          | 0/? [33:27<?, ?it/s]\n",
      "Epoch 0: |          | 0/? [30:01<?, ?it/s]\n",
      "Epoch 0: |          | 0/? [28:25<?, ?it/s]\n",
      "Epoch 0: |          | 0/? [30:01<?, ?it/s]\n",
      "Epoch 0: |          | 0/? [28:25<?, ?it/s]\n",
      "Epoch 0: |          | 0/? [28:25<?, ?it/s]\n",
      "Epoch 0: |          | 0/? [31:20<?, ?it/s]\n",
      "Epoch 0: |          | 0/? [27:01<?, ?it/s]\n",
      "Epoch 0: |          | 0/? [30:01<?, ?it/s]\n",
      "Epoch 0: |          | 0/? [30:01<?, ?it/s]\n",
      "Epoch 0: |          | 0/? [28:25<?, ?it/s]\n",
      "Epoch 0: |          | 0/? [30:01<?, ?it/s]\n",
      "Epoch 0: |          | 0/? [28:25<?, ?it/s]\n",
      "Epoch 0: |          | 0/? [30:01<?, ?it/s]\n",
      "Epoch 0: |          | 0/? [28:25<?, ?it/s]\n",
      "Epoch 0: |          | 0/? [30:01<?, ?it/s]\n",
      "Epoch 0: |          | 0/? [31:20<?, ?it/s]\n",
      "Epoch 0: |          | 0/? [28:25<?, ?it/s]\n",
      "Epoch 0: |          | 0/? [26:32<?, ?it/s]\n",
      "Epoch 0: |          | 0/? [28:25<?, ?it/s]\n",
      "Epoch 0: |          | 0/? [27:01<?, ?it/s]\n",
      "Epoch 0: |          | 0/? [27:01<?, ?it/s]\n",
      "Epoch 0: |          | 0/? [30:01<?, ?it/s]\n",
      "Epoch 0: |          | 0/? [27:01<?, ?it/s]\n",
      "Epoch 0: |          | 0/? [28:25<?, ?it/s]\n",
      "Epoch 0: |          | 0/? [28:25<?, ?it/s]\n",
      "Epoch 0: |          | 0/? [27:01<?, ?it/s]\n",
      "Epoch 0: |          | 0/? [28:25<?, ?it/s]\n",
      "Epoch 0: |          | 0/? [27:01<?, ?it/s]\n",
      "Epoch 0: |          | 0/? [28:25<?, ?it/s]\n",
      "Epoch 0: |          | 0/? [27:01<?, ?it/s]\n",
      "Epoch 0: |          | 0/? [28:25<?, ?it/s]\n",
      "Epoch 0: |          | 0/? [30:01<?, ?it/s]\n",
      "Epoch 0: |          | 0/? [27:01<?, ?it/s]\n",
      "Epoch 0: |          | 0/? [26:04<?, ?it/s]\n",
      "Epoch 0: |          | 0/? [27:01<?, ?it/s]\n",
      "Epoch 0: |          | 0/? [26:32<?, ?it/s]\n",
      "Epoch 0: |          | 0/? [26:32<?, ?it/s]\n",
      "Epoch 0: |          | 0/? [28:25<?, ?it/s]\n",
      "Epoch 0: |          | 0/? [26:32<?, ?it/s]\n",
      "Epoch 0: |          | 0/? [27:01<?, ?it/s]\n",
      "Epoch 0: |          | 0/? [27:01<?, ?it/s]\n",
      "Epoch 0: |          | 0/? [26:32<?, ?it/s]\n",
      "Epoch 0: |          | 0/? [27:01<?, ?it/s]\n",
      "Epoch 0: |          | 0/? [26:32<?, ?it/s]\n",
      "Epoch 0: |          | 0/? [27:01<?, ?it/s]\n",
      "Epoch 0: |          | 0/? [26:32<?, ?it/s]\n",
      "Epoch 0: |          | 0/? [27:01<?, ?it/s]\n",
      "Epoch 0: |          | 0/? [28:25<?, ?it/s]\n",
      "Epoch 0: |          | 0/? [26:32<?, ?it/s]\n",
      "Epoch 0: |          | 0/? [26:32<?, ?it/s]\n",
      "Epoch 0: |          | 0/? [26:04<?, ?it/s]\n",
      "Epoch 0: |          | 0/? [26:32<?, ?it/s]\n",
      "Epoch 0: |          | 0/? [27:01<?, ?it/s]\n",
      "Epoch 0: |          | 0/? [26:04<?, ?it/s]\n",
      "Epoch 0: |          | 0/? [26:32<?, ?it/s]\n",
      "Epoch 0: |          | 0/? [26:32<?, ?it/s]\n",
      "Epoch 0: |          | 0/? [26:04<?, ?it/s]\n",
      "Epoch 0: |          | 0/? [26:32<?, ?it/s]\n",
      "Epoch 0: |          | 0/? [26:04<?, ?it/s]\n",
      "Epoch 0: |          | 0/? [26:04<?, ?it/s]\n",
      "Epoch 0: |          | 0/? [26:04<?, ?it/s]\n",
      "Epoch 0: |          | 0/? [26:32<?, ?it/s]\n",
      "Epoch 0: |          | 0/? [27:01<?, ?it/s]\n",
      "Epoch 0: |          | 0/? [26:04<?, ?it/s]\n",
      "Epoch 0: |          | 0/? [26:04<?, ?it/s]\n",
      "Epoch 0: |          | 0/? [26:04<?, ?it/s]\n",
      "Epoch 0: |          | 0/? [26:32<?, ?it/s]\n",
      "Epoch 0: |          | 0/? [26:04<?, ?it/s]\n",
      "Epoch 0: |          | 0/? [26:04<?, ?it/s]\n",
      "Epoch 0: |          | 0/? [26:32<?, ?it/s]\n",
      "Epoch 0: |          | 0/? [26:04<?, ?it/s]\n",
      "Epoch 0: |          | 0/? [26:04<?, ?it/s]\n",
      "Epoch 0: |          | 0/? [26:04<?, ?it/s]\n",
      "Epoch 0: |          | 0/? [26:04<?, ?it/s]\n",
      "Epoch 0: |          | 0/? [37:33<?, ?it/s] v_num=0, train_loss=0.0578]             \n",
      "Epoch 0: |          | 0/? [37:33<?, ?it/s]\n",
      "Epoch 0: |          | 0/? [35:26<?, ?it/s]\n",
      "Epoch 0: |          | 0/? [37:33<?, ?it/s]\n",
      "Epoch 0: |          | 0/? [37:33<?, ?it/s]\n",
      "Epoch 0: |          | 0/? [37:33<?, ?it/s]\n",
      "Epoch 0: |          | 0/? [37:33<?, ?it/s]\n",
      "Epoch 0: |          | 0/? [35:26<?, ?it/s]\n",
      "Epoch 0: |          | 0/? [37:33<?, ?it/s]\n",
      "Epoch 0: |          | 0/? [35:26<?, ?it/s]\n",
      "Epoch 0: |          | 0/? [37:33<?, ?it/s]\n",
      "Epoch 0: |          | 0/? [35:26<?, ?it/s]\n",
      "Epoch 0: |          | 0/? [37:33<?, ?it/s]\n",
      "Epoch 0: |          | 0/? [37:33<?, ?it/s]\n",
      "Epoch 0: |          | 0/? [35:26<?, ?it/s]\n",
      "Epoch 0: |          | 0/? [35:26<?, ?it/s]\n",
      "Epoch 0: |          | 0/? [35:26<?, ?it/s]\n",
      "Epoch 0: |          | 0/? [34:07<?, ?it/s]\n",
      "Epoch 0: |          | 0/? [37:33<?, ?it/s]\n",
      "Epoch 0: |          | 0/? [34:07<?, ?it/s]\n",
      "Epoch 0: |          | 0/? [34:07<?, ?it/s]\n",
      "Epoch 0: |          | 0/? [35:26<?, ?it/s]\n",
      "Epoch 0: |          | 0/? [34:07<?, ?it/s]\n",
      "Epoch 0: |          | 0/? [37:33<?, ?it/s]\n",
      "Epoch 0: |          | 0/? [34:07<?, ?it/s]\n",
      "Epoch 0: |          | 0/? [35:26<?, ?it/s]\n",
      "Epoch 0: |          | 0/? [37:33<?, ?it/s]\n",
      "Epoch 0: |          | 0/? [32:31<?, ?it/s]\n",
      "Epoch 0: |          | 0/? [35:26<?, ?it/s]\n",
      "Epoch 0: |          | 0/? [34:07<?, ?it/s]\n",
      "Epoch 0: |          | 0/? [37:33<?, ?it/s]\n",
      "Epoch 0: |          | 0/? [34:07<?, ?it/s]\n",
      "Epoch 0: |          | 0/? [32:31<?, ?it/s]\n",
      "Epoch 0: |          | 0/? [35:26<?, ?it/s]\n",
      "Epoch 0: |          | 0/? [37:33<?, ?it/s]\n",
      "Epoch 0: |          | 0/? [32:31<?, ?it/s]\n",
      "Epoch 0: |          | 0/? [34:07<?, ?it/s]\n",
      "Epoch 0: |          | 0/? [35:26<?, ?it/s]\n",
      "Epoch 0: |          | 0/? [37:33<?, ?it/s]\n",
      "Epoch 0: |          | 0/? [32:31<?, ?it/s]\n",
      "Epoch 0: |          | 0/? [32:31<?, ?it/s]\n",
      "Epoch 0: |          | 0/? [34:07<?, ?it/s]\n",
      "Epoch 0: |          | 0/? [32:31<?, ?it/s]\n",
      "Epoch 0: |          | 0/? [35:26<?, ?it/s]\n",
      "Epoch 0: |          | 0/? [31:07<?, ?it/s]\n",
      "Epoch 0: |          | 0/? [34:07<?, ?it/s]\n",
      "Epoch 0: |          | 0/? [32:31<?, ?it/s]\n",
      "Epoch 0: |          | 0/? [35:26<?, ?it/s]\n",
      "Epoch 0: |          | 0/? [31:07<?, ?it/s]\n",
      "Epoch 0: |          | 0/? [35:26<?, ?it/s]\n",
      "Epoch 0: |          | 0/? [31:07<?, ?it/s]\n",
      "Epoch 0: |          | 0/? [34:07<?, ?it/s]\n",
      "Epoch 0: |          | 0/? [34:07<?, ?it/s]\n",
      "Epoch 0: |          | 0/? [35:26<?, ?it/s]\n",
      "Epoch 0: |          | 0/? [34:07<?, ?it/s]\n",
      "Epoch 0: |          | 0/? [31:07<?, ?it/s]\n",
      "Epoch 0: |          | 0/? [31:07<?, ?it/s]\n",
      "Epoch 0: |          | 0/? [32:31<?, ?it/s]\n",
      "Epoch 0: |          | 0/? [31:07<?, ?it/s]\n",
      "Epoch 0: |          | 0/? [32:31<?, ?it/s]\n",
      "Epoch 0: |          | 0/? [30:38<?, ?it/s]\n",
      "Epoch 0: |          | 0/? [30:38<?, ?it/s]\n",
      "Epoch 0: |          | 0/? [31:07<?, ?it/s]\n",
      "Epoch 0: |          | 0/? [34:07<?, ?it/s]\n",
      "Epoch 0: |          | 0/? [30:38<?, ?it/s]\n",
      "Epoch 0: |          | 0/? [34:07<?, ?it/s]\n",
      "Epoch 0: |          | 0/? [32:31<?, ?it/s]\n",
      "Epoch 0: |          | 0/? [32:31<?, ?it/s]\n",
      "Epoch 0: |          | 0/? [32:31<?, ?it/s]\n",
      "Epoch 0: |          | 0/? [34:07<?, ?it/s]\n",
      "Epoch 0: |          | 0/? [32:31<?, ?it/s]\n",
      "Epoch 0: |          | 0/? [30:38<?, ?it/s]\n",
      "Epoch 0: |          | 0/? [30:38<?, ?it/s]\n",
      "Epoch 0: |          | 0/? [31:07<?, ?it/s]\n",
      "Epoch 0: |          | 0/? [30:38<?, ?it/s]\n",
      "Epoch 0: |          | 0/? [31:07<?, ?it/s]\n",
      "Epoch 0: |          | 0/? [30:10<?, ?it/s]\n",
      "Epoch 0: |          | 0/? [30:10<?, ?it/s]\n",
      "Epoch 0: |          | 0/? [31:07<?, ?it/s]\n",
      "Epoch 0: |          | 0/? [32:31<?, ?it/s]\n",
      "Epoch 0: |          | 0/? [30:10<?, ?it/s]\n",
      "Epoch 0: |          | 0/? [32:31<?, ?it/s]\n",
      "Epoch 0: |          | 0/? [31:07<?, ?it/s]\n",
      "Epoch 0: |          | 0/? [30:38<?, ?it/s]\n",
      "Epoch 0: |          | 0/? [31:07<?, ?it/s]\n",
      "Epoch 0: |          | 0/? [32:31<?, ?it/s]\n",
      "Epoch 0: |          | 0/? [31:07<?, ?it/s]\n",
      "Epoch 0: |          | 0/? [30:10<?, ?it/s]\n",
      "Epoch 0: |          | 0/? [30:10<?, ?it/s]\n",
      "Epoch 0: |          | 0/? [30:38<?, ?it/s]\n",
      "Epoch 0: |          | 0/? [30:10<?, ?it/s]\n",
      "Epoch 0: |          | 0/? [30:38<?, ?it/s]\n",
      "Epoch 0: |          | 0/? [30:38<?, ?it/s]\n",
      "Epoch 0: |          | 0/? [31:07<?, ?it/s]\n",
      "Epoch 0: |          | 0/? [31:07<?, ?it/s]\n",
      "Epoch 0: |          | 0/? [30:38<?, ?it/s]\n",
      "Epoch 0: |          | 0/? [30:10<?, ?it/s]\n",
      "Epoch 0: |          | 0/? [30:38<?, ?it/s]\n",
      "Epoch 0: |          | 0/? [31:07<?, ?it/s]\n",
      "Epoch 0: |          | 0/? [30:38<?, ?it/s]\n",
      "Epoch 0: |          | 0/? [30:10<?, ?it/s]\n",
      "Epoch 0: |          | 0/? [30:38<?, ?it/s]\n",
      "Epoch 0: |          | 0/? [30:10<?, ?it/s]\n",
      "Epoch 0: |          | 0/? [30:10<?, ?it/s]\n",
      "Epoch 0: |          | 0/? [30:38<?, ?it/s]\n",
      "Epoch 0: |          | 0/? [30:10<?, ?it/s]\n",
      "Epoch 0: |          | 0/? [30:38<?, ?it/s]\n",
      "Epoch 0: |          | 0/? [30:10<?, ?it/s]\n",
      "Epoch 0: |          | 0/? [30:10<?, ?it/s]\n",
      "Epoch 0: |          | 0/? [30:10<?, ?it/s]\n",
      "Epoch 0: |          | 0/? [30:10<?, ?it/s]\n",
      "Epoch 0: |          | 0/? [30:10<?, ?it/s]\n",
      "Epoch 0: |          | 0/? [41:47<?, ?it/s] v_num=0, train_loss=0.0469]             \n",
      "Epoch 0: |          | 0/? [39:39<?, ?it/s]\n",
      "Epoch 0: |          | 0/? [41:47<?, ?it/s]\n",
      "Epoch 0: |          | 0/? [41:47<?, ?it/s]\n",
      "Epoch 0: |          | 0/? [38:21<?, ?it/s]\n",
      "Epoch 0: |          | 0/? [41:47<?, ?it/s]\n",
      "Epoch 0: |          | 0/? [41:47<?, ?it/s]\n",
      "Epoch 0: |          | 0/? [39:39<?, ?it/s]\n",
      "Epoch 0: |          | 0/? [41:47<?, ?it/s]\n",
      "Epoch 0: |          | 0/? [41:47<?, ?it/s]\n",
      "Epoch 0: |          | 0/? [41:47<?, ?it/s]\n",
      "Epoch 0: |          | 0/? [36:44<?, ?it/s]\n",
      "Epoch 0: |          | 0/? [39:39<?, ?it/s]\n",
      "Epoch 0: |          | 0/? [39:39<?, ?it/s]\n",
      "Epoch 0: |          | 0/? [41:47<?, ?it/s]\n",
      "Epoch 0: |          | 0/? [39:39<?, ?it/s]\n",
      "Epoch 0: |          | 0/? [41:47<?, ?it/s]\n",
      "Epoch 0: |          | 0/? [38:21<?, ?it/s]\n",
      "Epoch 0: |          | 0/? [39:39<?, ?it/s]\n",
      "Epoch 0: |          | 0/? [38:21<?, ?it/s]\n",
      "Epoch 0: |          | 0/? [39:39<?, ?it/s]\n",
      "Epoch 0: |          | 0/? [39:39<?, ?it/s]\n",
      "Epoch 0: |          | 0/? [35:21<?, ?it/s]\n",
      "Epoch 0: |          | 0/? [38:21<?, ?it/s]\n",
      "Epoch 0: |          | 0/? [39:40<?, ?it/s]\n",
      "Epoch 0: |          | 0/? [41:47<?, ?it/s]\n",
      "Epoch 0: |          | 0/? [38:21<?, ?it/s]\n",
      "Epoch 0: |          | 0/? [39:40<?, ?it/s]\n",
      "Epoch 0: |          | 0/? [36:44<?, ?it/s]\n",
      "Epoch 0: |          | 0/? [41:47<?, ?it/s]\n",
      "Epoch 0: |          | 0/? [38:21<?, ?it/s]\n",
      "Epoch 0: |          | 0/? [41:47<?, ?it/s]\n",
      "Epoch 0: |          | 0/? [36:44<?, ?it/s]\n",
      "Epoch 0: |          | 0/? [38:21<?, ?it/s]\n",
      "Epoch 0: |          | 0/? [38:21<?, ?it/s]\n",
      "Epoch 0: |          | 0/? [41:47<?, ?it/s]\n",
      "Epoch 0: |          | 0/? [34:52<?, ?it/s]\n",
      "Epoch 0: |          | 0/? [35:21<?, ?it/s]\n",
      "Epoch 0: |          | 0/? [38:21<?, ?it/s]\n",
      "Epoch 0: |          | 0/? [39:40<?, ?it/s]\n",
      "Epoch 0: |          | 0/? [36:44<?, ?it/s]\n",
      "Epoch 0: |          | 0/? [38:21<?, ?it/s]\n",
      "Epoch 0: |          | 0/? [36:44<?, ?it/s]\n",
      "Epoch 0: |          | 0/? [39:40<?, ?it/s]\n",
      "Epoch 0: |          | 0/? [36:44<?, ?it/s]\n",
      "Epoch 0: |          | 0/? [41:47<?, ?it/s]\n",
      "Epoch 0: |          | 0/? [39:40<?, ?it/s]\n",
      "Epoch 0: |          | 0/? [35:21<?, ?it/s]\n",
      "Epoch 0: |          | 0/? [36:44<?, ?it/s]\n",
      "Epoch 0: |          | 0/? [36:44<?, ?it/s]\n",
      "Epoch 0: |          | 0/? [39:40<?, ?it/s]\n",
      "Epoch 0: |          | 0/? [34:23<?, ?it/s]\n",
      "Epoch 0: |          | 0/? [34:52<?, ?it/s]\n",
      "Epoch 0: |          | 0/? [35:21<?, ?it/s]\n",
      "Epoch 0: |          | 0/? [36:44<?, ?it/s]\n",
      "Epoch 0: |          | 0/? [38:21<?, ?it/s]\n",
      "Epoch 0: |          | 0/? [35:21<?, ?it/s]\n",
      "Epoch 0: |          | 0/? [41:47<?, ?it/s]\n",
      "Epoch 0: |          | 0/? [36:44<?, ?it/s]\n",
      "Epoch 0: |          | 0/? [35:21<?, ?it/s]\n",
      "Epoch 0: |          | 0/? [38:21<?, ?it/s]\n",
      "Epoch 0: |          | 0/? [39:40<?, ?it/s]\n",
      "Epoch 0: |          | 0/? [34:52<?, ?it/s]\n",
      "Epoch 0: |          | 0/? [35:21<?, ?it/s]\n",
      "Epoch 0: |          | 0/? [35:21<?, ?it/s]\n",
      "Epoch 0: |          | 0/? [39:40<?, ?it/s]\n",
      "Epoch 0: |          | 0/? [38:21<?, ?it/s]\n",
      "Epoch 0: |          | 0/? [34:23<?, ?it/s]\n",
      "Epoch 0: |          | 0/? [34:52<?, ?it/s]\n",
      "Epoch 0: |          | 0/? [35:21<?, ?it/s]\n",
      "Epoch 0: |          | 0/? [36:44<?, ?it/s]\n",
      "Epoch 0: |          | 0/? [34:52<?, ?it/s]\n",
      "Epoch 0: |          | 0/? [38:21<?, ?it/s]\n",
      "Epoch 0: |          | 0/? [35:21<?, ?it/s]\n",
      "Epoch 0: |          | 0/? [34:52<?, ?it/s]\n",
      "Epoch 0: |          | 0/? [36:44<?, ?it/s]\n",
      "Epoch 0: |          | 0/? [38:21<?, ?it/s]\n",
      "Epoch 0: |          | 0/? [34:23<?, ?it/s]\n",
      "Epoch 0: |          | 0/? [34:52<?, ?it/s]\n",
      "Epoch 0: |          | 0/? [34:52<?, ?it/s]\n",
      "Epoch 0: |          | 0/? [38:21<?, ?it/s]\n",
      "Epoch 0: |          | 0/? [36:44<?, ?it/s]\n",
      "Epoch 0: |          | 0/? [34:23<?, ?it/s]\n",
      "Epoch 0: |          | 0/? [34:52<?, ?it/s]\n",
      "Epoch 0: |          | 0/? [35:21<?, ?it/s]\n",
      "Epoch 0: |          | 0/? [34:23<?, ?it/s]\n",
      "Epoch 0: |          | 0/? [36:44<?, ?it/s]\n",
      "Epoch 0: |          | 0/? [34:52<?, ?it/s]\n",
      "Epoch 0: |          | 0/? [34:23<?, ?it/s]\n",
      "Epoch 0: |          | 0/? [35:21<?, ?it/s]\n",
      "Epoch 0: |          | 0/? [36:44<?, ?it/s]\n",
      "Epoch 0: |          | 0/? [34:23<?, ?it/s]\n",
      "Epoch 0: |          | 0/? [34:23<?, ?it/s]\n",
      "Epoch 0: |          | 0/? [36:44<?, ?it/s]\n",
      "Epoch 0: |          | 0/? [35:21<?, ?it/s]\n",
      "Epoch 0: |          | 0/? [34:23<?, ?it/s]\n",
      "Epoch 0: |          | 0/? [34:52<?, ?it/s]\n",
      "Epoch 0: |          | 0/? [35:21<?, ?it/s]\n",
      "Epoch 0: |          | 0/? [34:23<?, ?it/s]\n",
      "Epoch 0: |          | 0/? [34:52<?, ?it/s]\n",
      "Epoch 0: |          | 0/? [35:21<?, ?it/s]\n",
      "Epoch 0: |          | 0/? [35:21<?, ?it/s]\n",
      "Epoch 0: |          | 0/? [34:52<?, ?it/s]\n",
      "Epoch 0: |          | 0/? [34:23<?, ?it/s]\n",
      "Epoch 0: |          | 0/? [34:52<?, ?it/s]\n",
      "Epoch 0: |          | 0/? [34:52<?, ?it/s]\n",
      "Epoch 0: |          | 0/? [34:52<?, ?it/s]\n",
      "Epoch 0: |          | 0/? [34:23<?, ?it/s]\n",
      "Epoch 0: |          | 0/? [34:23<?, ?it/s]\n",
      "Epoch 0: |          | 0/? [34:23<?, ?it/s]\n",
      "Epoch 0: |          | 0/? [34:23<?, ?it/s]\n",
      "Epoch 0: |          | 0/? [34:23<?, ?it/s]\n",
      "Epoch 2: |          | 7283/? [02:08<00:00, 56.74it/s, v_num=0, train_loss=0.0296]  "
     ]
    },
    {
     "name": "stderr",
     "output_type": "stream",
     "text": [
      "\n",
      "Detected KeyboardInterrupt, attempting graceful shutdown ...\n"
     ]
    },
    {
     "name": "stdout",
     "output_type": "stream",
     "text": [
      "Epoch 0: |          | 0/? [43:54<?, ?it/s]\n",
      "Epoch 0: |          | 0/? [41:47<?, ?it/s]\n",
      "Epoch 0: |          | 0/? [40:28<?, ?it/s]\n",
      "Epoch 0: |          | 0/? [38:52<?, ?it/s]\n",
      "Epoch 0: |          | 0/? [37:28<?, ?it/s]\n",
      "Epoch 0: |          | 0/? [36:59<?, ?it/s]\n",
      "Epoch 0: |          | 0/? [36:31<?, ?it/s]\n"
     ]
    },
    {
     "ename": "NameError",
     "evalue": "name 'exit' is not defined",
     "output_type": "error",
     "traceback": [
      "\u001b[0;31m---------------------------------------------------------------------------\u001b[0m",
      "\u001b[0;31mKeyboardInterrupt\u001b[0m                         Traceback (most recent call last)",
      "File \u001b[0;32m~/git/ki-ueben-klavier-trainieren/venv/lib/python3.10/site-packages/lightning/pytorch/trainer/call.py:47\u001b[0m, in \u001b[0;36m_call_and_handle_interrupt\u001b[0;34m(trainer, trainer_fn, *args, **kwargs)\u001b[0m\n\u001b[1;32m     46\u001b[0m         \u001b[38;5;28;01mreturn\u001b[39;00m trainer\u001b[38;5;241m.\u001b[39mstrategy\u001b[38;5;241m.\u001b[39mlauncher\u001b[38;5;241m.\u001b[39mlaunch(trainer_fn, \u001b[38;5;241m*\u001b[39margs, trainer\u001b[38;5;241m=\u001b[39mtrainer, \u001b[38;5;241m*\u001b[39m\u001b[38;5;241m*\u001b[39mkwargs)\n\u001b[0;32m---> 47\u001b[0m     \u001b[38;5;28;01mreturn\u001b[39;00m \u001b[43mtrainer_fn\u001b[49m\u001b[43m(\u001b[49m\u001b[38;5;241;43m*\u001b[39;49m\u001b[43margs\u001b[49m\u001b[43m,\u001b[49m\u001b[43m \u001b[49m\u001b[38;5;241;43m*\u001b[39;49m\u001b[38;5;241;43m*\u001b[39;49m\u001b[43mkwargs\u001b[49m\u001b[43m)\u001b[49m\n\u001b[1;32m     49\u001b[0m \u001b[38;5;28;01mexcept\u001b[39;00m _TunerExitException:\n",
      "File \u001b[0;32m~/git/ki-ueben-klavier-trainieren/venv/lib/python3.10/site-packages/lightning/pytorch/trainer/trainer.py:574\u001b[0m, in \u001b[0;36mTrainer._fit_impl\u001b[0;34m(self, model, train_dataloaders, val_dataloaders, datamodule, ckpt_path)\u001b[0m\n\u001b[1;32m    568\u001b[0m ckpt_path \u001b[38;5;241m=\u001b[39m \u001b[38;5;28mself\u001b[39m\u001b[38;5;241m.\u001b[39m_checkpoint_connector\u001b[38;5;241m.\u001b[39m_select_ckpt_path(\n\u001b[1;32m    569\u001b[0m     \u001b[38;5;28mself\u001b[39m\u001b[38;5;241m.\u001b[39mstate\u001b[38;5;241m.\u001b[39mfn,\n\u001b[1;32m    570\u001b[0m     ckpt_path,\n\u001b[1;32m    571\u001b[0m     model_provided\u001b[38;5;241m=\u001b[39m\u001b[38;5;28;01mTrue\u001b[39;00m,\n\u001b[1;32m    572\u001b[0m     model_connected\u001b[38;5;241m=\u001b[39m\u001b[38;5;28mself\u001b[39m\u001b[38;5;241m.\u001b[39mlightning_module \u001b[38;5;129;01mis\u001b[39;00m \u001b[38;5;129;01mnot\u001b[39;00m \u001b[38;5;28;01mNone\u001b[39;00m,\n\u001b[1;32m    573\u001b[0m )\n\u001b[0;32m--> 574\u001b[0m \u001b[38;5;28;43mself\u001b[39;49m\u001b[38;5;241;43m.\u001b[39;49m\u001b[43m_run\u001b[49m\u001b[43m(\u001b[49m\u001b[43mmodel\u001b[49m\u001b[43m,\u001b[49m\u001b[43m \u001b[49m\u001b[43mckpt_path\u001b[49m\u001b[38;5;241;43m=\u001b[39;49m\u001b[43mckpt_path\u001b[49m\u001b[43m)\u001b[49m\n\u001b[1;32m    576\u001b[0m \u001b[38;5;28;01massert\u001b[39;00m \u001b[38;5;28mself\u001b[39m\u001b[38;5;241m.\u001b[39mstate\u001b[38;5;241m.\u001b[39mstopped\n",
      "File \u001b[0;32m~/git/ki-ueben-klavier-trainieren/venv/lib/python3.10/site-packages/lightning/pytorch/trainer/trainer.py:981\u001b[0m, in \u001b[0;36mTrainer._run\u001b[0;34m(self, model, ckpt_path)\u001b[0m\n\u001b[1;32m    978\u001b[0m \u001b[38;5;66;03m# ----------------------------\u001b[39;00m\n\u001b[1;32m    979\u001b[0m \u001b[38;5;66;03m# RUN THE TRAINER\u001b[39;00m\n\u001b[1;32m    980\u001b[0m \u001b[38;5;66;03m# ----------------------------\u001b[39;00m\n\u001b[0;32m--> 981\u001b[0m results \u001b[38;5;241m=\u001b[39m \u001b[38;5;28;43mself\u001b[39;49m\u001b[38;5;241;43m.\u001b[39;49m\u001b[43m_run_stage\u001b[49m\u001b[43m(\u001b[49m\u001b[43m)\u001b[49m\n\u001b[1;32m    983\u001b[0m \u001b[38;5;66;03m# ----------------------------\u001b[39;00m\n\u001b[1;32m    984\u001b[0m \u001b[38;5;66;03m# POST-Training CLEAN UP\u001b[39;00m\n\u001b[1;32m    985\u001b[0m \u001b[38;5;66;03m# ----------------------------\u001b[39;00m\n",
      "File \u001b[0;32m~/git/ki-ueben-klavier-trainieren/venv/lib/python3.10/site-packages/lightning/pytorch/trainer/trainer.py:1025\u001b[0m, in \u001b[0;36mTrainer._run_stage\u001b[0;34m(self)\u001b[0m\n\u001b[1;32m   1024\u001b[0m \u001b[38;5;28;01mwith\u001b[39;00m torch\u001b[38;5;241m.\u001b[39mautograd\u001b[38;5;241m.\u001b[39mset_detect_anomaly(\u001b[38;5;28mself\u001b[39m\u001b[38;5;241m.\u001b[39m_detect_anomaly):\n\u001b[0;32m-> 1025\u001b[0m     \u001b[38;5;28;43mself\u001b[39;49m\u001b[38;5;241;43m.\u001b[39;49m\u001b[43mfit_loop\u001b[49m\u001b[38;5;241;43m.\u001b[39;49m\u001b[43mrun\u001b[49m\u001b[43m(\u001b[49m\u001b[43m)\u001b[49m\n\u001b[1;32m   1026\u001b[0m \u001b[38;5;28;01mreturn\u001b[39;00m \u001b[38;5;28;01mNone\u001b[39;00m\n",
      "File \u001b[0;32m~/git/ki-ueben-klavier-trainieren/venv/lib/python3.10/site-packages/lightning/pytorch/loops/fit_loop.py:205\u001b[0m, in \u001b[0;36m_FitLoop.run\u001b[0;34m(self)\u001b[0m\n\u001b[1;32m    204\u001b[0m \u001b[38;5;28mself\u001b[39m\u001b[38;5;241m.\u001b[39mon_advance_start()\n\u001b[0;32m--> 205\u001b[0m \u001b[38;5;28;43mself\u001b[39;49m\u001b[38;5;241;43m.\u001b[39;49m\u001b[43madvance\u001b[49m\u001b[43m(\u001b[49m\u001b[43m)\u001b[49m\n\u001b[1;32m    206\u001b[0m \u001b[38;5;28mself\u001b[39m\u001b[38;5;241m.\u001b[39mon_advance_end()\n",
      "File \u001b[0;32m~/git/ki-ueben-klavier-trainieren/venv/lib/python3.10/site-packages/lightning/pytorch/loops/fit_loop.py:363\u001b[0m, in \u001b[0;36m_FitLoop.advance\u001b[0;34m(self)\u001b[0m\n\u001b[1;32m    362\u001b[0m \u001b[38;5;28;01massert\u001b[39;00m \u001b[38;5;28mself\u001b[39m\u001b[38;5;241m.\u001b[39m_data_fetcher \u001b[38;5;129;01mis\u001b[39;00m \u001b[38;5;129;01mnot\u001b[39;00m \u001b[38;5;28;01mNone\u001b[39;00m\n\u001b[0;32m--> 363\u001b[0m \u001b[38;5;28;43mself\u001b[39;49m\u001b[38;5;241;43m.\u001b[39;49m\u001b[43mepoch_loop\u001b[49m\u001b[38;5;241;43m.\u001b[39;49m\u001b[43mrun\u001b[49m\u001b[43m(\u001b[49m\u001b[38;5;28;43mself\u001b[39;49m\u001b[38;5;241;43m.\u001b[39;49m\u001b[43m_data_fetcher\u001b[49m\u001b[43m)\u001b[49m\n",
      "File \u001b[0;32m~/git/ki-ueben-klavier-trainieren/venv/lib/python3.10/site-packages/lightning/pytorch/loops/training_epoch_loop.py:140\u001b[0m, in \u001b[0;36m_TrainingEpochLoop.run\u001b[0;34m(self, data_fetcher)\u001b[0m\n\u001b[1;32m    139\u001b[0m \u001b[38;5;28;01mtry\u001b[39;00m:\n\u001b[0;32m--> 140\u001b[0m     \u001b[38;5;28;43mself\u001b[39;49m\u001b[38;5;241;43m.\u001b[39;49m\u001b[43madvance\u001b[49m\u001b[43m(\u001b[49m\u001b[43mdata_fetcher\u001b[49m\u001b[43m)\u001b[49m\n\u001b[1;32m    141\u001b[0m     \u001b[38;5;28mself\u001b[39m\u001b[38;5;241m.\u001b[39mon_advance_end(data_fetcher)\n",
      "File \u001b[0;32m~/git/ki-ueben-klavier-trainieren/venv/lib/python3.10/site-packages/lightning/pytorch/loops/training_epoch_loop.py:212\u001b[0m, in \u001b[0;36m_TrainingEpochLoop.advance\u001b[0;34m(self, data_fetcher)\u001b[0m\n\u001b[1;32m    211\u001b[0m dataloader_iter \u001b[38;5;241m=\u001b[39m \u001b[38;5;28;01mNone\u001b[39;00m\n\u001b[0;32m--> 212\u001b[0m batch, _, __ \u001b[38;5;241m=\u001b[39m \u001b[38;5;28;43mnext\u001b[39;49m\u001b[43m(\u001b[49m\u001b[43mdata_fetcher\u001b[49m\u001b[43m)\u001b[49m\n\u001b[1;32m    213\u001b[0m \u001b[38;5;66;03m# TODO: we should instead use the batch_idx returned by the fetcher, however, that will require saving the\u001b[39;00m\n\u001b[1;32m    214\u001b[0m \u001b[38;5;66;03m# fetcher state so that the batch_idx is correct after restarting\u001b[39;00m\n",
      "File \u001b[0;32m~/git/ki-ueben-klavier-trainieren/venv/lib/python3.10/site-packages/lightning/pytorch/loops/fetchers.py:127\u001b[0m, in \u001b[0;36m_PrefetchDataFetcher.__next__\u001b[0;34m(self)\u001b[0m\n\u001b[1;32m    125\u001b[0m \u001b[38;5;28;01mtry\u001b[39;00m:\n\u001b[1;32m    126\u001b[0m     \u001b[38;5;66;03m# refill the consumed batch\u001b[39;00m\n\u001b[0;32m--> 127\u001b[0m     \u001b[38;5;28mself\u001b[39m\u001b[38;5;241m.\u001b[39mbatches\u001b[38;5;241m.\u001b[39mappend(\u001b[38;5;28;43msuper\u001b[39;49m\u001b[43m(\u001b[49m\u001b[43m)\u001b[49m\u001b[38;5;241;43m.\u001b[39;49m\u001b[38;5;21;43m__next__\u001b[39;49m\u001b[43m(\u001b[49m\u001b[43m)\u001b[49m)\n\u001b[1;32m    128\u001b[0m \u001b[38;5;28;01mexcept\u001b[39;00m \u001b[38;5;167;01mStopIteration\u001b[39;00m:\n\u001b[1;32m    129\u001b[0m     \u001b[38;5;66;03m# no more batches to fetch. we are done only if all pre-fetched batches were returned\u001b[39;00m\n",
      "File \u001b[0;32m~/git/ki-ueben-klavier-trainieren/venv/lib/python3.10/site-packages/lightning/pytorch/loops/fetchers.py:60\u001b[0m, in \u001b[0;36m_DataFetcher.__next__\u001b[0;34m(self)\u001b[0m\n\u001b[1;32m     59\u001b[0m \u001b[38;5;28;01mtry\u001b[39;00m:\n\u001b[0;32m---> 60\u001b[0m     batch \u001b[38;5;241m=\u001b[39m \u001b[38;5;28;43mnext\u001b[39;49m\u001b[43m(\u001b[49m\u001b[38;5;28;43mself\u001b[39;49m\u001b[38;5;241;43m.\u001b[39;49m\u001b[43miterator\u001b[49m\u001b[43m)\u001b[49m\n\u001b[1;32m     61\u001b[0m \u001b[38;5;28;01mexcept\u001b[39;00m \u001b[38;5;167;01mStopIteration\u001b[39;00m:\n",
      "File \u001b[0;32m~/git/ki-ueben-klavier-trainieren/venv/lib/python3.10/site-packages/lightning/pytorch/utilities/combined_loader.py:341\u001b[0m, in \u001b[0;36mCombinedLoader.__next__\u001b[0;34m(self)\u001b[0m\n\u001b[1;32m    340\u001b[0m \u001b[38;5;28;01massert\u001b[39;00m \u001b[38;5;28mself\u001b[39m\u001b[38;5;241m.\u001b[39m_iterator \u001b[38;5;129;01mis\u001b[39;00m \u001b[38;5;129;01mnot\u001b[39;00m \u001b[38;5;28;01mNone\u001b[39;00m\n\u001b[0;32m--> 341\u001b[0m out \u001b[38;5;241m=\u001b[39m \u001b[38;5;28;43mnext\u001b[39;49m\u001b[43m(\u001b[49m\u001b[38;5;28;43mself\u001b[39;49m\u001b[38;5;241;43m.\u001b[39;49m\u001b[43m_iterator\u001b[49m\u001b[43m)\u001b[49m\n\u001b[1;32m    342\u001b[0m \u001b[38;5;28;01mif\u001b[39;00m \u001b[38;5;28misinstance\u001b[39m(\u001b[38;5;28mself\u001b[39m\u001b[38;5;241m.\u001b[39m_iterator, _Sequential):\n",
      "File \u001b[0;32m~/git/ki-ueben-klavier-trainieren/venv/lib/python3.10/site-packages/lightning/pytorch/utilities/combined_loader.py:78\u001b[0m, in \u001b[0;36m_MaxSizeCycle.__next__\u001b[0;34m(self)\u001b[0m\n\u001b[1;32m     77\u001b[0m \u001b[38;5;28;01mtry\u001b[39;00m:\n\u001b[0;32m---> 78\u001b[0m     out[i] \u001b[38;5;241m=\u001b[39m \u001b[38;5;28;43mnext\u001b[39;49m\u001b[43m(\u001b[49m\u001b[38;5;28;43mself\u001b[39;49m\u001b[38;5;241;43m.\u001b[39;49m\u001b[43miterators\u001b[49m\u001b[43m[\u001b[49m\u001b[43mi\u001b[49m\u001b[43m]\u001b[49m\u001b[43m)\u001b[49m\n\u001b[1;32m     79\u001b[0m \u001b[38;5;28;01mexcept\u001b[39;00m \u001b[38;5;167;01mStopIteration\u001b[39;00m:\n",
      "File \u001b[0;32m~/git/ki-ueben-klavier-trainieren/venv/lib/python3.10/site-packages/torch/utils/data/dataloader.py:631\u001b[0m, in \u001b[0;36m_BaseDataLoaderIter.__next__\u001b[0;34m(self)\u001b[0m\n\u001b[1;32m    630\u001b[0m     \u001b[38;5;28mself\u001b[39m\u001b[38;5;241m.\u001b[39m_reset()  \u001b[38;5;66;03m# type: ignore[call-arg]\u001b[39;00m\n\u001b[0;32m--> 631\u001b[0m data \u001b[38;5;241m=\u001b[39m \u001b[38;5;28;43mself\u001b[39;49m\u001b[38;5;241;43m.\u001b[39;49m\u001b[43m_next_data\u001b[49m\u001b[43m(\u001b[49m\u001b[43m)\u001b[49m\n\u001b[1;32m    632\u001b[0m \u001b[38;5;28mself\u001b[39m\u001b[38;5;241m.\u001b[39m_num_yielded \u001b[38;5;241m+\u001b[39m\u001b[38;5;241m=\u001b[39m \u001b[38;5;241m1\u001b[39m\n",
      "File \u001b[0;32m~/git/ki-ueben-klavier-trainieren/venv/lib/python3.10/site-packages/torch/utils/data/dataloader.py:1329\u001b[0m, in \u001b[0;36m_MultiProcessingDataLoaderIter._next_data\u001b[0;34m(self)\u001b[0m\n\u001b[1;32m   1328\u001b[0m \u001b[38;5;28;01massert\u001b[39;00m \u001b[38;5;129;01mnot\u001b[39;00m \u001b[38;5;28mself\u001b[39m\u001b[38;5;241m.\u001b[39m_shutdown \u001b[38;5;129;01mand\u001b[39;00m \u001b[38;5;28mself\u001b[39m\u001b[38;5;241m.\u001b[39m_tasks_outstanding \u001b[38;5;241m>\u001b[39m \u001b[38;5;241m0\u001b[39m\n\u001b[0;32m-> 1329\u001b[0m idx, data \u001b[38;5;241m=\u001b[39m \u001b[38;5;28;43mself\u001b[39;49m\u001b[38;5;241;43m.\u001b[39;49m\u001b[43m_get_data\u001b[49m\u001b[43m(\u001b[49m\u001b[43m)\u001b[49m\n\u001b[1;32m   1330\u001b[0m \u001b[38;5;28mself\u001b[39m\u001b[38;5;241m.\u001b[39m_tasks_outstanding \u001b[38;5;241m-\u001b[39m\u001b[38;5;241m=\u001b[39m \u001b[38;5;241m1\u001b[39m\n",
      "File \u001b[0;32m~/git/ki-ueben-klavier-trainieren/venv/lib/python3.10/site-packages/torch/utils/data/dataloader.py:1295\u001b[0m, in \u001b[0;36m_MultiProcessingDataLoaderIter._get_data\u001b[0;34m(self)\u001b[0m\n\u001b[1;32m   1294\u001b[0m \u001b[38;5;28;01mwhile\u001b[39;00m \u001b[38;5;28;01mTrue\u001b[39;00m:\n\u001b[0;32m-> 1295\u001b[0m     success, data \u001b[38;5;241m=\u001b[39m \u001b[38;5;28;43mself\u001b[39;49m\u001b[38;5;241;43m.\u001b[39;49m\u001b[43m_try_get_data\u001b[49m\u001b[43m(\u001b[49m\u001b[43m)\u001b[49m\n\u001b[1;32m   1296\u001b[0m     \u001b[38;5;28;01mif\u001b[39;00m success:\n",
      "File \u001b[0;32m~/git/ki-ueben-klavier-trainieren/venv/lib/python3.10/site-packages/torch/utils/data/dataloader.py:1133\u001b[0m, in \u001b[0;36m_MultiProcessingDataLoaderIter._try_get_data\u001b[0;34m(self, timeout)\u001b[0m\n\u001b[1;32m   1132\u001b[0m \u001b[38;5;28;01mtry\u001b[39;00m:\n\u001b[0;32m-> 1133\u001b[0m     data \u001b[38;5;241m=\u001b[39m \u001b[38;5;28;43mself\u001b[39;49m\u001b[38;5;241;43m.\u001b[39;49m\u001b[43m_data_queue\u001b[49m\u001b[38;5;241;43m.\u001b[39;49m\u001b[43mget\u001b[49m\u001b[43m(\u001b[49m\u001b[43mtimeout\u001b[49m\u001b[38;5;241;43m=\u001b[39;49m\u001b[43mtimeout\u001b[49m\u001b[43m)\u001b[49m\n\u001b[1;32m   1134\u001b[0m     \u001b[38;5;28;01mreturn\u001b[39;00m (\u001b[38;5;28;01mTrue\u001b[39;00m, data)\n",
      "File \u001b[0;32m/usr/lib/python3.10/multiprocessing/queues.py:122\u001b[0m, in \u001b[0;36mQueue.get\u001b[0;34m(self, block, timeout)\u001b[0m\n\u001b[1;32m    121\u001b[0m \u001b[38;5;66;03m# unserialize the data after having released the lock\u001b[39;00m\n\u001b[0;32m--> 122\u001b[0m \u001b[38;5;28;01mreturn\u001b[39;00m \u001b[43m_ForkingPickler\u001b[49m\u001b[38;5;241;43m.\u001b[39;49m\u001b[43mloads\u001b[49m\u001b[43m(\u001b[49m\u001b[43mres\u001b[49m\u001b[43m)\u001b[49m\n",
      "File \u001b[0;32m~/git/ki-ueben-klavier-trainieren/venv/lib/python3.10/site-packages/torch/multiprocessing/reductions.py:495\u001b[0m, in \u001b[0;36mrebuild_storage_fd\u001b[0;34m(cls, df, size)\u001b[0m\n\u001b[1;32m    494\u001b[0m \u001b[38;5;28;01mdef\u001b[39;00m \u001b[38;5;21mrebuild_storage_fd\u001b[39m(\u001b[38;5;28mcls\u001b[39m, df, size):\n\u001b[0;32m--> 495\u001b[0m     fd \u001b[38;5;241m=\u001b[39m \u001b[43mdf\u001b[49m\u001b[38;5;241;43m.\u001b[39;49m\u001b[43mdetach\u001b[49m\u001b[43m(\u001b[49m\u001b[43m)\u001b[49m\n\u001b[1;32m    496\u001b[0m     \u001b[38;5;28;01mtry\u001b[39;00m:\n",
      "File \u001b[0;32m/usr/lib/python3.10/multiprocessing/resource_sharer.py:57\u001b[0m, in \u001b[0;36mDupFd.detach\u001b[0;34m(self)\u001b[0m\n\u001b[1;32m     56\u001b[0m \u001b[38;5;250m\u001b[39m\u001b[38;5;124;03m'''Get the fd.  This should only be called once.'''\u001b[39;00m\n\u001b[0;32m---> 57\u001b[0m \u001b[38;5;28;01mwith\u001b[39;00m \u001b[43m_resource_sharer\u001b[49m\u001b[38;5;241;43m.\u001b[39;49m\u001b[43mget_connection\u001b[49m\u001b[43m(\u001b[49m\u001b[38;5;28;43mself\u001b[39;49m\u001b[38;5;241;43m.\u001b[39;49m\u001b[43m_id\u001b[49m\u001b[43m)\u001b[49m \u001b[38;5;28;01mas\u001b[39;00m conn:\n\u001b[1;32m     58\u001b[0m     \u001b[38;5;28;01mreturn\u001b[39;00m reduction\u001b[38;5;241m.\u001b[39mrecv_handle(conn)\n",
      "File \u001b[0;32m/usr/lib/python3.10/multiprocessing/resource_sharer.py:86\u001b[0m, in \u001b[0;36m_ResourceSharer.get_connection\u001b[0;34m(ident)\u001b[0m\n\u001b[1;32m     85\u001b[0m address, key \u001b[38;5;241m=\u001b[39m ident\n\u001b[0;32m---> 86\u001b[0m c \u001b[38;5;241m=\u001b[39m \u001b[43mClient\u001b[49m\u001b[43m(\u001b[49m\u001b[43maddress\u001b[49m\u001b[43m,\u001b[49m\u001b[43m \u001b[49m\u001b[43mauthkey\u001b[49m\u001b[38;5;241;43m=\u001b[39;49m\u001b[43mprocess\u001b[49m\u001b[38;5;241;43m.\u001b[39;49m\u001b[43mcurrent_process\u001b[49m\u001b[43m(\u001b[49m\u001b[43m)\u001b[49m\u001b[38;5;241;43m.\u001b[39;49m\u001b[43mauthkey\u001b[49m\u001b[43m)\u001b[49m\n\u001b[1;32m     87\u001b[0m c\u001b[38;5;241m.\u001b[39msend((key, os\u001b[38;5;241m.\u001b[39mgetpid()))\n",
      "File \u001b[0;32m/usr/lib/python3.10/multiprocessing/connection.py:508\u001b[0m, in \u001b[0;36mClient\u001b[0;34m(address, family, authkey)\u001b[0m\n\u001b[1;32m    507\u001b[0m \u001b[38;5;28;01mif\u001b[39;00m authkey \u001b[38;5;129;01mis\u001b[39;00m \u001b[38;5;129;01mnot\u001b[39;00m \u001b[38;5;28;01mNone\u001b[39;00m:\n\u001b[0;32m--> 508\u001b[0m     \u001b[43manswer_challenge\u001b[49m\u001b[43m(\u001b[49m\u001b[43mc\u001b[49m\u001b[43m,\u001b[49m\u001b[43m \u001b[49m\u001b[43mauthkey\u001b[49m\u001b[43m)\u001b[49m\n\u001b[1;32m    509\u001b[0m     deliver_challenge(c, authkey)\n",
      "File \u001b[0;32m/usr/lib/python3.10/multiprocessing/connection.py:752\u001b[0m, in \u001b[0;36manswer_challenge\u001b[0;34m(connection, authkey)\u001b[0m\n\u001b[1;32m    750\u001b[0m     \u001b[38;5;28;01mraise\u001b[39;00m \u001b[38;5;167;01mValueError\u001b[39;00m(\n\u001b[1;32m    751\u001b[0m         \u001b[38;5;124m\"\u001b[39m\u001b[38;5;124mAuthkey must be bytes, not \u001b[39m\u001b[38;5;132;01m{0!s}\u001b[39;00m\u001b[38;5;124m\"\u001b[39m\u001b[38;5;241m.\u001b[39mformat(\u001b[38;5;28mtype\u001b[39m(authkey)))\n\u001b[0;32m--> 752\u001b[0m message \u001b[38;5;241m=\u001b[39m \u001b[43mconnection\u001b[49m\u001b[38;5;241;43m.\u001b[39;49m\u001b[43mrecv_bytes\u001b[49m\u001b[43m(\u001b[49m\u001b[38;5;241;43m256\u001b[39;49m\u001b[43m)\u001b[49m         \u001b[38;5;66;03m# reject large message\u001b[39;00m\n\u001b[1;32m    753\u001b[0m \u001b[38;5;28;01massert\u001b[39;00m message[:\u001b[38;5;28mlen\u001b[39m(CHALLENGE)] \u001b[38;5;241m==\u001b[39m CHALLENGE, \u001b[38;5;124m'\u001b[39m\u001b[38;5;124mmessage = \u001b[39m\u001b[38;5;132;01m%r\u001b[39;00m\u001b[38;5;124m'\u001b[39m \u001b[38;5;241m%\u001b[39m message\n",
      "File \u001b[0;32m/usr/lib/python3.10/multiprocessing/connection.py:216\u001b[0m, in \u001b[0;36m_ConnectionBase.recv_bytes\u001b[0;34m(self, maxlength)\u001b[0m\n\u001b[1;32m    215\u001b[0m     \u001b[38;5;28;01mraise\u001b[39;00m \u001b[38;5;167;01mValueError\u001b[39;00m(\u001b[38;5;124m\"\u001b[39m\u001b[38;5;124mnegative maxlength\u001b[39m\u001b[38;5;124m\"\u001b[39m)\n\u001b[0;32m--> 216\u001b[0m buf \u001b[38;5;241m=\u001b[39m \u001b[38;5;28;43mself\u001b[39;49m\u001b[38;5;241;43m.\u001b[39;49m\u001b[43m_recv_bytes\u001b[49m\u001b[43m(\u001b[49m\u001b[43mmaxlength\u001b[49m\u001b[43m)\u001b[49m\n\u001b[1;32m    217\u001b[0m \u001b[38;5;28;01mif\u001b[39;00m buf \u001b[38;5;129;01mis\u001b[39;00m \u001b[38;5;28;01mNone\u001b[39;00m:\n",
      "File \u001b[0;32m/usr/lib/python3.10/multiprocessing/connection.py:414\u001b[0m, in \u001b[0;36mConnection._recv_bytes\u001b[0;34m(self, maxsize)\u001b[0m\n\u001b[1;32m    413\u001b[0m \u001b[38;5;28;01mdef\u001b[39;00m \u001b[38;5;21m_recv_bytes\u001b[39m(\u001b[38;5;28mself\u001b[39m, maxsize\u001b[38;5;241m=\u001b[39m\u001b[38;5;28;01mNone\u001b[39;00m):\n\u001b[0;32m--> 414\u001b[0m     buf \u001b[38;5;241m=\u001b[39m \u001b[38;5;28;43mself\u001b[39;49m\u001b[38;5;241;43m.\u001b[39;49m\u001b[43m_recv\u001b[49m\u001b[43m(\u001b[49m\u001b[38;5;241;43m4\u001b[39;49m\u001b[43m)\u001b[49m\n\u001b[1;32m    415\u001b[0m     size, \u001b[38;5;241m=\u001b[39m struct\u001b[38;5;241m.\u001b[39munpack(\u001b[38;5;124m\"\u001b[39m\u001b[38;5;124m!i\u001b[39m\u001b[38;5;124m\"\u001b[39m, buf\u001b[38;5;241m.\u001b[39mgetvalue())\n",
      "File \u001b[0;32m/usr/lib/python3.10/multiprocessing/connection.py:379\u001b[0m, in \u001b[0;36mConnection._recv\u001b[0;34m(self, size, read)\u001b[0m\n\u001b[1;32m    378\u001b[0m \u001b[38;5;28;01mwhile\u001b[39;00m remaining \u001b[38;5;241m>\u001b[39m \u001b[38;5;241m0\u001b[39m:\n\u001b[0;32m--> 379\u001b[0m     chunk \u001b[38;5;241m=\u001b[39m \u001b[43mread\u001b[49m\u001b[43m(\u001b[49m\u001b[43mhandle\u001b[49m\u001b[43m,\u001b[49m\u001b[43m \u001b[49m\u001b[43mremaining\u001b[49m\u001b[43m)\u001b[49m\n\u001b[1;32m    380\u001b[0m     n \u001b[38;5;241m=\u001b[39m \u001b[38;5;28mlen\u001b[39m(chunk)\n",
      "\u001b[0;31mKeyboardInterrupt\u001b[0m: ",
      "\nDuring handling of the above exception, another exception occurred:\n",
      "\u001b[0;31mNameError\u001b[0m                                 Traceback (most recent call last)",
      "Cell \u001b[0;32mIn[54], line 10\u001b[0m\n\u001b[1;32m      5\u001b[0m torch\u001b[38;5;241m.\u001b[39mset_float32_matmul_precision(\u001b[38;5;124m'\u001b[39m\u001b[38;5;124mhigh\u001b[39m\u001b[38;5;124m'\u001b[39m)\n\u001b[1;32m      7\u001b[0m simple_trainer \u001b[38;5;241m=\u001b[39m L\u001b[38;5;241m.\u001b[39mTrainer(\n\u001b[1;32m      8\u001b[0m     max_epochs\u001b[38;5;241m=\u001b[39m\u001b[38;5;241m5\u001b[39m, logger\u001b[38;5;241m=\u001b[39m[CSVLogger(save_dir\u001b[38;5;241m=\u001b[39m\u001b[38;5;124m\"\u001b[39m\u001b[38;5;124mlogs\u001b[39m\u001b[38;5;124m\"\u001b[39m, name\u001b[38;5;241m=\u001b[39m\u001b[38;5;124m\"\u001b[39m\u001b[38;5;124mlstm_net\u001b[39m\u001b[38;5;124m\"\u001b[39m, version\u001b[38;5;241m=\u001b[39m\u001b[38;5;241m0\u001b[39m)]\n\u001b[1;32m      9\u001b[0m )\n\u001b[0;32m---> 10\u001b[0m \u001b[43msimple_trainer\u001b[49m\u001b[38;5;241;43m.\u001b[39;49m\u001b[43mfit\u001b[49m\u001b[43m(\u001b[49m\u001b[43mmodel\u001b[49m\u001b[38;5;241;43m=\u001b[39;49m\u001b[43mpenalized_lstm_net\u001b[49m\u001b[43m,\u001b[49m\u001b[43m \u001b[49m\u001b[43mtrain_dataloaders\u001b[49m\u001b[38;5;241;43m=\u001b[39;49m\u001b[43mcontext_data_loader_wo_pedal\u001b[49m\u001b[43m)\u001b[49m\n",
      "File \u001b[0;32m~/git/ki-ueben-klavier-trainieren/venv/lib/python3.10/site-packages/lightning/pytorch/trainer/trainer.py:538\u001b[0m, in \u001b[0;36mTrainer.fit\u001b[0;34m(self, model, train_dataloaders, val_dataloaders, datamodule, ckpt_path)\u001b[0m\n\u001b[1;32m    536\u001b[0m \u001b[38;5;28mself\u001b[39m\u001b[38;5;241m.\u001b[39mstate\u001b[38;5;241m.\u001b[39mstatus \u001b[38;5;241m=\u001b[39m TrainerStatus\u001b[38;5;241m.\u001b[39mRUNNING\n\u001b[1;32m    537\u001b[0m \u001b[38;5;28mself\u001b[39m\u001b[38;5;241m.\u001b[39mtraining \u001b[38;5;241m=\u001b[39m \u001b[38;5;28;01mTrue\u001b[39;00m\n\u001b[0;32m--> 538\u001b[0m \u001b[43mcall\u001b[49m\u001b[38;5;241;43m.\u001b[39;49m\u001b[43m_call_and_handle_interrupt\u001b[49m\u001b[43m(\u001b[49m\n\u001b[1;32m    539\u001b[0m \u001b[43m    \u001b[49m\u001b[38;5;28;43mself\u001b[39;49m\u001b[43m,\u001b[49m\u001b[43m \u001b[49m\u001b[38;5;28;43mself\u001b[39;49m\u001b[38;5;241;43m.\u001b[39;49m\u001b[43m_fit_impl\u001b[49m\u001b[43m,\u001b[49m\u001b[43m \u001b[49m\u001b[43mmodel\u001b[49m\u001b[43m,\u001b[49m\u001b[43m \u001b[49m\u001b[43mtrain_dataloaders\u001b[49m\u001b[43m,\u001b[49m\u001b[43m \u001b[49m\u001b[43mval_dataloaders\u001b[49m\u001b[43m,\u001b[49m\u001b[43m \u001b[49m\u001b[43mdatamodule\u001b[49m\u001b[43m,\u001b[49m\u001b[43m \u001b[49m\u001b[43mckpt_path\u001b[49m\n\u001b[1;32m    540\u001b[0m \u001b[43m\u001b[49m\u001b[43m)\u001b[49m\n",
      "File \u001b[0;32m~/git/ki-ueben-klavier-trainieren/venv/lib/python3.10/site-packages/lightning/pytorch/trainer/call.py:64\u001b[0m, in \u001b[0;36m_call_and_handle_interrupt\u001b[0;34m(trainer, trainer_fn, *args, **kwargs)\u001b[0m\n\u001b[1;32m     62\u001b[0m     \u001b[38;5;28;01mif\u001b[39;00m \u001b[38;5;28misinstance\u001b[39m(launcher, _SubprocessScriptLauncher):\n\u001b[1;32m     63\u001b[0m         launcher\u001b[38;5;241m.\u001b[39mkill(_get_sigkill_signal())\n\u001b[0;32m---> 64\u001b[0m     \u001b[43mexit\u001b[49m(\u001b[38;5;241m1\u001b[39m)\n\u001b[1;32m     66\u001b[0m \u001b[38;5;28;01mexcept\u001b[39;00m \u001b[38;5;167;01mBaseException\u001b[39;00m \u001b[38;5;28;01mas\u001b[39;00m exception:\n\u001b[1;32m     67\u001b[0m     _interrupt(trainer, exception)\n",
      "\u001b[0;31mNameError\u001b[0m: name 'exit' is not defined"
     ]
    }
   ],
   "source": [
    "from pytorch_lightning.loggers import CSVLogger\n",
    "import torch \n",
    "\n",
    "# for tensor cores\n",
    "torch.set_float32_matmul_precision('high')\n",
    "\n",
    "simple_trainer = L.Trainer(\n",
    "    max_epochs=5, logger=[CSVLogger(save_dir=\"logs\", name=\"lstm_net\", version=0)]\n",
    ")\n",
    "simple_trainer.fit(model=penalized_lstm_net, train_dataloaders=context_data_loader_wo_pedal)"
   ]
  },
  {
   "cell_type": "code",
   "execution_count": null,
   "metadata": {},
   "outputs": [],
   "source": []
  },
  {
   "cell_type": "code",
   "execution_count": 58,
   "metadata": {},
   "outputs": [
    {
     "name": "stderr",
     "output_type": "stream",
     "text": [
      "/home/dennis/git/ki-ueben-klavier-trainieren/venv/lib/python3.10/site-packages/torch/nn/modules/module.py:1511: UserWarning: Implicit dimension choice for softmax has been deprecated. Change the call to include dim=X as an argument.\n",
      "  return self._call_impl(*args, **kwargs)\n"
     ]
    },
    {
     "data": {
      "image/png": "[encoded data removed]",
      "text/plain": [
       "<Figure size 500x500 with 1 Axes>"
      ]
     },
     "metadata": {
      "image/png": {
       "height": 450,
       "width": 266
      }
     },
     "output_type": "display_data"
    },
    {
     "data": {
      "image/png": "[encoded data removed]",
      "text/plain": [
       "<Figure size 1000x500 with 1 Axes>"
      ]
     },
     "metadata": {
      "image/png": {
       "height": 216,
       "width": 822
      }
     },
     "output_type": "display_data"
    }
   ],
   "source": [
    "for sample in piano_roll_wo_pedal_dataset:\n",
    "    piano_roll_sample = sample\n",
    "    break\n",
    "\n",
    "import matplotlib.pyplot as plt\n",
    "\n",
    "plt.figure(figsize=(5, 5))\n",
    "plt.imshow(piano_roll_sample[0].T, cmap=\"binary\");\n",
    "plt.title(\"Current sample\");\n",
    "note_sequence = piano_roll_sample[0]\n",
    "\n",
    "for i in range(400):\n",
    "    next_frame = penalized_lstm_net.forward(note_sequence.unsqueeze(0))\n",
    "    binary_frame = (torch.nn.Softmax()(next_frame) > 0.01).to(torch.float32)\n",
    "    note_sequence = torch.concat([note_sequence, binary_frame])\n",
    "\n",
    "predicted_sequence = note_sequence.detach().numpy()\n",
    "\n",
    "plt.figure(figsize=(10, 5))\n",
    "plt.imshow(predicted_sequence.T, cmap=\"binary\");\n",
    "plt.title(\"Current + predicted sample\");"
   ]
  },
  {
   "cell_type": "code",
   "execution_count": null,
   "metadata": {},
   "outputs": [],
   "source": []
  },
  {
   "cell_type": "code",
   "execution_count": 61,
   "metadata": {},
   "outputs": [],
   "source": [
    "events_df = piano_roll.events(0.008)"
   ]
  },
  {
   "cell_type": "code",
   "execution_count": 69,
   "metadata": {},
   "outputs": [
    {
     "data": {
      "text/plain": [
       "array([  1,   5,   9,  13,  17,  21,  25,  29,  33,  37,  41,  45,  49,\n",
       "        53,  57,  61,  66,  70,  74,  78,  82,  86,  90,  94,  98, 102,\n",
       "       106, 110, 114, 118, 122, 127], dtype=int32)"
      ]
     },
     "execution_count": 69,
     "metadata": {},
     "output_type": "execute_result"
    }
   ],
   "source": [
    "possible_velocity_steps = np.linspace(1, 127, 32, dtype=np.int32)\n",
    "possible_velocity_steps"
   ]
  },
  {
   "cell_type": "code",
   "execution_count": 81,
   "metadata": {},
   "outputs": [
    {
     "data": {
      "text/plain": [
       "(1.75, 222.25)"
      ]
     },
     "execution_count": 81,
     "metadata": {},
     "output_type": "execute_result"
    }
   ],
   "source": [
    "quantize(239, 0, 127, 4, 0, 127)"
   ]
  },
  {
   "cell_type": "code",
   "execution_count": 187,
   "metadata": {},
   "outputs": [],
   "source": [
    "from typing import NamedTuple\n",
    "\n",
    "class QuantizedValue(NamedTuple):\n",
    "    quantized_value: int\n",
    "    scaled_value: float\n",
    "\n",
    "def quantize(value, in_min, in_max, steps: int, out_min=0.0, out_max=1.0) -> QuantizedValue:\n",
    "    normalized_value = (value - in_min) / (in_max - in_min)\n",
    "    quantized_value = np.floor(normalized_value*steps) / steps\n",
    "    scaled_value = (quantized_value * (out_max - out_min)) + out_min\n",
    "    return QuantizedValue(int(quantized_value), scaled_value)"
   ]
  },
  {
   "cell_type": "code",
   "execution_count": 139,
   "metadata": {},
   "outputs": [
    {
     "data": {
      "text/html": [
       "<div>\n",
       "<style scoped>\n",
       "    .dataframe tbody tr th:only-of-type {\n",
       "        vertical-align: middle;\n",
       "    }\n",
       "\n",
       "    .dataframe tbody tr th {\n",
       "        vertical-align: top;\n",
       "    }\n",
       "\n",
       "    .dataframe thead th {\n",
       "        text-align: right;\n",
       "    }\n",
       "</style>\n",
       "<table border=\"1\" class=\"dataframe\">\n",
       "  <thead>\n",
       "    <tr style=\"text-align: right;\">\n",
       "      <th>note</th>\n",
       "      <th>-1</th>\n",
       "      <th>26</th>\n",
       "      <th>27</th>\n",
       "      <th>28</th>\n",
       "      <th>29</th>\n",
       "      <th>30</th>\n",
       "      <th>31</th>\n",
       "      <th>32</th>\n",
       "      <th>33</th>\n",
       "      <th>34</th>\n",
       "      <th>...</th>\n",
       "      <th>95</th>\n",
       "      <th>96</th>\n",
       "      <th>97</th>\n",
       "      <th>98</th>\n",
       "      <th>99</th>\n",
       "      <th>100</th>\n",
       "      <th>101</th>\n",
       "      <th>102</th>\n",
       "      <th>103</th>\n",
       "      <th>104</th>\n",
       "    </tr>\n",
       "    <tr>\n",
       "      <th>time</th>\n",
       "      <th></th>\n",
       "      <th></th>\n",
       "      <th></th>\n",
       "      <th></th>\n",
       "      <th></th>\n",
       "      <th></th>\n",
       "      <th></th>\n",
       "      <th></th>\n",
       "      <th></th>\n",
       "      <th></th>\n",
       "      <th></th>\n",
       "      <th></th>\n",
       "      <th></th>\n",
       "      <th></th>\n",
       "      <th></th>\n",
       "      <th></th>\n",
       "      <th></th>\n",
       "      <th></th>\n",
       "      <th></th>\n",
       "      <th></th>\n",
       "      <th></th>\n",
       "    </tr>\n",
       "  </thead>\n",
       "  <tbody>\n",
       "    <tr>\n",
       "      <th>0 days 00:00:00</th>\n",
       "      <td>127.0</td>\n",
       "      <td>NaN</td>\n",
       "      <td>NaN</td>\n",
       "      <td>NaN</td>\n",
       "      <td>NaN</td>\n",
       "      <td>NaN</td>\n",
       "      <td>NaN</td>\n",
       "      <td>NaN</td>\n",
       "      <td>NaN</td>\n",
       "      <td>NaN</td>\n",
       "      <td>...</td>\n",
       "      <td>NaN</td>\n",
       "      <td>NaN</td>\n",
       "      <td>NaN</td>\n",
       "      <td>NaN</td>\n",
       "      <td>NaN</td>\n",
       "      <td>NaN</td>\n",
       "      <td>NaN</td>\n",
       "      <td>NaN</td>\n",
       "      <td>NaN</td>\n",
       "      <td>NaN</td>\n",
       "    </tr>\n",
       "    <tr>\n",
       "      <th>0 days 00:00:00.437500</th>\n",
       "      <td>NaN</td>\n",
       "      <td>NaN</td>\n",
       "      <td>NaN</td>\n",
       "      <td>NaN</td>\n",
       "      <td>NaN</td>\n",
       "      <td>NaN</td>\n",
       "      <td>NaN</td>\n",
       "      <td>NaN</td>\n",
       "      <td>NaN</td>\n",
       "      <td>NaN</td>\n",
       "      <td>...</td>\n",
       "      <td>NaN</td>\n",
       "      <td>NaN</td>\n",
       "      <td>NaN</td>\n",
       "      <td>NaN</td>\n",
       "      <td>NaN</td>\n",
       "      <td>NaN</td>\n",
       "      <td>NaN</td>\n",
       "      <td>NaN</td>\n",
       "      <td>NaN</td>\n",
       "      <td>NaN</td>\n",
       "    </tr>\n",
       "    <tr>\n",
       "      <th>0 days 00:00:00.959635416</th>\n",
       "      <td>NaN</td>\n",
       "      <td>NaN</td>\n",
       "      <td>NaN</td>\n",
       "      <td>NaN</td>\n",
       "      <td>NaN</td>\n",
       "      <td>NaN</td>\n",
       "      <td>NaN</td>\n",
       "      <td>NaN</td>\n",
       "      <td>NaN</td>\n",
       "      <td>NaN</td>\n",
       "      <td>...</td>\n",
       "      <td>NaN</td>\n",
       "      <td>NaN</td>\n",
       "      <td>NaN</td>\n",
       "      <td>NaN</td>\n",
       "      <td>NaN</td>\n",
       "      <td>NaN</td>\n",
       "      <td>NaN</td>\n",
       "      <td>NaN</td>\n",
       "      <td>NaN</td>\n",
       "      <td>NaN</td>\n",
       "    </tr>\n",
       "    <tr>\n",
       "      <th>0 days 00:00:01.342447916</th>\n",
       "      <td>NaN</td>\n",
       "      <td>NaN</td>\n",
       "      <td>NaN</td>\n",
       "      <td>NaN</td>\n",
       "      <td>NaN</td>\n",
       "      <td>NaN</td>\n",
       "      <td>NaN</td>\n",
       "      <td>NaN</td>\n",
       "      <td>NaN</td>\n",
       "      <td>NaN</td>\n",
       "      <td>...</td>\n",
       "      <td>NaN</td>\n",
       "      <td>NaN</td>\n",
       "      <td>NaN</td>\n",
       "      <td>NaN</td>\n",
       "      <td>NaN</td>\n",
       "      <td>NaN</td>\n",
       "      <td>NaN</td>\n",
       "      <td>NaN</td>\n",
       "      <td>NaN</td>\n",
       "      <td>NaN</td>\n",
       "    </tr>\n",
       "    <tr>\n",
       "      <th>0 days 00:00:01.466145833</th>\n",
       "      <td>NaN</td>\n",
       "      <td>NaN</td>\n",
       "      <td>NaN</td>\n",
       "      <td>NaN</td>\n",
       "      <td>NaN</td>\n",
       "      <td>NaN</td>\n",
       "      <td>NaN</td>\n",
       "      <td>NaN</td>\n",
       "      <td>NaN</td>\n",
       "      <td>NaN</td>\n",
       "      <td>...</td>\n",
       "      <td>NaN</td>\n",
       "      <td>NaN</td>\n",
       "      <td>NaN</td>\n",
       "      <td>NaN</td>\n",
       "      <td>NaN</td>\n",
       "      <td>NaN</td>\n",
       "      <td>NaN</td>\n",
       "      <td>NaN</td>\n",
       "      <td>NaN</td>\n",
       "      <td>NaN</td>\n",
       "    </tr>\n",
       "    <tr>\n",
       "      <th>...</th>\n",
       "      <td>...</td>\n",
       "      <td>...</td>\n",
       "      <td>...</td>\n",
       "      <td>...</td>\n",
       "      <td>...</td>\n",
       "      <td>...</td>\n",
       "      <td>...</td>\n",
       "      <td>...</td>\n",
       "      <td>...</td>\n",
       "      <td>...</td>\n",
       "      <td>...</td>\n",
       "      <td>...</td>\n",
       "      <td>...</td>\n",
       "      <td>...</td>\n",
       "      <td>...</td>\n",
       "      <td>...</td>\n",
       "      <td>...</td>\n",
       "      <td>...</td>\n",
       "      <td>...</td>\n",
       "      <td>...</td>\n",
       "      <td>...</td>\n",
       "    </tr>\n",
       "    <tr>\n",
       "      <th>0 days 00:16:30.904947916</th>\n",
       "      <td>NaN</td>\n",
       "      <td>NaN</td>\n",
       "      <td>NaN</td>\n",
       "      <td>NaN</td>\n",
       "      <td>NaN</td>\n",
       "      <td>NaN</td>\n",
       "      <td>NaN</td>\n",
       "      <td>NaN</td>\n",
       "      <td>NaN</td>\n",
       "      <td>NaN</td>\n",
       "      <td>...</td>\n",
       "      <td>NaN</td>\n",
       "      <td>NaN</td>\n",
       "      <td>NaN</td>\n",
       "      <td>NaN</td>\n",
       "      <td>NaN</td>\n",
       "      <td>NaN</td>\n",
       "      <td>NaN</td>\n",
       "      <td>NaN</td>\n",
       "      <td>NaN</td>\n",
       "      <td>NaN</td>\n",
       "    </tr>\n",
       "    <tr>\n",
       "      <th>0 days 00:16:31.278645833</th>\n",
       "      <td>110.0</td>\n",
       "      <td>NaN</td>\n",
       "      <td>NaN</td>\n",
       "      <td>NaN</td>\n",
       "      <td>NaN</td>\n",
       "      <td>NaN</td>\n",
       "      <td>NaN</td>\n",
       "      <td>NaN</td>\n",
       "      <td>NaN</td>\n",
       "      <td>NaN</td>\n",
       "      <td>...</td>\n",
       "      <td>NaN</td>\n",
       "      <td>NaN</td>\n",
       "      <td>NaN</td>\n",
       "      <td>NaN</td>\n",
       "      <td>NaN</td>\n",
       "      <td>NaN</td>\n",
       "      <td>NaN</td>\n",
       "      <td>NaN</td>\n",
       "      <td>NaN</td>\n",
       "      <td>NaN</td>\n",
       "    </tr>\n",
       "    <tr>\n",
       "      <th>0 days 00:16:31.299479166</th>\n",
       "      <td>78.0</td>\n",
       "      <td>NaN</td>\n",
       "      <td>NaN</td>\n",
       "      <td>NaN</td>\n",
       "      <td>NaN</td>\n",
       "      <td>NaN</td>\n",
       "      <td>NaN</td>\n",
       "      <td>NaN</td>\n",
       "      <td>NaN</td>\n",
       "      <td>NaN</td>\n",
       "      <td>...</td>\n",
       "      <td>NaN</td>\n",
       "      <td>NaN</td>\n",
       "      <td>NaN</td>\n",
       "      <td>NaN</td>\n",
       "      <td>NaN</td>\n",
       "      <td>NaN</td>\n",
       "      <td>NaN</td>\n",
       "      <td>NaN</td>\n",
       "      <td>NaN</td>\n",
       "      <td>NaN</td>\n",
       "    </tr>\n",
       "    <tr>\n",
       "      <th>0 days 00:16:31.319010416</th>\n",
       "      <td>49.0</td>\n",
       "      <td>NaN</td>\n",
       "      <td>NaN</td>\n",
       "      <td>NaN</td>\n",
       "      <td>NaN</td>\n",
       "      <td>NaN</td>\n",
       "      <td>NaN</td>\n",
       "      <td>NaN</td>\n",
       "      <td>NaN</td>\n",
       "      <td>NaN</td>\n",
       "      <td>...</td>\n",
       "      <td>NaN</td>\n",
       "      <td>NaN</td>\n",
       "      <td>NaN</td>\n",
       "      <td>NaN</td>\n",
       "      <td>NaN</td>\n",
       "      <td>NaN</td>\n",
       "      <td>NaN</td>\n",
       "      <td>NaN</td>\n",
       "      <td>NaN</td>\n",
       "      <td>NaN</td>\n",
       "    </tr>\n",
       "    <tr>\n",
       "      <th>0 days 00:16:31.338541666</th>\n",
       "      <td>0.0</td>\n",
       "      <td>NaN</td>\n",
       "      <td>NaN</td>\n",
       "      <td>NaN</td>\n",
       "      <td>NaN</td>\n",
       "      <td>NaN</td>\n",
       "      <td>NaN</td>\n",
       "      <td>NaN</td>\n",
       "      <td>NaN</td>\n",
       "      <td>NaN</td>\n",
       "      <td>...</td>\n",
       "      <td>NaN</td>\n",
       "      <td>NaN</td>\n",
       "      <td>NaN</td>\n",
       "      <td>NaN</td>\n",
       "      <td>NaN</td>\n",
       "      <td>NaN</td>\n",
       "      <td>NaN</td>\n",
       "      <td>NaN</td>\n",
       "      <td>NaN</td>\n",
       "      <td>NaN</td>\n",
       "    </tr>\n",
       "  </tbody>\n",
       "</table>\n",
       "<p>36112 rows × 80 columns</p>\n",
       "</div>"
      ],
      "text/plain": [
       "note                        -1     26    27    28    29    30    31    32   \\\n",
       "time                                                                         \n",
       "0 days 00:00:00            127.0   NaN   NaN   NaN   NaN   NaN   NaN   NaN   \n",
       "0 days 00:00:00.437500       NaN   NaN   NaN   NaN   NaN   NaN   NaN   NaN   \n",
       "0 days 00:00:00.959635416    NaN   NaN   NaN   NaN   NaN   NaN   NaN   NaN   \n",
       "0 days 00:00:01.342447916    NaN   NaN   NaN   NaN   NaN   NaN   NaN   NaN   \n",
       "0 days 00:00:01.466145833    NaN   NaN   NaN   NaN   NaN   NaN   NaN   NaN   \n",
       "...                          ...   ...   ...   ...   ...   ...   ...   ...   \n",
       "0 days 00:16:30.904947916    NaN   NaN   NaN   NaN   NaN   NaN   NaN   NaN   \n",
       "0 days 00:16:31.278645833  110.0   NaN   NaN   NaN   NaN   NaN   NaN   NaN   \n",
       "0 days 00:16:31.299479166   78.0   NaN   NaN   NaN   NaN   NaN   NaN   NaN   \n",
       "0 days 00:16:31.319010416   49.0   NaN   NaN   NaN   NaN   NaN   NaN   NaN   \n",
       "0 days 00:16:31.338541666    0.0   NaN   NaN   NaN   NaN   NaN   NaN   NaN   \n",
       "\n",
       "note                        33    34   ...   95    96    97    98    99   \\\n",
       "time                                   ...                                 \n",
       "0 days 00:00:00             NaN   NaN  ...   NaN   NaN   NaN   NaN   NaN   \n",
       "0 days 00:00:00.437500      NaN   NaN  ...   NaN   NaN   NaN   NaN   NaN   \n",
       "0 days 00:00:00.959635416   NaN   NaN  ...   NaN   NaN   NaN   NaN   NaN   \n",
       "0 days 00:00:01.342447916   NaN   NaN  ...   NaN   NaN   NaN   NaN   NaN   \n",
       "0 days 00:00:01.466145833   NaN   NaN  ...   NaN   NaN   NaN   NaN   NaN   \n",
       "...                         ...   ...  ...   ...   ...   ...   ...   ...   \n",
       "0 days 00:16:30.904947916   NaN   NaN  ...   NaN   NaN   NaN   NaN   NaN   \n",
       "0 days 00:16:31.278645833   NaN   NaN  ...   NaN   NaN   NaN   NaN   NaN   \n",
       "0 days 00:16:31.299479166   NaN   NaN  ...   NaN   NaN   NaN   NaN   NaN   \n",
       "0 days 00:16:31.319010416   NaN   NaN  ...   NaN   NaN   NaN   NaN   NaN   \n",
       "0 days 00:16:31.338541666   NaN   NaN  ...   NaN   NaN   NaN   NaN   NaN   \n",
       "\n",
       "note                        100   101   102   103   104  \n",
       "time                                                     \n",
       "0 days 00:00:00             NaN   NaN   NaN   NaN   NaN  \n",
       "0 days 00:00:00.437500      NaN   NaN   NaN   NaN   NaN  \n",
       "0 days 00:00:00.959635416   NaN   NaN   NaN   NaN   NaN  \n",
       "0 days 00:00:01.342447916   NaN   NaN   NaN   NaN   NaN  \n",
       "0 days 00:00:01.466145833   NaN   NaN   NaN   NaN   NaN  \n",
       "...                         ...   ...   ...   ...   ...  \n",
       "0 days 00:16:30.904947916   NaN   NaN   NaN   NaN   NaN  \n",
       "0 days 00:16:31.278645833   NaN   NaN   NaN   NaN   NaN  \n",
       "0 days 00:16:31.299479166   NaN   NaN   NaN   NaN   NaN  \n",
       "0 days 00:16:31.319010416   NaN   NaN   NaN   NaN   NaN  \n",
       "0 days 00:16:31.338541666   NaN   NaN   NaN   NaN   NaN  \n",
       "\n",
       "[36112 rows x 80 columns]"
      ]
     },
     "execution_count": 139,
     "metadata": {},
     "output_type": "execute_result"
    }
   ],
   "source": [
    "df = events_df.pivot_table(values=\"velocity\", index=\"time\", columns=\"note\", aggfunc=\"max\")\n",
    "# *10e8 for scaling reasons for some reason...\n",
    "df = df.set_index(pd.to_timedelta(df.index * 10e8))\n",
    "# df.resample('8ms').max()\n",
    "df"
   ]
  },
  {
   "cell_type": "code",
   "execution_count": 160,
   "metadata": {},
   "outputs": [
    {
     "data": {
      "text/plain": [
       "991.3385416667126"
      ]
     },
     "execution_count": 160,
     "metadata": {},
     "output_type": "execute_result"
    }
   ],
   "source": []
  },
  {
   "cell_type": "code",
   "execution_count": 171,
   "metadata": {},
   "outputs": [
    {
     "data": {
      "text/plain": [
       "124000"
      ]
     },
     "execution_count": 171,
     "metadata": {},
     "output_type": "execute_result"
    }
   ],
   "source": [
    "len(np.arange(0, len(time_slots)))"
   ]
  },
  {
   "cell_type": "code",
   "execution_count": 175,
   "metadata": {},
   "outputs": [
    {
     "data": {
      "text/html": [
       "<div>\n",
       "<style scoped>\n",
       "    .dataframe tbody tr th:only-of-type {\n",
       "        vertical-align: middle;\n",
       "    }\n",
       "\n",
       "    .dataframe tbody tr th {\n",
       "        vertical-align: top;\n",
       "    }\n",
       "\n",
       "    .dataframe thead th {\n",
       "        text-align: right;\n",
       "    }\n",
       "</style>\n",
       "<table border=\"1\" class=\"dataframe\">\n",
       "  <thead>\n",
       "    <tr style=\"text-align: right;\">\n",
       "      <th></th>\n",
       "      <th>note</th>\n",
       "      <th>velocity</th>\n",
       "      <th>time</th>\n",
       "      <th>next_time</th>\n",
       "      <th>time_slot</th>\n",
       "    </tr>\n",
       "  </thead>\n",
       "  <tbody>\n",
       "    <tr>\n",
       "      <th>0</th>\n",
       "      <td>-1</td>\n",
       "      <td>127</td>\n",
       "      <td>0.000000</td>\n",
       "      <td>0.437500</td>\n",
       "      <td>0</td>\n",
       "    </tr>\n",
       "    <tr>\n",
       "      <th>1</th>\n",
       "      <td>37</td>\n",
       "      <td>25</td>\n",
       "      <td>0.437500</td>\n",
       "      <td>0.522135</td>\n",
       "      <td>54</td>\n",
       "    </tr>\n",
       "    <tr>\n",
       "      <th>2</th>\n",
       "      <td>49</td>\n",
       "      <td>30</td>\n",
       "      <td>0.959635</td>\n",
       "      <td>0.382812</td>\n",
       "      <td>119</td>\n",
       "    </tr>\n",
       "    <tr>\n",
       "      <th>3</th>\n",
       "      <td>40</td>\n",
       "      <td>47</td>\n",
       "      <td>1.342448</td>\n",
       "      <td>0.123698</td>\n",
       "      <td>167</td>\n",
       "    </tr>\n",
       "    <tr>\n",
       "      <th>4</th>\n",
       "      <td>37</td>\n",
       "      <td>0</td>\n",
       "      <td>1.466146</td>\n",
       "      <td>0.240885</td>\n",
       "      <td>183</td>\n",
       "    </tr>\n",
       "  </tbody>\n",
       "</table>\n",
       "</div>"
      ],
      "text/plain": [
       "   note  velocity      time  next_time time_slot\n",
       "0    -1       127  0.000000   0.437500         0\n",
       "1    37        25  0.437500   0.522135        54\n",
       "2    49        30  0.959635   0.382812       119\n",
       "3    40        47  1.342448   0.123698       167\n",
       "4    37         0  1.466146   0.240885       183"
      ]
     },
     "execution_count": 175,
     "metadata": {},
     "output_type": "execute_result"
    }
   ],
   "source": [
    "time_slots = np.arange(0.0, np.ceil(events_df['time'].max()), 0.008)\n",
    "events_df['time_slot'] = pd.cut(events_df['time'], bins=time_slots, include_lowest=True, labels=np.arange(0, len(time_slots)-1))\n",
    "events_df.head()"
   ]
  },
  {
   "cell_type": "code",
   "execution_count": 189,
   "metadata": {},
   "outputs": [
    {
     "name": "stderr",
     "output_type": "stream",
     "text": [
      "/tmp/ipykernel_16469/1519743834.py:7: FutureWarning: The default of observed=False is deprecated and will be changed to True in a future version of pandas. Pass observed=False to retain current behavior or observed=True to adopt the future default and silence this warning.\n",
      "  for time_slot, time_group in events_df.groupby(\"time_slot\"):\n"
     ]
    }
   ],
   "source": [
    "NUM_TIME_SLOTS = 125\n",
    "NUM_VELOCITIES = 32\n",
    "\n",
    "midi_vector = list()\n",
    "latest_time_slot = 0\n",
    "\n",
    "for time_slot, time_group in events_df.groupby(\"time_slot\"):\n",
    "    note_on = np.zeros(shape=(89))\n",
    "    note_off = np.zeros(shape=(89))\n",
    "    velocity_vector = np.zeros(shape=(NUM_VELOCITIES))\n",
    "    time_vector = np.zeros(shape=(NUM_TIME_SLOTS))\n",
    "\n",
    "    velocity = None\n",
    "\n",
    "    for _, event in time_group.iterrows():\n",
    "        if event['note'] == -1:\n",
    "            midi_note = 88\n",
    "        else:\n",
    "            midi_note = event['note'] - 21\n",
    "        if event['velocity'] > 0:\n",
    "            note_on[int(midi_note)] = 1\n",
    "            velocity = event['velocity']\n",
    "        else:\n",
    "            note_off[int(midi_note)] = 1\n",
    "    \n",
    "    if velocity:\n",
    "        velocity_pos = quantize(velocity, in_min=0, in_max=127, steps=NUM_VELOCITIES).quantized_value\n",
    "        velocity_vector[velocity_pos] = 1\n",
    "    \n",
    "    time_pos = min(max(0, latest_time_slot - time_slot), NUM_TIME_SLOTS)\n",
    "    time_vector[time_pos] = 1\n",
    "\n",
    "    midi_vector.append(np.concatenate([\n",
    "        note_on,\n",
    "        note_off,\n",
    "        time_vector,\n",
    "        velocity_vector,\n",
    "    ]))\n",
    "    latest_time_slot = time_slot\n"
   ]
  },
  {
   "cell_type": "code",
   "execution_count": 191,
   "metadata": {},
   "outputs": [
    {
     "data": {
      "text/plain": [
       "(123999, 335)"
      ]
     },
     "execution_count": 191,
     "metadata": {},
     "output_type": "execute_result"
    }
   ],
   "source": [
    "np.array(midi_vector).shape"
   ]
  },
  {
   "cell_type": "code",
   "execution_count": 181,
   "metadata": {},
   "outputs": [
    {
     "data": {
      "text/html": [
       "<div>\n",
       "<style scoped>\n",
       "    .dataframe tbody tr th:only-of-type {\n",
       "        vertical-align: middle;\n",
       "    }\n",
       "\n",
       "    .dataframe tbody tr th {\n",
       "        vertical-align: top;\n",
       "    }\n",
       "\n",
       "    .dataframe thead th {\n",
       "        text-align: right;\n",
       "    }\n",
       "</style>\n",
       "<table border=\"1\" class=\"dataframe\">\n",
       "  <thead>\n",
       "    <tr style=\"text-align: right;\">\n",
       "      <th></th>\n",
       "      <th>note</th>\n",
       "      <th>velocity</th>\n",
       "      <th>time</th>\n",
       "      <th>next_time</th>\n",
       "      <th>time_slot</th>\n",
       "    </tr>\n",
       "  </thead>\n",
       "  <tbody>\n",
       "    <tr>\n",
       "      <th>0</th>\n",
       "      <td>-1</td>\n",
       "      <td>127</td>\n",
       "      <td>0.0</td>\n",
       "      <td>0.4375</td>\n",
       "      <td>0</td>\n",
       "    </tr>\n",
       "  </tbody>\n",
       "</table>\n",
       "</div>"
      ],
      "text/plain": [
       "   note  velocity  time  next_time time_slot\n",
       "0    -1       127   0.0     0.4375         0"
      ]
     },
     "execution_count": 181,
     "metadata": {},
     "output_type": "execute_result"
    }
   ],
   "source": [
    "time_group"
   ]
  },
  {
   "cell_type": "code",
   "execution_count": 159,
   "metadata": {},
   "outputs": [
    {
     "data": {
      "text/plain": [
       "0        (-0.001, 0.0312]\n",
       "1          (0.406, 0.438]\n",
       "2            (0.5, 0.531]\n",
       "3          (0.375, 0.406]\n",
       "4         (0.0938, 0.125]\n",
       "               ...       \n",
       "37464    (-0.001, 0.0312]\n",
       "37465      (0.344, 0.375]\n",
       "37466    (-0.001, 0.0312]\n",
       "37467    (-0.001, 0.0312]\n",
       "37468    (-0.001, 0.0312]\n",
       "Name: time, Length: 37469, dtype: category\n",
       "Categories (32, interval[float64, right]): [(-0.001, 0.0312] < (0.0312, 0.0625] < (0.0625, 0.0938] < (0.0938, 0.125] ... (0.875, 0.906] < (0.906, 0.938] < (0.938, 0.969] < (0.969, 1.0]]"
      ]
     },
     "execution_count": 159,
     "metadata": {},
     "output_type": "execute_result"
    }
   ],
   "source": [
    "time_ranges = np.linspace(0.0, 1.0, 33)\n",
    "pd.cut(events_df['time'].diff().fillna(0.0), bins=time_ranges, include_lowest=True)"
   ]
  },
  {
   "cell_type": "code",
   "execution_count": 145,
   "metadata": {},
   "outputs": [
    {
     "data": {
      "text/plain": [
       "TimedeltaIndex([          '0 days 00:00:00',    '0 days 00:00:00.437500',\n",
       "                '0 days 00:00:00.522135416', '0 days 00:00:00.382812500',\n",
       "                '0 days 00:00:00.123697917', '0 days 00:00:00.240885417',\n",
       "                '0 days 00:00:00.018229166', '0 days 00:00:00.179687500',\n",
       "                '0 days 00:00:00.195312500', '0 days 00:00:00.333333334',\n",
       "                ...\n",
       "                '0 days 00:00:00.040364583', '0 days 00:00:00.013020833',\n",
       "                '0 days 00:00:00.001302084', '0 days 00:00:00.022135416',\n",
       "                '0 days 00:00:00.010416667', '0 days 00:00:00.001302083',\n",
       "                '0 days 00:00:00.373697917', '0 days 00:00:00.020833333',\n",
       "                '0 days 00:00:00.019531250', '0 days 00:00:00.019531250'],\n",
       "               dtype='timedelta64[ns]', name='time', length=36112, freq=None)"
      ]
     },
     "execution_count": 145,
     "metadata": {},
     "output_type": "execute_result"
    }
   ],
   "source": [
    "df.index.diff().fillna(pd.Timedelta(0))"
   ]
  },
  {
   "cell_type": "code",
   "execution_count": 137,
   "metadata": {},
   "outputs": [
    {
     "ename": "ValueError",
     "evalue": "No axis named 3 for object type DataFrame",
     "output_type": "error",
     "traceback": [
      "\u001b[0;31m---------------------------------------------------------------------------\u001b[0m",
      "\u001b[0;31mKeyError\u001b[0m                                  Traceback (most recent call last)",
      "\u001b[0;32m~/git/ki-ueben-klavier-trainieren/venv/lib/python3.10/site-packages/pandas/core/generic.py\u001b[0m in \u001b[0;36m?\u001b[0;34m(cls, axis)\u001b[0m\n\u001b[1;32m    576\u001b[0m             \u001b[0;32mreturn\u001b[0m \u001b[0mcls\u001b[0m\u001b[0;34m.\u001b[0m\u001b[0m_AXIS_TO_AXIS_NUMBER\u001b[0m\u001b[0;34m[\u001b[0m\u001b[0maxis\u001b[0m\u001b[0;34m]\u001b[0m\u001b[0;34m\u001b[0m\u001b[0;34m\u001b[0m\u001b[0m\n\u001b[1;32m    577\u001b[0m         \u001b[0;32mexcept\u001b[0m \u001b[0mKeyError\u001b[0m\u001b[0;34m:\u001b[0m\u001b[0;34m\u001b[0m\u001b[0;34m\u001b[0m\u001b[0m\n\u001b[0;32m--> 578\u001b[0;31m             \u001b[0;32mraise\u001b[0m \u001b[0mValueError\u001b[0m\u001b[0;34m(\u001b[0m\u001b[0;34mf\"No axis named {axis} for object type {cls.__name__}\"\u001b[0m\u001b[0;34m)\u001b[0m\u001b[0;34m\u001b[0m\u001b[0;34m\u001b[0m\u001b[0m\n\u001b[0m",
      "\u001b[0;31mKeyError\u001b[0m: 3",
      "\nDuring handling of the above exception, another exception occurred:\n",
      "\u001b[0;31mValueError\u001b[0m                                Traceback (most recent call last)",
      "\u001b[0;32m/tmp/ipykernel_16469/3189323740.py\u001b[0m in \u001b[0;36m?\u001b[0;34m()\u001b[0m\n\u001b[0;32m----> 1\u001b[0;31m \u001b[0mdf\u001b[0m\u001b[0;34m.\u001b[0m\u001b[0miloc\u001b[0m\u001b[0;34m(\u001b[0m\u001b[0;36m3\u001b[0m\u001b[0;34m)\u001b[0m\u001b[0;34m[\u001b[0m\u001b[0mdf\u001b[0m\u001b[0;34m.\u001b[0m\u001b[0miloc\u001b[0m\u001b[0;34m[\u001b[0m\u001b[0;36m3\u001b[0m\u001b[0;34m]\u001b[0m\u001b[0;34m.\u001b[0m\u001b[0misna\u001b[0m\u001b[0;34m(\u001b[0m\u001b[0;34m)\u001b[0m\u001b[0;34m]\u001b[0m\u001b[0;34m\u001b[0m\u001b[0;34m\u001b[0m\u001b[0m\n\u001b[0m",
      "\u001b[0;32m~/git/ki-ueben-klavier-trainieren/venv/lib/python3.10/site-packages/pandas/core/indexing.py\u001b[0m in \u001b[0;36m?\u001b[0;34m(self, axis)\u001b[0m\n\u001b[1;32m    734\u001b[0m         \u001b[0;31m# we need to return a copy of ourselves\u001b[0m\u001b[0;34m\u001b[0m\u001b[0;34m\u001b[0m\u001b[0m\n\u001b[1;32m    735\u001b[0m         \u001b[0mnew_self\u001b[0m \u001b[0;34m=\u001b[0m \u001b[0mtype\u001b[0m\u001b[0;34m(\u001b[0m\u001b[0mself\u001b[0m\u001b[0;34m)\u001b[0m\u001b[0;34m(\u001b[0m\u001b[0mself\u001b[0m\u001b[0;34m.\u001b[0m\u001b[0mname\u001b[0m\u001b[0;34m,\u001b[0m \u001b[0mself\u001b[0m\u001b[0;34m.\u001b[0m\u001b[0mobj\u001b[0m\u001b[0;34m)\u001b[0m\u001b[0;34m\u001b[0m\u001b[0;34m\u001b[0m\u001b[0m\n\u001b[1;32m    736\u001b[0m \u001b[0;34m\u001b[0m\u001b[0m\n\u001b[1;32m    737\u001b[0m         \u001b[0;32mif\u001b[0m \u001b[0maxis\u001b[0m \u001b[0;32mis\u001b[0m \u001b[0;32mnot\u001b[0m \u001b[0;32mNone\u001b[0m\u001b[0;34m:\u001b[0m\u001b[0;34m\u001b[0m\u001b[0;34m\u001b[0m\u001b[0m\n\u001b[0;32m--> 738\u001b[0;31m             \u001b[0maxis_int_none\u001b[0m \u001b[0;34m=\u001b[0m \u001b[0mself\u001b[0m\u001b[0;34m.\u001b[0m\u001b[0mobj\u001b[0m\u001b[0;34m.\u001b[0m\u001b[0m_get_axis_number\u001b[0m\u001b[0;34m(\u001b[0m\u001b[0maxis\u001b[0m\u001b[0;34m)\u001b[0m\u001b[0;34m\u001b[0m\u001b[0;34m\u001b[0m\u001b[0m\n\u001b[0m\u001b[1;32m    739\u001b[0m         \u001b[0;32melse\u001b[0m\u001b[0;34m:\u001b[0m\u001b[0;34m\u001b[0m\u001b[0;34m\u001b[0m\u001b[0m\n\u001b[1;32m    740\u001b[0m             \u001b[0maxis_int_none\u001b[0m \u001b[0;34m=\u001b[0m \u001b[0maxis\u001b[0m\u001b[0;34m\u001b[0m\u001b[0;34m\u001b[0m\u001b[0m\n\u001b[1;32m    741\u001b[0m         \u001b[0mnew_self\u001b[0m\u001b[0;34m.\u001b[0m\u001b[0maxis\u001b[0m \u001b[0;34m=\u001b[0m \u001b[0maxis_int_none\u001b[0m\u001b[0;34m\u001b[0m\u001b[0;34m\u001b[0m\u001b[0m\n",
      "\u001b[0;32m~/git/ki-ueben-klavier-trainieren/venv/lib/python3.10/site-packages/pandas/core/generic.py\u001b[0m in \u001b[0;36m?\u001b[0;34m(cls, axis)\u001b[0m\n\u001b[1;32m    574\u001b[0m     \u001b[0;32mdef\u001b[0m \u001b[0m_get_axis_number\u001b[0m\u001b[0;34m(\u001b[0m\u001b[0mcls\u001b[0m\u001b[0;34m,\u001b[0m \u001b[0maxis\u001b[0m\u001b[0;34m:\u001b[0m \u001b[0mAxis\u001b[0m\u001b[0;34m)\u001b[0m \u001b[0;34m->\u001b[0m \u001b[0mAxisInt\u001b[0m\u001b[0;34m:\u001b[0m\u001b[0;34m\u001b[0m\u001b[0;34m\u001b[0m\u001b[0m\n\u001b[1;32m    575\u001b[0m         \u001b[0;32mtry\u001b[0m\u001b[0;34m:\u001b[0m\u001b[0;34m\u001b[0m\u001b[0;34m\u001b[0m\u001b[0m\n\u001b[1;32m    576\u001b[0m             \u001b[0;32mreturn\u001b[0m \u001b[0mcls\u001b[0m\u001b[0;34m.\u001b[0m\u001b[0m_AXIS_TO_AXIS_NUMBER\u001b[0m\u001b[0;34m[\u001b[0m\u001b[0maxis\u001b[0m\u001b[0;34m]\u001b[0m\u001b[0;34m\u001b[0m\u001b[0;34m\u001b[0m\u001b[0m\n\u001b[1;32m    577\u001b[0m         \u001b[0;32mexcept\u001b[0m \u001b[0mKeyError\u001b[0m\u001b[0;34m:\u001b[0m\u001b[0;34m\u001b[0m\u001b[0;34m\u001b[0m\u001b[0m\n\u001b[0;32m--> 578\u001b[0;31m             \u001b[0;32mraise\u001b[0m \u001b[0mValueError\u001b[0m\u001b[0;34m(\u001b[0m\u001b[0;34mf\"No axis named {axis} for object type {cls.__name__}\"\u001b[0m\u001b[0;34m)\u001b[0m\u001b[0;34m\u001b[0m\u001b[0;34m\u001b[0m\u001b[0m\n\u001b[0m",
      "\u001b[0;31mValueError\u001b[0m: No axis named 3 for object type DataFrame"
     ]
    }
   ],
   "source": []
  },
  {
   "cell_type": "code",
   "execution_count": 118,
   "metadata": {},
   "outputs": [
    {
     "data": {
      "text/plain": [
       "PosixPath('/home/dennis/git/ki-ueben-klavier-trainieren/book/chapters/data/maestro-v3.0.0/maestro-v3.0.0/2018/MIDI-Unprocessed_Recital17-19_MID--AUDIO_19_R1_2018_wav--4.midi')"
      ]
     },
     "execution_count": 118,
     "metadata": {},
     "output_type": "execute_result"
    }
   ],
   "source": [
    "Maestro3Dataset().midi_file_paths[0]"
   ]
  },
  {
   "cell_type": "code",
   "execution_count": 75,
   "metadata": {},
   "outputs": [
    {
     "ename": "SyntaxError",
     "evalue": "invalid syntax (1202223083.py, line 8)",
     "output_type": "error",
     "traceback": [
      "\u001b[0;36m  Cell \u001b[0;32mIn[75], line 8\u001b[0;36m\u001b[0m\n\u001b[0;31m    note_on[]\u001b[0m\n\u001b[0m            ^\u001b[0m\n\u001b[0;31mSyntaxError\u001b[0m\u001b[0;31m:\u001b[0m invalid syntax\n"
     ]
    }
   ],
   "source": [
    "import numpy as np\n",
    "\n",
    "NUM_VELOCITY_STEPS = 32\n",
    "NUM_TIME_STEPS = 32\n",
    "TIME_STEPS = np.linspace(0.008, 1.0, NUM_TIME_STEPS)\n",
    "\n",
    "events_df['next_time'] = events_df['time'].diff().shift(-1).fillna(0.0)\n",
    "\n",
    "while True:\n",
    "    note_on = np.zeros(shape=(89))\n",
    "    note_off = np.zeros(shape=(89))\n",
    "    \n",
    "    break\n",
    "\n",
    "\n",
    "\n",
    "# only convert note/velocity to vectors, copying the time stamp\n",
    "for _, event in events_df.iterrows():\n",
    "    note_on = np.zeros(shape=(89))\n",
    "    note_off = np.zeros(shape=(89))\n",
    "\n",
    "    midi_velocity = np.zeros(shape=(VELOCITY_STEPS))\n",
    "\n",
    "    if event['velocity'] > 0:\n",
    "        # pedal\n",
    "        if event['note'] == -1:\n",
    "            midi_note = 88\n",
    "        else:\n",
    "            midi_note = event['note'] - 21\n",
    "    else:\n",
    "        quantized_velocity = int(quantize(event['velocity'], 0, 127, VELOCITY_STEPS)[1])\n",
    "        midi_velocity[quantized_velocity] = 1\n",
    "\n"
   ]
  },
  {
   "cell_type": "code",
   "execution_count": 95,
   "metadata": {},
   "outputs": [
    {
     "data": {
      "text/html": [
       "<div>\n",
       "<style scoped>\n",
       "    .dataframe tbody tr th:only-of-type {\n",
       "        vertical-align: middle;\n",
       "    }\n",
       "\n",
       "    .dataframe tbody tr th {\n",
       "        vertical-align: top;\n",
       "    }\n",
       "\n",
       "    .dataframe thead th {\n",
       "        text-align: right;\n",
       "    }\n",
       "</style>\n",
       "<table border=\"1\" class=\"dataframe\">\n",
       "  <thead>\n",
       "    <tr style=\"text-align: right;\">\n",
       "      <th></th>\n",
       "      <th>note</th>\n",
       "      <th>velocity</th>\n",
       "      <th>time</th>\n",
       "      <th>next_time</th>\n",
       "    </tr>\n",
       "  </thead>\n",
       "  <tbody>\n",
       "    <tr>\n",
       "      <th>0</th>\n",
       "      <td>-1</td>\n",
       "      <td>127</td>\n",
       "      <td>0.000000</td>\n",
       "      <td>0.437500</td>\n",
       "    </tr>\n",
       "    <tr>\n",
       "      <th>1</th>\n",
       "      <td>37</td>\n",
       "      <td>25</td>\n",
       "      <td>0.437500</td>\n",
       "      <td>0.522135</td>\n",
       "    </tr>\n",
       "    <tr>\n",
       "      <th>2</th>\n",
       "      <td>49</td>\n",
       "      <td>30</td>\n",
       "      <td>0.959635</td>\n",
       "      <td>0.382812</td>\n",
       "    </tr>\n",
       "    <tr>\n",
       "      <th>3</th>\n",
       "      <td>40</td>\n",
       "      <td>47</td>\n",
       "      <td>1.342448</td>\n",
       "      <td>0.123698</td>\n",
       "    </tr>\n",
       "    <tr>\n",
       "      <th>4</th>\n",
       "      <td>37</td>\n",
       "      <td>0</td>\n",
       "      <td>1.466146</td>\n",
       "      <td>0.240885</td>\n",
       "    </tr>\n",
       "    <tr>\n",
       "      <th>...</th>\n",
       "      <td>...</td>\n",
       "      <td>...</td>\n",
       "      <td>...</td>\n",
       "      <td>...</td>\n",
       "    </tr>\n",
       "    <tr>\n",
       "      <th>37464</th>\n",
       "      <td>67</td>\n",
       "      <td>0</td>\n",
       "      <td>990.904948</td>\n",
       "      <td>0.373698</td>\n",
       "    </tr>\n",
       "    <tr>\n",
       "      <th>37465</th>\n",
       "      <td>-1</td>\n",
       "      <td>110</td>\n",
       "      <td>991.278646</td>\n",
       "      <td>0.020833</td>\n",
       "    </tr>\n",
       "    <tr>\n",
       "      <th>37466</th>\n",
       "      <td>-1</td>\n",
       "      <td>78</td>\n",
       "      <td>991.299479</td>\n",
       "      <td>0.019531</td>\n",
       "    </tr>\n",
       "    <tr>\n",
       "      <th>37467</th>\n",
       "      <td>-1</td>\n",
       "      <td>49</td>\n",
       "      <td>991.319010</td>\n",
       "      <td>0.019531</td>\n",
       "    </tr>\n",
       "    <tr>\n",
       "      <th>37468</th>\n",
       "      <td>-1</td>\n",
       "      <td>0</td>\n",
       "      <td>991.338542</td>\n",
       "      <td>0.000000</td>\n",
       "    </tr>\n",
       "  </tbody>\n",
       "</table>\n",
       "<p>37469 rows × 4 columns</p>\n",
       "</div>"
      ],
      "text/plain": [
       "       note  velocity        time  next_time\n",
       "0        -1       127    0.000000   0.437500\n",
       "1        37        25    0.437500   0.522135\n",
       "2        49        30    0.959635   0.382812\n",
       "3        40        47    1.342448   0.123698\n",
       "4        37         0    1.466146   0.240885\n",
       "...     ...       ...         ...        ...\n",
       "37464    67         0  990.904948   0.373698\n",
       "37465    -1       110  991.278646   0.020833\n",
       "37466    -1        78  991.299479   0.019531\n",
       "37467    -1        49  991.319010   0.019531\n",
       "37468    -1         0  991.338542   0.000000\n",
       "\n",
       "[37469 rows x 4 columns]"
      ]
     },
     "execution_count": 95,
     "metadata": {},
     "output_type": "execute_result"
    }
   ],
   "source": [
    "events_df['next_time'] = events_df['time'].diff().shift(-1).fillna(0.0)\n",
    "events_df"
   ]
  },
  {
   "cell_type": "code",
   "execution_count": 92,
   "metadata": {},
   "outputs": [
    {
     "data": {
      "text/html": [
       "<div>\n",
       "<style scoped>\n",
       "    .dataframe tbody tr th:only-of-type {\n",
       "        vertical-align: middle;\n",
       "    }\n",
       "\n",
       "    .dataframe tbody tr th {\n",
       "        vertical-align: top;\n",
       "    }\n",
       "\n",
       "    .dataframe thead th {\n",
       "        text-align: right;\n",
       "    }\n",
       "</style>\n",
       "<table border=\"1\" class=\"dataframe\">\n",
       "  <thead>\n",
       "    <tr style=\"text-align: right;\">\n",
       "      <th></th>\n",
       "      <th>note</th>\n",
       "      <th>velocity</th>\n",
       "      <th>time</th>\n",
       "      <th>next_time</th>\n",
       "    </tr>\n",
       "  </thead>\n",
       "  <tbody>\n",
       "    <tr>\n",
       "      <th>0</th>\n",
       "      <td>-1</td>\n",
       "      <td>127</td>\n",
       "      <td>0.000000</td>\n",
       "      <td>0.437500</td>\n",
       "    </tr>\n",
       "    <tr>\n",
       "      <th>1</th>\n",
       "      <td>37</td>\n",
       "      <td>25</td>\n",
       "      <td>0.437500</td>\n",
       "      <td>0.959635</td>\n",
       "    </tr>\n",
       "    <tr>\n",
       "      <th>2</th>\n",
       "      <td>49</td>\n",
       "      <td>30</td>\n",
       "      <td>0.959635</td>\n",
       "      <td>1.342448</td>\n",
       "    </tr>\n",
       "    <tr>\n",
       "      <th>3</th>\n",
       "      <td>40</td>\n",
       "      <td>47</td>\n",
       "      <td>1.342448</td>\n",
       "      <td>1.466146</td>\n",
       "    </tr>\n",
       "    <tr>\n",
       "      <th>4</th>\n",
       "      <td>37</td>\n",
       "      <td>0</td>\n",
       "      <td>1.466146</td>\n",
       "      <td>1.707031</td>\n",
       "    </tr>\n",
       "    <tr>\n",
       "      <th>...</th>\n",
       "      <td>...</td>\n",
       "      <td>...</td>\n",
       "      <td>...</td>\n",
       "      <td>...</td>\n",
       "    </tr>\n",
       "    <tr>\n",
       "      <th>37464</th>\n",
       "      <td>67</td>\n",
       "      <td>0</td>\n",
       "      <td>990.904948</td>\n",
       "      <td>991.278646</td>\n",
       "    </tr>\n",
       "    <tr>\n",
       "      <th>37465</th>\n",
       "      <td>-1</td>\n",
       "      <td>110</td>\n",
       "      <td>991.278646</td>\n",
       "      <td>991.299479</td>\n",
       "    </tr>\n",
       "    <tr>\n",
       "      <th>37466</th>\n",
       "      <td>-1</td>\n",
       "      <td>78</td>\n",
       "      <td>991.299479</td>\n",
       "      <td>991.319010</td>\n",
       "    </tr>\n",
       "    <tr>\n",
       "      <th>37467</th>\n",
       "      <td>-1</td>\n",
       "      <td>49</td>\n",
       "      <td>991.319010</td>\n",
       "      <td>991.338542</td>\n",
       "    </tr>\n",
       "    <tr>\n",
       "      <th>37468</th>\n",
       "      <td>-1</td>\n",
       "      <td>0</td>\n",
       "      <td>991.338542</td>\n",
       "      <td>0.000000</td>\n",
       "    </tr>\n",
       "  </tbody>\n",
       "</table>\n",
       "<p>37469 rows × 4 columns</p>\n",
       "</div>"
      ],
      "text/plain": [
       "       note  velocity        time   next_time\n",
       "0        -1       127    0.000000    0.437500\n",
       "1        37        25    0.437500    0.959635\n",
       "2        49        30    0.959635    1.342448\n",
       "3        40        47    1.342448    1.466146\n",
       "4        37         0    1.466146    1.707031\n",
       "...     ...       ...         ...         ...\n",
       "37464    67         0  990.904948  991.278646\n",
       "37465    -1       110  991.278646  991.299479\n",
       "37466    -1        78  991.299479  991.319010\n",
       "37467    -1        49  991.319010  991.338542\n",
       "37468    -1         0  991.338542    0.000000\n",
       "\n",
       "[37469 rows x 4 columns]"
      ]
     },
     "execution_count": 92,
     "metadata": {},
     "output_type": "execute_result"
    }
   ],
   "source": [
    "events_df"
   ]
  },
  {
   "cell_type": "code",
   "execution_count": 63,
   "metadata": {},
   "outputs": [
    {
     "data": {
      "text/html": [
       "<div>\n",
       "<style scoped>\n",
       "    .dataframe tbody tr th:only-of-type {\n",
       "        vertical-align: middle;\n",
       "    }\n",
       "\n",
       "    .dataframe tbody tr th {\n",
       "        vertical-align: top;\n",
       "    }\n",
       "\n",
       "    .dataframe thead th {\n",
       "        text-align: right;\n",
       "    }\n",
       "</style>\n",
       "<table border=\"1\" class=\"dataframe\">\n",
       "  <thead>\n",
       "    <tr style=\"text-align: right;\">\n",
       "      <th></th>\n",
       "      <th>note</th>\n",
       "      <th>velocity</th>\n",
       "      <th>time</th>\n",
       "    </tr>\n",
       "  </thead>\n",
       "  <tbody>\n",
       "    <tr>\n",
       "      <th>0</th>\n",
       "      <td>-1</td>\n",
       "      <td>127</td>\n",
       "      <td>0.000000</td>\n",
       "    </tr>\n",
       "    <tr>\n",
       "      <th>1</th>\n",
       "      <td>37</td>\n",
       "      <td>25</td>\n",
       "      <td>0.437500</td>\n",
       "    </tr>\n",
       "    <tr>\n",
       "      <th>2</th>\n",
       "      <td>49</td>\n",
       "      <td>30</td>\n",
       "      <td>0.959635</td>\n",
       "    </tr>\n",
       "    <tr>\n",
       "      <th>3</th>\n",
       "      <td>40</td>\n",
       "      <td>47</td>\n",
       "      <td>1.342448</td>\n",
       "    </tr>\n",
       "    <tr>\n",
       "      <th>4</th>\n",
       "      <td>37</td>\n",
       "      <td>0</td>\n",
       "      <td>1.466146</td>\n",
       "    </tr>\n",
       "    <tr>\n",
       "      <th>...</th>\n",
       "      <td>...</td>\n",
       "      <td>...</td>\n",
       "      <td>...</td>\n",
       "    </tr>\n",
       "    <tr>\n",
       "      <th>37464</th>\n",
       "      <td>67</td>\n",
       "      <td>0</td>\n",
       "      <td>990.904948</td>\n",
       "    </tr>\n",
       "    <tr>\n",
       "      <th>37465</th>\n",
       "      <td>-1</td>\n",
       "      <td>110</td>\n",
       "      <td>991.278646</td>\n",
       "    </tr>\n",
       "    <tr>\n",
       "      <th>37466</th>\n",
       "      <td>-1</td>\n",
       "      <td>78</td>\n",
       "      <td>991.299479</td>\n",
       "    </tr>\n",
       "    <tr>\n",
       "      <th>37467</th>\n",
       "      <td>-1</td>\n",
       "      <td>49</td>\n",
       "      <td>991.319010</td>\n",
       "    </tr>\n",
       "    <tr>\n",
       "      <th>37468</th>\n",
       "      <td>-1</td>\n",
       "      <td>0</td>\n",
       "      <td>991.338542</td>\n",
       "    </tr>\n",
       "  </tbody>\n",
       "</table>\n",
       "<p>37469 rows × 3 columns</p>\n",
       "</div>"
      ],
      "text/plain": [
       "       note  velocity        time\n",
       "0        -1       127    0.000000\n",
       "1        37        25    0.437500\n",
       "2        49        30    0.959635\n",
       "3        40        47    1.342448\n",
       "4        37         0    1.466146\n",
       "...     ...       ...         ...\n",
       "37464    67         0  990.904948\n",
       "37465    -1       110  991.278646\n",
       "37466    -1        78  991.299479\n",
       "37467    -1        49  991.319010\n",
       "37468    -1         0  991.338542\n",
       "\n",
       "[37469 rows x 3 columns]"
      ]
     },
     "execution_count": 63,
     "metadata": {},
     "output_type": "execute_result"
    }
   ],
   "source": [
    "events_df"
   ]
  },
  {
   "cell_type": "code",
   "execution_count": null,
   "metadata": {},
   "outputs": [],
   "source": []
  },
  {
   "cell_type": "code",
   "execution_count": null,
   "metadata": {},
   "outputs": [],
   "source": []
  },
  {
   "cell_type": "code",
   "execution_count": 60,
   "metadata": {},
   "outputs": [],
   "source": [
    "midi_file = Maestro3Dataset().midi_file_paths[0]\n",
    "piano_roll = PianoRoll(midi_file)"
   ]
  },
  {
   "cell_type": "code",
   "execution_count": 14,
   "metadata": {},
   "outputs": [
    {
     "data": {
      "text/html": [
       "<div>\n",
       "<style scoped>\n",
       "    .dataframe tbody tr th:only-of-type {\n",
       "        vertical-align: middle;\n",
       "    }\n",
       "\n",
       "    .dataframe tbody tr th {\n",
       "        vertical-align: top;\n",
       "    }\n",
       "\n",
       "    .dataframe thead th {\n",
       "        text-align: right;\n",
       "    }\n",
       "</style>\n",
       "<table border=\"1\" class=\"dataframe\">\n",
       "  <thead>\n",
       "    <tr style=\"text-align: right;\">\n",
       "      <th>note</th>\n",
       "      <th>21</th>\n",
       "      <th>22</th>\n",
       "      <th>23</th>\n",
       "      <th>24</th>\n",
       "      <th>25</th>\n",
       "      <th>26</th>\n",
       "      <th>27</th>\n",
       "      <th>28</th>\n",
       "      <th>29</th>\n",
       "      <th>30</th>\n",
       "      <th>...</th>\n",
       "      <th>99</th>\n",
       "      <th>100</th>\n",
       "      <th>101</th>\n",
       "      <th>102</th>\n",
       "      <th>103</th>\n",
       "      <th>104</th>\n",
       "      <th>105</th>\n",
       "      <th>106</th>\n",
       "      <th>107</th>\n",
       "      <th>108</th>\n",
       "    </tr>\n",
       "    <tr>\n",
       "      <th>time</th>\n",
       "      <th></th>\n",
       "      <th></th>\n",
       "      <th></th>\n",
       "      <th></th>\n",
       "      <th></th>\n",
       "      <th></th>\n",
       "      <th></th>\n",
       "      <th></th>\n",
       "      <th></th>\n",
       "      <th></th>\n",
       "      <th></th>\n",
       "      <th></th>\n",
       "      <th></th>\n",
       "      <th></th>\n",
       "      <th></th>\n",
       "      <th></th>\n",
       "      <th></th>\n",
       "      <th></th>\n",
       "      <th></th>\n",
       "      <th></th>\n",
       "      <th></th>\n",
       "    </tr>\n",
       "  </thead>\n",
       "  <tbody>\n",
       "    <tr>\n",
       "      <th>0 days 00:00:00</th>\n",
       "      <td>0</td>\n",
       "      <td>0</td>\n",
       "      <td>0</td>\n",
       "      <td>0</td>\n",
       "      <td>0</td>\n",
       "      <td>0.0</td>\n",
       "      <td>0.0</td>\n",
       "      <td>0.0</td>\n",
       "      <td>0.0</td>\n",
       "      <td>0.0</td>\n",
       "      <td>...</td>\n",
       "      <td>0.0</td>\n",
       "      <td>0.0</td>\n",
       "      <td>0.0</td>\n",
       "      <td>0.0</td>\n",
       "      <td>0.0</td>\n",
       "      <td>0.0</td>\n",
       "      <td>0</td>\n",
       "      <td>0</td>\n",
       "      <td>0</td>\n",
       "      <td>0</td>\n",
       "    </tr>\n",
       "    <tr>\n",
       "      <th>0 days 00:00:00.437500</th>\n",
       "      <td>0</td>\n",
       "      <td>0</td>\n",
       "      <td>0</td>\n",
       "      <td>0</td>\n",
       "      <td>0</td>\n",
       "      <td>0.0</td>\n",
       "      <td>0.0</td>\n",
       "      <td>0.0</td>\n",
       "      <td>0.0</td>\n",
       "      <td>0.0</td>\n",
       "      <td>...</td>\n",
       "      <td>0.0</td>\n",
       "      <td>0.0</td>\n",
       "      <td>0.0</td>\n",
       "      <td>0.0</td>\n",
       "      <td>0.0</td>\n",
       "      <td>0.0</td>\n",
       "      <td>0</td>\n",
       "      <td>0</td>\n",
       "      <td>0</td>\n",
       "      <td>0</td>\n",
       "    </tr>\n",
       "    <tr>\n",
       "      <th>0 days 00:00:00.959635416</th>\n",
       "      <td>0</td>\n",
       "      <td>0</td>\n",
       "      <td>0</td>\n",
       "      <td>0</td>\n",
       "      <td>0</td>\n",
       "      <td>0.0</td>\n",
       "      <td>0.0</td>\n",
       "      <td>0.0</td>\n",
       "      <td>0.0</td>\n",
       "      <td>0.0</td>\n",
       "      <td>...</td>\n",
       "      <td>0.0</td>\n",
       "      <td>0.0</td>\n",
       "      <td>0.0</td>\n",
       "      <td>0.0</td>\n",
       "      <td>0.0</td>\n",
       "      <td>0.0</td>\n",
       "      <td>0</td>\n",
       "      <td>0</td>\n",
       "      <td>0</td>\n",
       "      <td>0</td>\n",
       "    </tr>\n",
       "    <tr>\n",
       "      <th>0 days 00:00:01.342447916</th>\n",
       "      <td>0</td>\n",
       "      <td>0</td>\n",
       "      <td>0</td>\n",
       "      <td>0</td>\n",
       "      <td>0</td>\n",
       "      <td>0.0</td>\n",
       "      <td>0.0</td>\n",
       "      <td>0.0</td>\n",
       "      <td>0.0</td>\n",
       "      <td>0.0</td>\n",
       "      <td>...</td>\n",
       "      <td>0.0</td>\n",
       "      <td>0.0</td>\n",
       "      <td>0.0</td>\n",
       "      <td>0.0</td>\n",
       "      <td>0.0</td>\n",
       "      <td>0.0</td>\n",
       "      <td>0</td>\n",
       "      <td>0</td>\n",
       "      <td>0</td>\n",
       "      <td>0</td>\n",
       "    </tr>\n",
       "    <tr>\n",
       "      <th>0 days 00:00:01.466145833</th>\n",
       "      <td>0</td>\n",
       "      <td>0</td>\n",
       "      <td>0</td>\n",
       "      <td>0</td>\n",
       "      <td>0</td>\n",
       "      <td>0.0</td>\n",
       "      <td>0.0</td>\n",
       "      <td>0.0</td>\n",
       "      <td>0.0</td>\n",
       "      <td>0.0</td>\n",
       "      <td>...</td>\n",
       "      <td>0.0</td>\n",
       "      <td>0.0</td>\n",
       "      <td>0.0</td>\n",
       "      <td>0.0</td>\n",
       "      <td>0.0</td>\n",
       "      <td>0.0</td>\n",
       "      <td>0</td>\n",
       "      <td>0</td>\n",
       "      <td>0</td>\n",
       "      <td>0</td>\n",
       "    </tr>\n",
       "    <tr>\n",
       "      <th>...</th>\n",
       "      <td>...</td>\n",
       "      <td>...</td>\n",
       "      <td>...</td>\n",
       "      <td>...</td>\n",
       "      <td>...</td>\n",
       "      <td>...</td>\n",
       "      <td>...</td>\n",
       "      <td>...</td>\n",
       "      <td>...</td>\n",
       "      <td>...</td>\n",
       "      <td>...</td>\n",
       "      <td>...</td>\n",
       "      <td>...</td>\n",
       "      <td>...</td>\n",
       "      <td>...</td>\n",
       "      <td>...</td>\n",
       "      <td>...</td>\n",
       "      <td>...</td>\n",
       "      <td>...</td>\n",
       "      <td>...</td>\n",
       "      <td>...</td>\n",
       "    </tr>\n",
       "    <tr>\n",
       "      <th>0 days 00:16:30.904947916</th>\n",
       "      <td>0</td>\n",
       "      <td>0</td>\n",
       "      <td>0</td>\n",
       "      <td>0</td>\n",
       "      <td>0</td>\n",
       "      <td>0.0</td>\n",
       "      <td>0.0</td>\n",
       "      <td>0.0</td>\n",
       "      <td>0.0</td>\n",
       "      <td>0.0</td>\n",
       "      <td>...</td>\n",
       "      <td>0.0</td>\n",
       "      <td>0.0</td>\n",
       "      <td>0.0</td>\n",
       "      <td>0.0</td>\n",
       "      <td>0.0</td>\n",
       "      <td>0.0</td>\n",
       "      <td>0</td>\n",
       "      <td>0</td>\n",
       "      <td>0</td>\n",
       "      <td>0</td>\n",
       "    </tr>\n",
       "    <tr>\n",
       "      <th>0 days 00:16:31.278645833</th>\n",
       "      <td>0</td>\n",
       "      <td>0</td>\n",
       "      <td>0</td>\n",
       "      <td>0</td>\n",
       "      <td>0</td>\n",
       "      <td>0.0</td>\n",
       "      <td>0.0</td>\n",
       "      <td>0.0</td>\n",
       "      <td>0.0</td>\n",
       "      <td>0.0</td>\n",
       "      <td>...</td>\n",
       "      <td>0.0</td>\n",
       "      <td>0.0</td>\n",
       "      <td>0.0</td>\n",
       "      <td>0.0</td>\n",
       "      <td>0.0</td>\n",
       "      <td>0.0</td>\n",
       "      <td>0</td>\n",
       "      <td>0</td>\n",
       "      <td>0</td>\n",
       "      <td>0</td>\n",
       "    </tr>\n",
       "    <tr>\n",
       "      <th>0 days 00:16:31.299479166</th>\n",
       "      <td>0</td>\n",
       "      <td>0</td>\n",
       "      <td>0</td>\n",
       "      <td>0</td>\n",
       "      <td>0</td>\n",
       "      <td>0.0</td>\n",
       "      <td>0.0</td>\n",
       "      <td>0.0</td>\n",
       "      <td>0.0</td>\n",
       "      <td>0.0</td>\n",
       "      <td>...</td>\n",
       "      <td>0.0</td>\n",
       "      <td>0.0</td>\n",
       "      <td>0.0</td>\n",
       "      <td>0.0</td>\n",
       "      <td>0.0</td>\n",
       "      <td>0.0</td>\n",
       "      <td>0</td>\n",
       "      <td>0</td>\n",
       "      <td>0</td>\n",
       "      <td>0</td>\n",
       "    </tr>\n",
       "    <tr>\n",
       "      <th>0 days 00:16:31.319010416</th>\n",
       "      <td>0</td>\n",
       "      <td>0</td>\n",
       "      <td>0</td>\n",
       "      <td>0</td>\n",
       "      <td>0</td>\n",
       "      <td>0.0</td>\n",
       "      <td>0.0</td>\n",
       "      <td>0.0</td>\n",
       "      <td>0.0</td>\n",
       "      <td>0.0</td>\n",
       "      <td>...</td>\n",
       "      <td>0.0</td>\n",
       "      <td>0.0</td>\n",
       "      <td>0.0</td>\n",
       "      <td>0.0</td>\n",
       "      <td>0.0</td>\n",
       "      <td>0.0</td>\n",
       "      <td>0</td>\n",
       "      <td>0</td>\n",
       "      <td>0</td>\n",
       "      <td>0</td>\n",
       "    </tr>\n",
       "    <tr>\n",
       "      <th>0 days 00:16:31.338541666</th>\n",
       "      <td>0</td>\n",
       "      <td>0</td>\n",
       "      <td>0</td>\n",
       "      <td>0</td>\n",
       "      <td>0</td>\n",
       "      <td>0.0</td>\n",
       "      <td>0.0</td>\n",
       "      <td>0.0</td>\n",
       "      <td>0.0</td>\n",
       "      <td>0.0</td>\n",
       "      <td>...</td>\n",
       "      <td>0.0</td>\n",
       "      <td>0.0</td>\n",
       "      <td>0.0</td>\n",
       "      <td>0.0</td>\n",
       "      <td>0.0</td>\n",
       "      <td>0.0</td>\n",
       "      <td>0</td>\n",
       "      <td>0</td>\n",
       "      <td>0</td>\n",
       "      <td>0</td>\n",
       "    </tr>\n",
       "  </tbody>\n",
       "</table>\n",
       "<p>36112 rows × 88 columns</p>\n",
       "</div>"
      ],
      "text/plain": [
       "note                       21   22   23   24   25   26   27   28   29   30   \\\n",
       "time                                                                          \n",
       "0 days 00:00:00              0    0    0    0    0  0.0  0.0  0.0  0.0  0.0   \n",
       "0 days 00:00:00.437500       0    0    0    0    0  0.0  0.0  0.0  0.0  0.0   \n",
       "0 days 00:00:00.959635416    0    0    0    0    0  0.0  0.0  0.0  0.0  0.0   \n",
       "0 days 00:00:01.342447916    0    0    0    0    0  0.0  0.0  0.0  0.0  0.0   \n",
       "0 days 00:00:01.466145833    0    0    0    0    0  0.0  0.0  0.0  0.0  0.0   \n",
       "...                        ...  ...  ...  ...  ...  ...  ...  ...  ...  ...   \n",
       "0 days 00:16:30.904947916    0    0    0    0    0  0.0  0.0  0.0  0.0  0.0   \n",
       "0 days 00:16:31.278645833    0    0    0    0    0  0.0  0.0  0.0  0.0  0.0   \n",
       "0 days 00:16:31.299479166    0    0    0    0    0  0.0  0.0  0.0  0.0  0.0   \n",
       "0 days 00:16:31.319010416    0    0    0    0    0  0.0  0.0  0.0  0.0  0.0   \n",
       "0 days 00:16:31.338541666    0    0    0    0    0  0.0  0.0  0.0  0.0  0.0   \n",
       "\n",
       "note                       ...  99   100  101  102  103  104  105  106  107  \\\n",
       "time                       ...                                                \n",
       "0 days 00:00:00            ...  0.0  0.0  0.0  0.0  0.0  0.0    0    0    0   \n",
       "0 days 00:00:00.437500     ...  0.0  0.0  0.0  0.0  0.0  0.0    0    0    0   \n",
       "0 days 00:00:00.959635416  ...  0.0  0.0  0.0  0.0  0.0  0.0    0    0    0   \n",
       "0 days 00:00:01.342447916  ...  0.0  0.0  0.0  0.0  0.0  0.0    0    0    0   \n",
       "0 days 00:00:01.466145833  ...  0.0  0.0  0.0  0.0  0.0  0.0    0    0    0   \n",
       "...                        ...  ...  ...  ...  ...  ...  ...  ...  ...  ...   \n",
       "0 days 00:16:30.904947916  ...  0.0  0.0  0.0  0.0  0.0  0.0    0    0    0   \n",
       "0 days 00:16:31.278645833  ...  0.0  0.0  0.0  0.0  0.0  0.0    0    0    0   \n",
       "0 days 00:16:31.299479166  ...  0.0  0.0  0.0  0.0  0.0  0.0    0    0    0   \n",
       "0 days 00:16:31.319010416  ...  0.0  0.0  0.0  0.0  0.0  0.0    0    0    0   \n",
       "0 days 00:16:31.338541666  ...  0.0  0.0  0.0  0.0  0.0  0.0    0    0    0   \n",
       "\n",
       "note                       108  \n",
       "time                            \n",
       "0 days 00:00:00              0  \n",
       "0 days 00:00:00.437500       0  \n",
       "0 days 00:00:00.959635416    0  \n",
       "0 days 00:00:01.342447916    0  \n",
       "0 days 00:00:01.466145833    0  \n",
       "...                        ...  \n",
       "0 days 00:16:30.904947916    0  \n",
       "0 days 00:16:31.278645833    0  \n",
       "0 days 00:16:31.299479166    0  \n",
       "0 days 00:16:31.319010416    0  \n",
       "0 days 00:16:31.338541666    0  \n",
       "\n",
       "[36112 rows x 88 columns]"
      ]
     },
     "execution_count": 14,
     "metadata": {},
     "output_type": "execute_result"
    }
   ],
   "source": [
    "piano_roll.drop(labels=[-1], axis=1)"
   ]
  },
  {
   "cell_type": "code",
   "execution_count": 8,
   "metadata": {},
   "outputs": [
    {
     "data": {
      "text/plain": [
       "torch.Size([50, 89])"
      ]
     },
     "execution_count": 8,
     "metadata": {},
     "output_type": "execute_result"
    }
   ],
   "source": [
    "piano_roll_sample[0].shape"
   ]
  },
  {
   "cell_type": "code",
   "execution_count": null,
   "metadata": {},
   "outputs": [],
   "source": []
  },
  {
   "cell_type": "code",
   "execution_count": null,
   "metadata": {},
   "outputs": [],
   "source": []
  },
  {
   "cell_type": "code",
   "execution_count": null,
   "metadata": {},
   "outputs": [],
   "source": []
  },
  {
   "cell_type": "code",
   "execution_count": null,
   "metadata": {},
   "outputs": [],
   "source": []
  },
  {
   "cell_type": "code",
   "execution_count": null,
   "metadata": {},
   "outputs": [],
   "source": []
  },
  {
   "cell_type": "code",
   "execution_count": null,
   "metadata": {},
   "outputs": [],
   "source": []
  },
  {
   "cell_type": "code",
   "execution_count": null,
   "metadata": {},
   "outputs": [],
   "source": []
  },
  {
   "cell_type": "code",
   "execution_count": null,
   "metadata": {},
   "outputs": [],
   "source": []
  },
  {
   "cell_type": "code",
   "execution_count": null,
   "metadata": {},
   "outputs": [],
   "source": []
  },
  {
   "cell_type": "code",
   "execution_count": null,
   "metadata": {},
   "outputs": [],
   "source": []
  },
  {
   "cell_type": "code",
   "execution_count": null,
   "metadata": {
    "metadata": {}
   },
   "outputs": [
    {
     "data": {
      "text/plain": [
       "PianoRoll(/Users/scheiba/github/ki-ueben-klavier-trainieren/book/chapters/data/maestro-v3.0.0/maestro-v3.0.0/2013/ORIG-MIDI_01_7_7_13_Group__MID--AUDIO_11_R1_2013_wav--1.midi)"
      ]
     },
     "execution_count": null,
     "metadata": {},
     "output_type": "execute_result"
    }
   ],
   "source": [
    "piano_roll = PianoRoll(dataset_record[\"file_path\"])\n",
    "piano_roll"
   ]
  },
  {
   "cell_type": "code",
   "execution_count": null,
   "metadata": {
    "metadata": {}
   },
   "outputs": [
    {
     "data": {
      "text/html": [
       "<div>\n",
       "<style scoped>\n",
       "    .dataframe tbody tr th:only-of-type {\n",
       "        vertical-align: middle;\n",
       "    }\n",
       "\n",
       "    .dataframe tbody tr th {\n",
       "        vertical-align: top;\n",
       "    }\n",
       "\n",
       "    .dataframe thead th {\n",
       "        text-align: right;\n",
       "    }\n",
       "</style>\n",
       "<table border=\"1\" class=\"dataframe\">\n",
       "  <thead>\n",
       "    <tr style=\"text-align: right;\">\n",
       "      <th></th>\n",
       "      <th>note</th>\n",
       "      <th>velocity</th>\n",
       "      <th>time</th>\n",
       "    </tr>\n",
       "  </thead>\n",
       "  <tbody>\n",
       "    <tr>\n",
       "      <th>0</th>\n",
       "      <td>-1</td>\n",
       "      <td>0</td>\n",
       "      <td>0.000000</td>\n",
       "    </tr>\n",
       "    <tr>\n",
       "      <th>1</th>\n",
       "      <td>51</td>\n",
       "      <td>49</td>\n",
       "      <td>0.980469</td>\n",
       "    </tr>\n",
       "    <tr>\n",
       "      <th>2</th>\n",
       "      <td>63</td>\n",
       "      <td>57</td>\n",
       "      <td>0.997396</td>\n",
       "    </tr>\n",
       "    <tr>\n",
       "      <th>3</th>\n",
       "      <td>51</td>\n",
       "      <td>0</td>\n",
       "      <td>1.087240</td>\n",
       "    </tr>\n",
       "    <tr>\n",
       "      <th>4</th>\n",
       "      <td>50</td>\n",
       "      <td>64</td>\n",
       "      <td>1.093750</td>\n",
       "    </tr>\n",
       "    <tr>\n",
       "      <th>...</th>\n",
       "      <td>...</td>\n",
       "      <td>...</td>\n",
       "      <td>...</td>\n",
       "    </tr>\n",
       "    <tr>\n",
       "      <th>7301</th>\n",
       "      <td>-1</td>\n",
       "      <td>69</td>\n",
       "      <td>389.126302</td>\n",
       "    </tr>\n",
       "    <tr>\n",
       "      <th>7302</th>\n",
       "      <td>-1</td>\n",
       "      <td>64</td>\n",
       "      <td>389.145833</td>\n",
       "    </tr>\n",
       "    <tr>\n",
       "      <th>7303</th>\n",
       "      <td>-1</td>\n",
       "      <td>55</td>\n",
       "      <td>389.164062</td>\n",
       "    </tr>\n",
       "    <tr>\n",
       "      <th>7304</th>\n",
       "      <td>-1</td>\n",
       "      <td>37</td>\n",
       "      <td>389.184896</td>\n",
       "    </tr>\n",
       "    <tr>\n",
       "      <th>7305</th>\n",
       "      <td>-1</td>\n",
       "      <td>0</td>\n",
       "      <td>389.204427</td>\n",
       "    </tr>\n",
       "  </tbody>\n",
       "</table>\n",
       "<p>7306 rows × 3 columns</p>\n",
       "</div>"
      ],
      "text/plain": [
       "      note  velocity        time\n",
       "0       -1         0    0.000000\n",
       "1       51        49    0.980469\n",
       "2       63        57    0.997396\n",
       "3       51         0    1.087240\n",
       "4       50        64    1.093750\n",
       "...    ...       ...         ...\n",
       "7301    -1        69  389.126302\n",
       "7302    -1        64  389.145833\n",
       "7303    -1        55  389.164062\n",
       "7304    -1        37  389.184896\n",
       "7305    -1         0  389.204427\n",
       "\n",
       "[7306 rows x 3 columns]"
      ]
     },
     "execution_count": null,
     "metadata": {},
     "output_type": "execute_result"
    }
   ],
   "source": [
    "df_events = piano_roll.events()\n",
    "df_events"
   ]
  },
  {
   "cell_type": "code",
   "execution_count": null,
   "metadata": {
    "metadata": {}
   },
   "outputs": [],
   "source": [
    "from typing import Callable\n",
    "\n",
    "import pandas as pd\n",
    "\n",
    "\n",
    "class MidiVectorTransform:\n",
    "    \"\"\"Transforms multiple MIDI events stored within a DataFrame,\n",
    "    happening at the same time into a vector.\n",
    "    The DataFrame needs to have the columns\n",
    "\n",
    "    * velocity\n",
    "    * note\n",
    "    * time_delta (delta from previous event) - it is not necessary to quantize this\n",
    "    \"\"\"\n",
    "\n",
    "    def __init__(self, velocity_steps: int = 32, time_steps: int = 125, dtype=np.uint8):\n",
    "        self.dtype = dtype\n",
    "\n",
    "        self.velocity_steps = velocity_steps\n",
    "        self.velocity_mask = np.eye(self.velocity_steps, dtype=self.dtype)\n",
    "\n",
    "        self.time_steps = time_steps\n",
    "        self.time_mask = np.eye(self.time_steps, dtype=self.dtype)\n",
    "\n",
    "        self.num_midi = 128\n",
    "        self.midi_mask = np.eye(self.num_midi, dtype=self.dtype)\n",
    "\n",
    "    @property\n",
    "    def transform_size(self) -> int:\n",
    "        return (2 * self.num_midi) + self.velocity_steps + self.time_steps\n",
    "\n",
    "    def _events(self, df: pd.DataFrame, selector: Callable[[int], bool]) -> np.ndarray:\n",
    "        events = np.zeros(self.num_midi, dtype=self.dtype)\n",
    "        for _, event in df[df[\"velocity\"].apply(selector)].iterrows():\n",
    "            events = events + self.midi_mask[int(event.note)]\n",
    "        return events\n",
    "\n",
    "    def _events_on(self, df: pd.DataFrame) -> np.ndarray:\n",
    "        return self._events(df, selector=lambda x: x > 0)\n",
    "\n",
    "    def _events_off(self, df: pd.DataFrame) -> np.ndarray:\n",
    "        return self._events(df, selector=lambda x: x == 0)\n",
    "\n",
    "    def _velocity(self, df: pd.DataFrame) -> np.ndarray:\n",
    "        # todo: should this ignore 0 velocity at all?\n",
    "        velocity = np.zeros(self.velocity_steps, dtype=self.dtype)\n",
    "\n",
    "        mean_velocity = df[df[\"velocity\"] > 0].velocity.mean()\n",
    "        if not pd.isna(mean_velocity):\n",
    "            quantized_velocity = int(\n",
    "                np.floor(mean_velocity / 127 * self.velocity_steps)\n",
    "            )\n",
    "            velocity = self.velocity_mask[quantized_velocity]\n",
    "\n",
    "        return velocity\n",
    "\n",
    "    def _time(self, df: pd.DataFrame) -> np.ndarray:\n",
    "        time = np.zeros(self.time_steps, dtype=self.dtype)\n",
    "        if len(df) > 0:\n",
    "            # clip between 0 and 1\n",
    "            time_diff = np.clip(df.iloc[0].time_delta, 0.0, 1.0)\n",
    "            time = self.time_mask[\n",
    "                int(\n",
    "                    np.clip(\n",
    "                        np.floor(time_diff * self.time_steps), 0, self.time_steps - 1\n",
    "                    )\n",
    "                )\n",
    "            ]\n",
    "        return time\n",
    "\n",
    "    def un_transform(self, sample):\n",
    "        raise NotImplementedError()\n",
    "\n",
    "    def __call__(self, df: pd.DataFrame) -> np.ndarray:\n",
    "        # filter out empty messages and pedal messages\n",
    "        df = df[df[\"note\"] != -1]\n",
    "        return np.concatenate(\n",
    "            [\n",
    "                self._events_on(df),\n",
    "                self._events_off(df),\n",
    "                self._velocity(df),\n",
    "                self._time(df),\n",
    "            ],\n",
    "            dtype=self.dtype,\n",
    "        )\n",
    "\n",
    "\n",
    "transformer = MidiVectorTransform()"
   ]
  },
  {
   "cell_type": "code",
   "execution_count": null,
   "metadata": {},
   "outputs": [
    {
     "data": {
      "text/html": [
       "<div>\n",
       "<style scoped>\n",
       "    .dataframe tbody tr th:only-of-type {\n",
       "        vertical-align: middle;\n",
       "    }\n",
       "\n",
       "    .dataframe tbody tr th {\n",
       "        vertical-align: top;\n",
       "    }\n",
       "\n",
       "    .dataframe thead th {\n",
       "        text-align: right;\n",
       "    }\n",
       "</style>\n",
       "<table border=\"1\" class=\"dataframe\">\n",
       "  <thead>\n",
       "    <tr style=\"text-align: right;\">\n",
       "      <th></th>\n",
       "      <th>note</th>\n",
       "      <th>velocity</th>\n",
       "      <th>time</th>\n",
       "      <th>time_delta</th>\n",
       "      <th>quantized_time</th>\n",
       "    </tr>\n",
       "  </thead>\n",
       "  <tbody>\n",
       "    <tr>\n",
       "      <th>0</th>\n",
       "      <td>-1</td>\n",
       "      <td>0</td>\n",
       "      <td>0.000000</td>\n",
       "      <td>0.980469</td>\n",
       "      <td>0.000</td>\n",
       "    </tr>\n",
       "    <tr>\n",
       "      <th>1</th>\n",
       "      <td>51</td>\n",
       "      <td>49</td>\n",
       "      <td>0.980469</td>\n",
       "      <td>0.016927</td>\n",
       "      <td>0.976</td>\n",
       "    </tr>\n",
       "    <tr>\n",
       "      <th>2</th>\n",
       "      <td>63</td>\n",
       "      <td>57</td>\n",
       "      <td>0.997396</td>\n",
       "      <td>0.089844</td>\n",
       "      <td>0.992</td>\n",
       "    </tr>\n",
       "    <tr>\n",
       "      <th>3</th>\n",
       "      <td>51</td>\n",
       "      <td>0</td>\n",
       "      <td>1.087240</td>\n",
       "      <td>0.006510</td>\n",
       "      <td>1.080</td>\n",
       "    </tr>\n",
       "    <tr>\n",
       "      <th>4</th>\n",
       "      <td>50</td>\n",
       "      <td>64</td>\n",
       "      <td>1.093750</td>\n",
       "      <td>0.071615</td>\n",
       "      <td>1.088</td>\n",
       "    </tr>\n",
       "    <tr>\n",
       "      <th>...</th>\n",
       "      <td>...</td>\n",
       "      <td>...</td>\n",
       "      <td>...</td>\n",
       "      <td>...</td>\n",
       "      <td>...</td>\n",
       "    </tr>\n",
       "    <tr>\n",
       "      <th>7301</th>\n",
       "      <td>-1</td>\n",
       "      <td>69</td>\n",
       "      <td>389.126302</td>\n",
       "      <td>0.019531</td>\n",
       "      <td>389.120</td>\n",
       "    </tr>\n",
       "    <tr>\n",
       "      <th>7302</th>\n",
       "      <td>-1</td>\n",
       "      <td>64</td>\n",
       "      <td>389.145833</td>\n",
       "      <td>0.018229</td>\n",
       "      <td>389.144</td>\n",
       "    </tr>\n",
       "    <tr>\n",
       "      <th>7303</th>\n",
       "      <td>-1</td>\n",
       "      <td>55</td>\n",
       "      <td>389.164062</td>\n",
       "      <td>0.020833</td>\n",
       "      <td>389.160</td>\n",
       "    </tr>\n",
       "    <tr>\n",
       "      <th>7304</th>\n",
       "      <td>-1</td>\n",
       "      <td>37</td>\n",
       "      <td>389.184896</td>\n",
       "      <td>0.019531</td>\n",
       "      <td>389.184</td>\n",
       "    </tr>\n",
       "    <tr>\n",
       "      <th>7305</th>\n",
       "      <td>-1</td>\n",
       "      <td>0</td>\n",
       "      <td>389.204427</td>\n",
       "      <td>1.000000</td>\n",
       "      <td>389.200</td>\n",
       "    </tr>\n",
       "  </tbody>\n",
       "</table>\n",
       "<p>7306 rows × 5 columns</p>\n",
       "</div>"
      ],
      "text/plain": [
       "      note  velocity        time  time_delta  quantized_time\n",
       "0       -1         0    0.000000    0.980469           0.000\n",
       "1       51        49    0.980469    0.016927           0.976\n",
       "2       63        57    0.997396    0.089844           0.992\n",
       "3       51         0    1.087240    0.006510           1.080\n",
       "4       50        64    1.093750    0.071615           1.088\n",
       "...    ...       ...         ...         ...             ...\n",
       "7301    -1        69  389.126302    0.019531         389.120\n",
       "7302    -1        64  389.145833    0.018229         389.144\n",
       "7303    -1        55  389.164062    0.020833         389.160\n",
       "7304    -1        37  389.184896    0.019531         389.184\n",
       "7305    -1         0  389.204427    1.000000         389.200\n",
       "\n",
       "[7306 rows x 5 columns]"
      ]
     },
     "execution_count": null,
     "metadata": {},
     "output_type": "execute_result"
    }
   ],
   "source": [
    "df"
   ]
  },
  {
   "cell_type": "code",
   "execution_count": null,
   "metadata": {
    "metadata": {}
   },
   "outputs": [],
   "source": [
    "def prepare_df(df: pd.DataFrame, num_time_steps: int = 125) -> pd.DataFrame:\n",
    "    df[\"time_delta\"] = df[\"time\"].diff(-1).abs().fillna(1.0)\n",
    "    df[\"quantized_time\"] = np.floor(df[\"time\"] * num_time_steps) / num_time_steps\n",
    "\n",
    "    # remove pedal\n",
    "    df = df[df[\"note\"] > 0]\n",
    "\n",
    "    return df\n",
    "\n",
    "\n",
    "def df_quantized_iterator(df: pd.DataFrame):\n",
    "    for group_df in df.groupby(\"quantized_time\"):\n",
    "        yield group_df"
   ]
  },
  {
   "cell_type": "code",
   "execution_count": null,
   "metadata": {},
   "outputs": [
    {
     "name": "stderr",
     "output_type": "stream",
     "text": [
      "  0%|          | 0/1276 [00:07<?, ?it/s]\n"
     ]
    }
   ],
   "source": [
    "from typing import Dict\n",
    "\n",
    "from tqdm import tqdm\n",
    "\n",
    "vectors: Dict[str, np.array] = {}\n",
    "\n",
    "for midi_path in tqdm(dataset):\n",
    "    vector = []\n",
    "\n",
    "    piano_roll = PianoRoll(dataset_record[\"file_path\"])\n",
    "    df = piano_roll.events()\n",
    "\n",
    "    for _, x in df_quantized_iterator(prepare_df(df)):\n",
    "        vector.append(transformer(x))\n",
    "\n",
    "    vectors[midi_path[\"file_path\"].name] = np.array(vector)\n",
    "    break"
   ]
  },
  {
   "cell_type": "code",
   "execution_count": null,
   "metadata": {},
   "outputs": [],
   "source": [
    "vector = vectors[\"ORIG-MIDI_01_7_7_13_Group__MID--AUDIO_12_R1_2013_wav--1.midi\"]"
   ]
  },
  {
   "cell_type": "code",
   "execution_count": null,
   "metadata": {},
   "outputs": [
    {
     "data": {
      "text/plain": [
       "(3667, 413)"
      ]
     },
     "execution_count": null,
     "metadata": {},
     "output_type": "execute_result"
    }
   ],
   "source": [
    "vector.shape"
   ]
  },
  {
   "cell_type": "code",
   "execution_count": null,
   "metadata": {},
   "outputs": [
    {
     "data": {
      "text/plain": [
       "PianoRoll(/Users/scheiba/github/ki-ueben-klavier-trainieren/book/chapters/data/maestro-v3.0.0/maestro-v3.0.0/2013/ORIG-MIDI_01_7_7_13_Group__MID--AUDIO_11_R1_2013_wav--1.midi)"
      ]
     },
     "execution_count": null,
     "metadata": {},
     "output_type": "execute_result"
    }
   ],
   "source": [
    "piano_roll"
   ]
  },
  {
   "cell_type": "code",
   "execution_count": null,
   "metadata": {},
   "outputs": [
    {
     "data": {
      "text/plain": [
       "(1, 413)"
      ]
     },
     "execution_count": null,
     "metadata": {},
     "output_type": "execute_result"
    }
   ],
   "source": [
    "vector[-1:, :].shape"
   ]
  },
  {
   "cell_type": "code",
   "execution_count": null,
   "metadata": {},
   "outputs": [],
   "source": []
  },
  {
   "cell_type": "code",
   "execution_count": null,
   "metadata": {
    "metadata": {}
   },
   "outputs": [
    {
     "name": "stdout",
     "output_type": "stream",
     "text": [
      "LSTM(\n",
      "  (lstm): LSTM(413, 512, num_layers=3, batch_first=True, dropout=0.3)\n",
      "  (linear): Linear(in_features=512, out_features=413, bias=True)\n",
      ")\n"
     ]
    }
   ],
   "source": [
    "class LSTM(L.LightningModule):\n",
    "    def __init__(\n",
    "        self,\n",
    "        hidden_size: int = 512,\n",
    "        midi_size: int = 128,\n",
    "        velocity_steps: int = 32,\n",
    "        time_steps: int = 125,\n",
    "    ):\n",
    "        super().__init__()\n",
    "\n",
    "        self.velocity_steps = velocity_steps\n",
    "        self.time_steps = time_steps\n",
    "        self.midi_size = midi_size\n",
    "\n",
    "        self.input_dim = (2 * self.midi_size) + self.velocity_steps + self.time_steps\n",
    "        self.hidden_size = hidden_size\n",
    "\n",
    "        self.lstm = nn.LSTM(\n",
    "            input_size=self.input_dim,\n",
    "            hidden_size=hidden_size,\n",
    "            num_layers=3,\n",
    "            dropout=0.3,\n",
    "            batch_first=True,\n",
    "        )\n",
    "        self.linear = nn.Linear(\n",
    "            in_features=self.hidden_size,\n",
    "            out_features=self.input_dim,\n",
    "        )\n",
    "\n",
    "    def forward(self, batch):\n",
    "        # !!! batch needs to be!!!\n",
    "        # * midi_in\n",
    "        # * midi_out\n",
    "        # * velocity\n",
    "        # * time\n",
    "\n",
    "        lstm_out, (hn, cn) = self.lstm(batch)\n",
    "        # only select the last output of the lstm\n",
    "        # we need to unsqueeze because selecting a single element\n",
    "        # will delete the dimension as well\n",
    "        lstm_out = lstm_out[:, -1:, :]\n",
    "        return self.linear(lstm_out)\n",
    "\n",
    "    def note_on(self, t: torch.Tensor) -> torch.Tensor:\n",
    "        return t[:, :, 0 : self.midi_size]\n",
    "\n",
    "    def note_off(self, t: torch.Tensor) -> torch.Tensor:\n",
    "        return t[:, :, self.midi_size : self.midi_size * 2]\n",
    "\n",
    "    def velocity(self, t: torch.Tensor) -> torch.Tensor:\n",
    "        return t[:, :, self.midi_size * 2 : (self.midi_size * 2) + self.velocity_steps]\n",
    "\n",
    "    def time(self, t: torch.Tensor) -> torch.Tensor:\n",
    "        # @todo this is wrong!\n",
    "        return t[:, :, -self.time_steps :]\n",
    "\n",
    "    def training_step(self, batch, batch_idx):\n",
    "        x, y = batch\n",
    "        out = self.forward(x)\n",
    "\n",
    "        # losses = torch.concatenate([\n",
    "        #     nn.functional.mse_loss(self.note_on(y), self.note_on(out)),\n",
    "        #     # nn.CrossEntropyLoss()(self.velocity(x), self.velocity(out))\n",
    "        # ])\n",
    "\n",
    "        note_on_loss = nn.functional.mse_loss(self.note_on(out), self.note_on(y))\n",
    "        # have different losses for each section\n",
    "        time_loss = nn.functional.cross_entropy(self.time(out), self.time(y))\n",
    "\n",
    "        self.log(\"train_note_on_loss\", note_on_loss)\n",
    "        self.log(\"train_time_loss\", time_loss)\n",
    "\n",
    "        return note_on_loss + time_loss\n",
    "\n",
    "    def configure_optimizers(self):\n",
    "        return optim.Adam(self.parameters(), lr=1e-3)\n",
    "\n",
    "\n",
    "lstm = LSTM()\n",
    "\n",
    "print(lstm)"
   ]
  },
  {
   "cell_type": "code",
   "execution_count": null,
   "metadata": {},
   "outputs": [
    {
     "data": {
      "text/plain": [
       "torch.Size([1, 1, 128])"
      ]
     },
     "execution_count": null,
     "metadata": {},
     "output_type": "execute_result"
    }
   ],
   "source": [
    "lstm.note_on(out).shape"
   ]
  },
  {
   "cell_type": "code",
   "execution_count": null,
   "metadata": {
    "metadata": {}
   },
   "outputs": [],
   "source": [
    "from typing import Iterator\n",
    "\n",
    "import torch.utils.data\n",
    "\n",
    "\n",
    "class TimeSeriesDataset(torch.utils.data.IterableDataset):\n",
    "    def __init__(self, vectors: np.ndarray, num_pre: int, num_post: int = 1):\n",
    "        self.vectors = vectors\n",
    "        self.num_pre = num_pre\n",
    "        self.num_post = num_post\n",
    "\n",
    "    def __iter__(self) -> Iterator:\n",
    "        for offset in np.arange(\n",
    "            0, self.vectors.shape[0] + self.num_post + self.num_pre\n",
    "        ):\n",
    "            yield self.vectors[offset : offset + self.num_pre], self.vectors[\n",
    "                offset + self.num_pre : offset + self.num_pre + self.num_post\n",
    "            ]\n",
    "\n",
    "\n",
    "dataset = TimeSeriesDataset(\n",
    "    vectors=torch.Tensor(vector.astype(np.float32)), num_pre=100, num_post=1\n",
    ")"
   ]
  },
  {
   "cell_type": "code",
   "execution_count": null,
   "metadata": {
    "metadata": {}
   },
   "outputs": [],
   "source": [
    "dataloader = torch.utils.data.DataLoader(dataset=dataset, batch_size=28)"
   ]
  },
  {
   "cell_type": "code",
   "execution_count": null,
   "metadata": {
    "metadata": {}
   },
   "outputs": [
    {
     "name": "stderr",
     "output_type": "stream",
     "text": [
      "GPU available: False, used: False\n",
      "TPU available: False, using: 0 TPU cores\n",
      "IPU available: False, using: 0 IPUs\n",
      "HPU available: False, using: 0 HPUs\n",
      "\n",
      "  | Name   | Type   | Params\n",
      "----------------------------------\n",
      "0 | lstm   | LSTM   | 6.1 M \n",
      "1 | linear | Linear | 211 K \n",
      "----------------------------------\n",
      "6.3 M     Trainable params\n",
      "0         Non-trainable params\n",
      "6.3 M     Total params\n",
      "25.251    Total estimated model params size (MB)\n",
      "/Users/scheiba/github/ki-ueben-klavier-trainieren/venv/lib/python3.10/site-packages/lightning/pytorch/trainer/connectors/data_connector.py:441: The 'train_dataloader' does not have many workers which may be a bottleneck. Consider increasing the value of the `num_workers` argument` to `num_workers=15` in the `DataLoader` to improve performance.\n"
     ]
    },
    {
     "name": "stdout",
     "output_type": "stream",
     "text": [
      "Training:   0%|          | 0/100 [00:00<?, ?it/s]"
     ]
    },
    {
     "name": "stdout",
     "output_type": "stream",
     "text": [
      "Epoch 1: 100%|██████████| 100/100 [00:47<00:00,  2.10it/s, v_num=42]"
     ]
    },
    {
     "name": "stderr",
     "output_type": "stream",
     "text": [
      "`Trainer.fit` stopped: `max_epochs=2` reached.\n"
     ]
    },
    {
     "name": "stdout",
     "output_type": "stream",
     "text": [
      "Epoch 1: 100%|██████████| 100/100 [00:47<00:00,  2.09it/s, v_num=42]\n"
     ]
    }
   ],
   "source": [
    "trainer = L.Trainer(limit_train_batches=100, max_epochs=2, log_every_n_steps=1)\n",
    "trainer.fit(model=lstm, train_dataloaders=dataloader)"
   ]
  },
  {
   "cell_type": "code",
   "execution_count": null,
   "metadata": {
    "metadata": {}
   },
   "outputs": [
    {
     "data": {
      "text/plain": [
       "{'train_note_on_loss': tensor(0.0041), 'train_time_loss': tensor(-0.)}"
      ]
     },
     "execution_count": null,
     "metadata": {},
     "output_type": "execute_result"
    }
   ],
   "source": [
    "trainer.logged_metrics"
   ]
  },
  {
   "cell_type": "code",
   "execution_count": null,
   "metadata": {},
   "outputs": [],
   "source": [
    "out = lstm.forward(torch.Tensor(vector[0:100].astype(np.float32)).unsqueeze(0))"
   ]
  },
  {
   "cell_type": "code",
   "execution_count": null,
   "metadata": {},
   "outputs": [
    {
     "data": {
      "text/plain": [
       "tensor([ 3.8971e-03, -1.2172e-03, -2.4754e-03, -3.7213e-03, -2.7787e-03,\n",
       "        -2.5138e-04,  1.7865e-03, -2.6892e-04,  1.8892e-03, -1.5990e-03,\n",
       "         3.2224e-04,  9.8781e-04, -1.4894e-03, -2.0432e-03,  2.9413e-03,\n",
       "        -1.7089e-03,  9.7648e-03, -1.2814e-03, -1.8693e-03, -3.8153e-03,\n",
       "        -5.2325e-03,  2.3664e-03,  8.2530e-04, -1.2044e-03, -2.1420e-03,\n",
       "        -6.7895e-04, -1.5671e-03,  2.7583e-03,  3.3898e-03,  5.4249e-03,\n",
       "        -2.0362e-03,  3.2021e-03, -9.8711e-04,  2.5240e-03, -2.1509e-04,\n",
       "        -1.2053e-04,  1.2406e-03,  3.5846e-04, -2.5151e-04, -5.0175e-03,\n",
       "        -2.1750e-03, -5.8116e-03,  8.4303e-03,  1.2473e-02,  3.3065e-03,\n",
       "         4.9784e-04,  3.2720e-03, -1.1198e-03,  5.0466e-03,  9.6616e-03,\n",
       "         6.7661e-03,  3.2104e-02,  1.1356e-02,  1.5208e-02,  2.1413e-02,\n",
       "        -1.3461e-03,  1.1828e-02, -4.4166e-03,  3.0715e-02,  1.0709e-02,\n",
       "         2.2356e-02,  1.2477e-02,  1.4657e-02,  4.9933e-02,  9.8639e-03,\n",
       "         5.0932e-03,  3.4576e-02,  2.8624e-02,  3.1148e-02,  1.4244e-02,\n",
       "         1.3624e-02,  9.0485e-03, -7.5996e-03,  2.4900e-02,  1.4314e-03,\n",
       "         2.4914e-02,  6.8576e-03,  1.8449e-02,  2.5721e-02, -2.2751e-03,\n",
       "         5.0112e-03, -1.4032e-03, -6.6324e-04, -5.5712e-05, -2.2678e-04,\n",
       "        -2.1236e-03,  6.7008e-03,  1.7317e-03,  7.5102e-06, -4.2326e-03,\n",
       "        -1.4865e-03, -1.9564e-03, -1.8173e-03, -7.5530e-03, -2.5971e-03,\n",
       "        -6.6896e-04, -2.8853e-04, -1.3860e-03, -2.9145e-03,  2.5233e-03,\n",
       "        -3.0141e-03, -1.8416e-03, -2.0920e-04,  1.3955e-03,  1.4082e-03,\n",
       "        -5.2320e-03, -2.2829e-04, -2.7252e-03, -1.8598e-03, -2.0533e-03,\n",
       "        -1.7556e-03, -1.3605e-03,  4.8952e-03, -6.1192e-03, -7.1883e-04,\n",
       "        -1.2520e-03, -1.8946e-03, -3.9329e-03, -3.3910e-03,  2.0080e-03,\n",
       "         1.1569e-04, -7.0281e-04, -5.2682e-03, -2.6927e-03, -1.9303e-03,\n",
       "        -2.0103e-03,  1.6549e-03,  2.7641e-03,  2.3737e-02,  1.2776e-02,\n",
       "        -2.2792e-02, -3.7656e-02,  1.2028e-02,  2.9068e-02, -2.7538e-02,\n",
       "        -3.8140e-02,  2.2985e-02, -2.0768e-02, -3.9148e-02,  3.3403e-02,\n",
       "         3.2566e-02,  3.4457e-02,  2.2134e-02,  7.2785e-03,  4.5199e-02,\n",
       "         1.7560e-02,  7.3990e-03,  3.3805e-02, -3.9054e-03, -1.8722e-02,\n",
       "        -1.9900e-02,  4.3101e-02, -4.0593e-02, -1.9847e-02,  2.0040e-02,\n",
       "        -3.5919e-02, -2.3761e-02,  5.2724e-03,  4.3978e-02,  2.7625e-02,\n",
       "        -3.8861e-02,  3.1229e-02,  3.2987e-02,  2.5322e-02, -2.1601e-02,\n",
       "        -3.3452e-02, -3.9446e-02, -4.9163e-02,  2.5905e-02,  7.3373e-03,\n",
       "         4.4806e-03,  2.7141e-02,  1.0308e-02, -1.1387e-02, -3.5696e-02,\n",
       "        -4.5360e-02,  8.0430e-03, -3.9659e-02, -3.9769e-02, -4.3226e-02,\n",
       "         1.8576e-02, -7.3207e-03,  1.6507e-02, -2.1918e-03,  3.0971e-02,\n",
       "        -4.7017e-03, -3.3365e-02,  2.5517e-03, -6.6097e-03,  4.1712e-02,\n",
       "        -3.1158e-02, -2.7735e-02, -4.5749e-02, -2.0409e-02,  6.6859e-03,\n",
       "        -3.3338e-02, -1.7701e-02, -2.5616e-03,  5.9042e-03, -1.5096e-02,\n",
       "         2.7269e-02, -1.3449e-02,  1.9918e-02,  1.4246e-02, -2.9368e-02,\n",
       "         3.9403e-03, -3.1972e-02,  3.8182e-02, -8.6633e-03,  2.3459e-02,\n",
       "        -2.0701e-02,  3.2765e-02, -6.4843e-03,  3.5714e-02, -6.7283e-03,\n",
       "        -3.3848e-02,  4.5694e-02,  3.9664e-02,  3.8251e-02,  4.2845e-02,\n",
       "         5.9987e-03, -1.6130e-02,  4.6555e-02,  4.5439e-02,  2.0768e-02,\n",
       "         3.1304e-02,  2.8316e-02,  2.3103e-02,  2.5092e-02, -4.9728e-02,\n",
       "        -2.1685e-02,  3.3223e-02,  2.2863e-03,  4.0384e-02,  3.2432e-02,\n",
       "         6.8279e-03,  3.4870e-02, -1.8543e-02,  2.4752e-02, -2.0220e-02,\n",
       "        -1.8563e-02, -3.8347e-03,  2.4133e-02,  7.9473e-03,  4.3926e-02,\n",
       "         4.4744e-02,  1.6670e-03, -1.0041e-02,  4.6717e-02,  4.3535e-03,\n",
       "        -3.7917e-03, -4.2693e-02, -3.8575e-02,  3.9670e-02, -3.0533e-02,\n",
       "         1.4539e-02, -2.7041e-02, -1.3461e-02,  3.4271e-02,  2.6884e-02,\n",
       "         3.3698e-02, -2.1815e-02, -3.6171e-02,  3.7228e-02, -2.3271e-02,\n",
       "         1.6165e-02, -1.9304e-02, -1.0806e-02,  2.4865e-02,  2.8080e-02,\n",
       "        -3.3596e-02,  1.5015e-02,  1.9676e-02,  9.4632e-03,  2.6891e-02,\n",
       "        -2.8566e-02,  1.3460e-02,  4.5108e-02,  4.1301e-02, -4.6732e-02,\n",
       "         2.1529e-02, -5.0594e-03, -2.3084e-02,  4.9358e-03,  4.7264e-02,\n",
       "        -3.4201e-02,  4.4690e-02,  1.9649e-02,  2.4159e-02, -4.1604e-02,\n",
       "        -2.9940e-02, -1.6085e-02, -2.1004e-02, -1.6435e-02, -1.0687e-02,\n",
       "        -3.8009e-02,  3.4674e-02, -3.9884e-02, -1.3196e-02, -4.0335e-02,\n",
       "         4.6765e-02,  9.6048e-03,  2.8515e-02,  4.8117e-02, -2.4999e-02,\n",
       "        -1.2368e-02,  1.7255e-02,  2.0706e-02,  2.2120e-02,  7.2939e-03,\n",
       "        -1.8978e-02, -1.8084e-02, -1.7331e-02,  1.0563e-02, -1.2415e-02,\n",
       "         9.9599e-03, -3.6635e-02,  1.6644e-02, -4.1848e-02,  1.6299e-03,\n",
       "        -3.6215e-02,  3.0513e-02,  1.3567e-02,  3.8604e-02,  4.3125e-02,\n",
       "        -4.0514e-02,  2.7093e-02,  2.8078e-02, -1.2638e-02,  1.9425e-02,\n",
       "         4.5069e-02, -3.8987e-02,  3.9404e-02, -2.5092e-02,  1.0052e-03,\n",
       "        -4.1483e-02,  4.0935e-03,  3.2575e-02,  1.0139e-02,  3.7838e-02,\n",
       "        -3.6300e-02, -4.6253e-02, -2.3956e-02, -2.2817e-02, -1.9818e-02,\n",
       "        -3.7306e-02, -1.4942e-02, -2.6097e-02,  3.0904e-02, -1.2205e-02,\n",
       "         1.7287e-02, -3.5403e-02, -2.7734e-02,  1.8749e-02, -4.7736e-02,\n",
       "        -4.1799e-02, -3.2422e-02, -1.5975e-03,  3.0155e-02, -3.3387e-02,\n",
       "        -1.1106e-03,  2.5647e-02, -1.3699e-02, -1.1126e-02,  2.5204e-02,\n",
       "        -3.0537e-02, -2.1189e-02,  1.7125e-02,  3.0578e-02, -2.4332e-02,\n",
       "        -1.8495e-02,  7.4440e-03,  4.2622e-02, -2.2923e-02, -3.8553e-02,\n",
       "        -4.8918e-04, -3.5645e-02,  2.3841e-02, -3.9050e-03,  1.8616e-02,\n",
       "        -3.8206e-02, -4.0831e-02, -2.4276e-02, -2.5626e-03, -6.6222e-03,\n",
       "         4.1509e-02, -4.2947e-02, -1.6525e-02,  4.6827e-02, -1.3096e-02,\n",
       "         1.5053e-03,  2.4252e-02, -1.3178e-02,  2.2984e-02, -2.5244e-02,\n",
       "        -2.0906e-03, -2.5289e-02,  2.8134e-02,  1.8045e-02,  4.0391e-02,\n",
       "        -3.0290e-02, -2.2061e-02, -3.6481e-02, -3.9591e-02, -4.5669e-02,\n",
       "         1.9075e-02, -1.7979e-02, -4.6694e-02, -3.8227e-02, -4.4380e-02,\n",
       "        -9.1604e-03,  4.2172e-02,  1.0153e-04], grad_fn=<SliceBackward0>)"
      ]
     },
     "execution_count": null,
     "metadata": {},
     "output_type": "execute_result"
    }
   ],
   "source": [
    "out[0, 0, :]"
   ]
  },
  {
   "cell_type": "code",
   "execution_count": null,
   "metadata": {},
   "outputs": [
    {
     "data": {
      "text/plain": [
       "tensor(28)"
      ]
     },
     "execution_count": null,
     "metadata": {},
     "output_type": "execute_result"
    }
   ],
   "source": [
    "torch.argmax(lstm.velocity(out)[0, 0])"
   ]
  },
  {
   "cell_type": "code",
   "execution_count": null,
   "metadata": {},
   "outputs": [
    {
     "data": {
      "text/plain": [
       "tensor([False, False, False, False, False, False, False, False, False, False,\n",
       "        False, False, False, False, False, False, False, False, False, False,\n",
       "        False, False, False, False, False, False, False, False, False, False,\n",
       "        False, False, False, False, False, False, False, False, False, False,\n",
       "        False, False, False, False, False, False, False, False, False, False,\n",
       "        False, False, False, False, False, False, False, False, False, False,\n",
       "        False, False, False,  True, False, False, False, False, False, False,\n",
       "        False, False, False, False, False, False, False, False, False, False,\n",
       "        False, False, False, False, False, False, False, False, False, False,\n",
       "        False, False, False, False, False, False, False, False, False, False,\n",
       "        False, False, False, False, False, False, False, False, False, False,\n",
       "        False, False, False, False, False, False, False, False, False, False,\n",
       "        False, False, False, False, False, False, False, False])"
      ]
     },
     "execution_count": null,
     "metadata": {},
     "output_type": "execute_result"
    }
   ],
   "source": [
    "lstm.note_on(out)[0, 0] > 0.04"
   ]
  },
  {
   "cell_type": "code",
   "execution_count": null,
   "metadata": {},
   "outputs": [
    {
     "data": {
      "text/plain": [
       "32"
      ]
     },
     "execution_count": null,
     "metadata": {},
     "output_type": "execute_result"
    }
   ],
   "source": [
    "lstm.velocity_steps"
   ]
  },
  {
   "cell_type": "code",
   "execution_count": null,
   "metadata": {},
   "outputs": [
    {
     "data": {
      "text/plain": [
       "tensor(0.0518, grad_fn=<MaxBackward1>)"
      ]
     },
     "execution_count": null,
     "metadata": {},
     "output_type": "execute_result"
    }
   ],
   "source": [
    "lstm.velocity(out[0, 0]).max()"
   ]
  },
  {
   "cell_type": "code",
   "execution_count": null,
   "metadata": {},
   "outputs": [
    {
     "data": {
      "text/plain": [
       "269"
      ]
     },
     "execution_count": null,
     "metadata": {},
     "output_type": "execute_result"
    }
   ],
   "source": [
    "np.argmax(lstm.time(out[0, 0]).detach().numpy())"
   ]
  },
  {
   "cell_type": "code",
   "execution_count": null,
   "metadata": {},
   "outputs": [
    {
     "data": {
      "text/plain": [
       "125"
      ]
     },
     "execution_count": null,
     "metadata": {},
     "output_type": "execute_result"
    }
   ],
   "source": [
    "lstm.time_steps"
   ]
  },
  {
   "cell_type": "code",
   "execution_count": null,
   "metadata": {},
   "outputs": [
    {
     "data": {
      "text/plain": [
       "torch.Size([1, 1, 413])"
      ]
     },
     "execution_count": null,
     "metadata": {},
     "output_type": "execute_result"
    }
   ],
   "source": [
    "out.shape"
   ]
  },
  {
   "cell_type": "code",
   "execution_count": null,
   "metadata": {},
   "outputs": [
    {
     "data": {
      "text/plain": [
       "tensor(1)"
      ]
     },
     "execution_count": null,
     "metadata": {},
     "output_type": "execute_result"
    }
   ],
   "source": [
    "(out > 0.2).sum()"
   ]
  },
  {
   "cell_type": "code",
   "execution_count": null,
   "metadata": {},
   "outputs": [
    {
     "data": {
      "text/plain": [
       "(6677, 413)"
      ]
     },
     "execution_count": null,
     "metadata": {},
     "output_type": "execute_result"
    }
   ],
   "source": [
    "vectors.shape"
   ]
  },
  {
   "cell_type": "code",
   "execution_count": null,
   "metadata": {},
   "outputs": [],
   "source": [
    "dataset = torch.utils.data.TensorDataset(\n",
    "    torch.Tensor(vectors[:-1]), torch.Tensor(vectors[1:])\n",
    ")"
   ]
  },
  {
   "cell_type": "code",
   "execution_count": null,
   "metadata": {},
   "outputs": [
    {
     "data": {
      "text/plain": [
       "torch.Size([413])"
      ]
     },
     "execution_count": null,
     "metadata": {},
     "output_type": "execute_result"
    }
   ],
   "source": [
    "dataset[10][0].shape"
   ]
  },
  {
   "cell_type": "code",
   "execution_count": null,
   "metadata": {},
   "outputs": [],
   "source": []
  },
  {
   "cell_type": "code",
   "execution_count": null,
   "metadata": {},
   "outputs": [],
   "source": [
    "output = lstm.forward(\n",
    "    torch.Tensor(vectors[10:20]).unsqueeze(dim=0),\n",
    ")"
   ]
  },
  {
   "cell_type": "code",
   "execution_count": null,
   "metadata": {},
   "outputs": [],
   "source": []
  },
  {
   "cell_type": "code",
   "execution_count": null,
   "metadata": {},
   "outputs": [
    {
     "data": {
      "text/plain": [
       "(10, 413)"
      ]
     },
     "execution_count": null,
     "metadata": {},
     "output_type": "execute_result"
    }
   ],
   "source": [
    "vectors[10:20].shape"
   ]
  },
  {
   "cell_type": "code",
   "execution_count": null,
   "metadata": {},
   "outputs": [],
   "source": []
  },
  {
   "cell_type": "code",
   "execution_count": null,
   "metadata": {},
   "outputs": [
    {
     "data": {
      "text/plain": [
       "torch.Size([1, 333])"
      ]
     },
     "execution_count": null,
     "metadata": {},
     "output_type": "execute_result"
    }
   ],
   "source": [
    "output.shape"
   ]
  },
  {
   "cell_type": "code",
   "execution_count": null,
   "metadata": {},
   "outputs": [],
   "source": [
    "class LSTM(L.LightningModule):\n",
    "    def __init__(\n",
    "        self, mp \n",
    "        n_features=88,\n",
    "        hidden_size=12,\n",
    "        seq_len=12,\n",
    "        batch_size=12,\n",
    "        num_layers=12,\n",
    "        dropout=0.2,\n",
    "        output_size=88,\n",
    "    ):\n",
    "        super().__init__()\n",
    "\n",
    "        self.n_features = n_features\n",
    "        self.hidden_size = hidden_size\n",
    "        self.seq_len = seq_len\n",
    "        self.batch_size = batch_size\n",
    "        self.num_layers = num_layers\n",
    "        self.dropout = dropout\n",
    "        self.output_size = output_size\n",
    "    \n",
    "        self.lstm = nn.LSTM(\n",
    "            input_size=self.n_features,\n",
    "            hidden_size=self.hidden_size,\n",
    "            num_layers=self.num_layers,\n",
    "            dropout=self.dropout,\n",
    "            batch_first=True,\n",
    "        )\n",
    "        self.linear = nn.Linear(self.hidden_size, self.output_size)\n",
    "    "
   ]
  }
 ],
 "metadata": {
  "kernelspec": {
   "display_name": "venv",
   "language": "python",
   "name": "python3"
  },
  "language_info": {
   "codemirror_mode": {
    "name": "ipython",
    "version": 3
   },
   "file_extension": ".py",
   "mimetype": "text/x-python",
   "name": "python",
   "nbconvert_exporter": "python",
   "pygments_lexer": "ipython3",
   "version": "3.10.12"
  }
 },
 "nbformat": 4,
 "nbformat_minor": 2
}
