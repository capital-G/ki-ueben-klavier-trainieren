{
 "cells": [
  {
   "cell_type": "markdown",
   "metadata": {},
   "source": [
    "# What can be learned?\n",
    "\n",
    "The question *what* can be learned is a non-trivial question.\n",
    "Within this document, the question is how the relation of neural network topology implies also its capabilities to *learn* tasks of different *complexity*.\n",
    "\n",
    "Models such as the formalization of randomness through probability theory and ... have not just provided new paths within their respective field, but also.\n",
    "\n",
    "At the same time, although everything has been shaped and conceived through mental processes, these processes have not seen a full comprehension yet, but their powerful model has been applied to domains of computation as well.\n",
    "\n",
    "In this document we want to inspect some basic capabilities of *artificial* neural networks.\n",
    "\n",
    "Most likely this is also closely attached to the question, what can be computed?\n",
    "\n",
    "Interestingly enough, the ideas of how a brain can be represented is always strongly dependent upon the history.\n",
    "In history, there have been models of the brain which work around the concept of a pneumatic model.\n",
    "\n",
    "Starting with the rise of computers, they have been used to model the functions of a brain."
   ]
  },
  {
   "cell_type": "markdown",
   "metadata": {},
   "source": [
    "## Artificial neural networks\n",
    "\n",
    "\n",
    "\n",
    "### McCulloch and Pitts model\n",
    "\n",
    "In 1943 Warren McCulloch and Walter Pitts proposed a model of artificial neurons which cover tho {cite}`McCulloch1943`\n",
    "\n",
    "These basic networks should provide us also a good exercise in order to obtain familiarity with constructing artifical neural networks."
   ]
  },
  {
   "cell_type": "code",
   "execution_count": null,
   "metadata": {},
   "outputs": [],
   "source": [
    "from typing import List\n",
    "\n",
    "import numpy as np\n",
    "import torch\n",
    "from torch import nn"
   ]
  },
  {
   "cell_type": "code",
   "execution_count": null,
   "metadata": {},
   "outputs": [],
   "source": [
    "class McCullochPitts:\n",
    "    def __init__(self, weights: List[int], threshold: float) -> None:\n",
    "        self.weights = np.array(weights)\n",
    "        self.threshold = threshold\n",
    "\n",
    "    def forward(self, x: List[int]) -> int:\n",
    "        weight = np.inner(x, [self.weights])\n",
    "        return (weight >= self.threshold).astype(np.int8)"
   ]
  },
  {
   "cell_type": "code",
   "execution_count": null,
   "metadata": {},
   "outputs": [],
   "source": [
    "from itertools import product\n",
    "\n",
    "\n",
    "def test_mcp(mcp: McCullochPitts, num_input_dims: int = 2):\n",
    "    possible_values = [0, 1]\n",
    "    permutations = np.array(list(product(possible_values, repeat=num_input_dims)))\n",
    "    results = mcp.forward(permutations)\n",
    "    for x, y in zip(permutations, results):\n",
    "        print(f\"{x} -> {y}\")\n",
    "    return permutations, results"
   ]
  },
  {
   "cell_type": "code",
   "execution_count": null,
   "metadata": {},
   "outputs": [
    {
     "name": "stdout",
     "output_type": "stream",
     "text": [
      "[0 0] -> [0]\n",
      "[0 1] -> [0]\n",
      "[1 0] -> [0]\n",
      "[1 1] -> [1]\n"
     ]
    }
   ],
   "source": [
    "and_mcp = McCullochPitts(weights=[1, 1], threshold=2.0)\n",
    "\n",
    "test_mcp(and_mcp);"
   ]
  },
  {
   "cell_type": "code",
   "execution_count": null,
   "metadata": {},
   "outputs": [
    {
     "name": "stdout",
     "output_type": "stream",
     "text": [
      "[0 0] -> [0]\n",
      "[0 1] -> [1]\n",
      "[1 0] -> [1]\n",
      "[1 1] -> [1]\n"
     ]
    }
   ],
   "source": [
    "or_mcp = McCullochPitts(weights=[1, 1], threshold=1.0)\n",
    "\n",
    "test_mcp(or_mcp);"
   ]
  },
  {
   "cell_type": "code",
   "execution_count": null,
   "metadata": {},
   "outputs": [
    {
     "name": "stdout",
     "output_type": "stream",
     "text": [
      "[0] -> [1]\n",
      "[1] -> [0]\n"
     ]
    }
   ],
   "source": [
    "not_mcp = McCullochPitts(weights=[-1], threshold=0)\n",
    "\n",
    "test_mcp(not_mcp, num_input_dims=1);"
   ]
  },
  {
   "cell_type": "markdown",
   "metadata": {},
   "source": [
    "```{admonition} Task\n",
    "1. Implement XOR via a McCulloch Pitts neuron\n",
    "```"
   ]
  },
  {
   "cell_type": "markdown",
   "metadata": {},
   "source": [
    "### Taylor network"
   ]
  },
  {
   "cell_type": "markdown",
   "metadata": {},
   "source": [
    "### Fourier network"
   ]
  },
  {
   "cell_type": "markdown",
   "metadata": {},
   "source": []
  }
 ],
 "metadata": {
  "kernelspec": {
   "display_name": "venv",
   "language": "python",
   "name": "python3"
  },
  "language_info": {
   "codemirror_mode": {
    "name": "ipython",
    "version": 3
   },
   "file_extension": ".py",
   "mimetype": "text/x-python",
   "name": "python",
   "nbconvert_exporter": "python",
   "pygments_lexer": "ipython3"
  }
 },
 "nbformat": 4,
 "nbformat_minor": 2
}
